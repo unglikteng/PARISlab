{
 "cells": [
  {
   "cell_type": "code",
   "execution_count": 1,
   "metadata": {
    "collapsed": true
   },
   "outputs": [],
   "source": [
    "import numpy as np\n",
    "import pandas as pd\n",
    "import matplotlib.pyplot as plt\n",
    "\n",
    "from sklearn.model_selection import train_test_split\n",
    "from sklearn.svm import SVR\n",
    "from sklearn import metrics\n",
    "from sklearn.cluster import DBSCAN\n",
    "from sklearn.preprocessing import StandardScaler\n",
    "\n",
    "from mpl_toolkits import mplot3d\n",
    "\n",
    "%matplotlib inline \n"
   ]
  },
  {
   "cell_type": "code",
   "execution_count": 2,
   "metadata": {
    "collapsed": true
   },
   "outputs": [],
   "source": [
    "cas = pd.read_excel(\"C:\\\\Users\\\\Ung Lik Teng\\\\Desktop\\\\Research\\\\UCLA Research\\\\PARISLAB\\\\CAS.xlsx\", header = 2)"
   ]
  },
  {
   "cell_type": "code",
   "execution_count": 5,
   "metadata": {
    "collapsed": true
   },
   "outputs": [],
   "source": [
    "cas_c = pd.read_excel(\"C:\\\\Users\\\\Ung Lik Teng\\\\Desktop\\\\Research\\\\UCLA Research\\\\PARISLAB\\\\CAS_outliers.xlsx\")"
   ]
  },
  {
   "cell_type": "code",
   "execution_count": 16,
   "metadata": {
    "collapsed": true
   },
   "outputs": [],
   "source": [
    "cas_c = cas_c[cas_c.true_out != 1]\n",
    "cas_c.index = range(421)"
   ]
  },
  {
   "cell_type": "code",
   "execution_count": 18,
   "metadata": {},
   "outputs": [
    {
     "data": {
      "text/html": [
       "<div>\n",
       "<style scoped>\n",
       "    .dataframe tbody tr th:only-of-type {\n",
       "        vertical-align: middle;\n",
       "    }\n",
       "\n",
       "    .dataframe tbody tr th {\n",
       "        vertical-align: top;\n",
       "    }\n",
       "\n",
       "    .dataframe thead th {\n",
       "        text-align: right;\n",
       "    }\n",
       "</style>\n",
       "<table border=\"1\" class=\"dataframe\">\n",
       "  <thead>\n",
       "    <tr style=\"text-align: right;\">\n",
       "      <th></th>\n",
       "      <th>CaO</th>\n",
       "      <th>Al2O3</th>\n",
       "      <th>SiO2</th>\n",
       "      <th>molar_volume</th>\n",
       "      <th>density</th>\n",
       "      <th>youngs_modulus</th>\n",
       "      <th>shear_modulus</th>\n",
       "      <th>bulk_modulus</th>\n",
       "      <th>poisson_ratio</th>\n",
       "      <th>fracture_toughess</th>\n",
       "      <th>ref</th>\n",
       "      <th>density_out</th>\n",
       "      <th>molar_volume_out</th>\n",
       "      <th>youngs_modulus_out</th>\n",
       "      <th>shear_modulus_out</th>\n",
       "      <th>bulk_modulus_out</th>\n",
       "      <th>poisson_ratio_out</th>\n",
       "      <th>true_out</th>\n",
       "    </tr>\n",
       "  </thead>\n",
       "  <tbody>\n",
       "    <tr>\n",
       "      <th>0</th>\n",
       "      <td>0.00</td>\n",
       "      <td>0.00</td>\n",
       "      <td>100.00</td>\n",
       "      <td>27.259528</td>\n",
       "      <td>2.204</td>\n",
       "      <td>72.50</td>\n",
       "      <td>31.250000</td>\n",
       "      <td>36.10</td>\n",
       "      <td>0.160</td>\n",
       "      <td>NaN</td>\n",
       "      <td>NaN</td>\n",
       "      <td>1.0</td>\n",
       "      <td>1.0</td>\n",
       "      <td>1.0</td>\n",
       "      <td>1.0</td>\n",
       "      <td>1.0</td>\n",
       "      <td>-1.0</td>\n",
       "      <td>NaN</td>\n",
       "    </tr>\n",
       "    <tr>\n",
       "      <th>1</th>\n",
       "      <td>0.00</td>\n",
       "      <td>0.00</td>\n",
       "      <td>100.00</td>\n",
       "      <td>NaN</td>\n",
       "      <td>2.204</td>\n",
       "      <td>72.52</td>\n",
       "      <td>31.097770</td>\n",
       "      <td>36.11</td>\n",
       "      <td>0.166</td>\n",
       "      <td>NaN</td>\n",
       "      <td>Mater.Res.Bull., 2000, vol. 35, No.</td>\n",
       "      <td>1.0</td>\n",
       "      <td>NaN</td>\n",
       "      <td>1.0</td>\n",
       "      <td>1.0</td>\n",
       "      <td>1.0</td>\n",
       "      <td>-1.0</td>\n",
       "      <td>NaN</td>\n",
       "    </tr>\n",
       "    <tr>\n",
       "      <th>2</th>\n",
       "      <td>63.30</td>\n",
       "      <td>31.70</td>\n",
       "      <td>5.00</td>\n",
       "      <td>23.521194</td>\n",
       "      <td>3.011</td>\n",
       "      <td>99.81</td>\n",
       "      <td>37.806818</td>\n",
       "      <td>92.82</td>\n",
       "      <td>0.320</td>\n",
       "      <td>NaN</td>\n",
       "      <td>NaN</td>\n",
       "      <td>1.0</td>\n",
       "      <td>1.0</td>\n",
       "      <td>1.0</td>\n",
       "      <td>-1.0</td>\n",
       "      <td>1.0</td>\n",
       "      <td>1.0</td>\n",
       "      <td>NaN</td>\n",
       "    </tr>\n",
       "    <tr>\n",
       "      <th>3</th>\n",
       "      <td>60.00</td>\n",
       "      <td>40.00</td>\n",
       "      <td>0.00</td>\n",
       "      <td>25.701119</td>\n",
       "      <td>2.896</td>\n",
       "      <td>112.90</td>\n",
       "      <td>43.895801</td>\n",
       "      <td>86.65</td>\n",
       "      <td>0.286</td>\n",
       "      <td>NaN</td>\n",
       "      <td>NaN</td>\n",
       "      <td>-1.0</td>\n",
       "      <td>-1.0</td>\n",
       "      <td>1.0</td>\n",
       "      <td>1.0</td>\n",
       "      <td>1.0</td>\n",
       "      <td>1.0</td>\n",
       "      <td>NaN</td>\n",
       "    </tr>\n",
       "    <tr>\n",
       "      <th>4</th>\n",
       "      <td>59.26</td>\n",
       "      <td>39.51</td>\n",
       "      <td>1.23</td>\n",
       "      <td>25.738249</td>\n",
       "      <td>2.885</td>\n",
       "      <td>110.68</td>\n",
       "      <td>42.634823</td>\n",
       "      <td>87.57</td>\n",
       "      <td>0.298</td>\n",
       "      <td>NaN</td>\n",
       "      <td>Mater.Chem.Phys., 1999, vol. 58, p. 191-194.</td>\n",
       "      <td>-1.0</td>\n",
       "      <td>-1.0</td>\n",
       "      <td>1.0</td>\n",
       "      <td>1.0</td>\n",
       "      <td>1.0</td>\n",
       "      <td>1.0</td>\n",
       "      <td>NaN</td>\n",
       "    </tr>\n",
       "  </tbody>\n",
       "</table>\n",
       "</div>"
      ],
      "text/plain": [
       "     CaO  Al2O3    SiO2  molar_volume  density  youngs_modulus  shear_modulus  \\\n",
       "0   0.00   0.00  100.00     27.259528    2.204           72.50      31.250000   \n",
       "1   0.00   0.00  100.00           NaN    2.204           72.52      31.097770   \n",
       "2  63.30  31.70    5.00     23.521194    3.011           99.81      37.806818   \n",
       "3  60.00  40.00    0.00     25.701119    2.896          112.90      43.895801   \n",
       "4  59.26  39.51    1.23     25.738249    2.885          110.68      42.634823   \n",
       "\n",
       "   bulk_modulus  poisson_ratio  fracture_toughess  \\\n",
       "0         36.10          0.160                NaN   \n",
       "1         36.11          0.166                NaN   \n",
       "2         92.82          0.320                NaN   \n",
       "3         86.65          0.286                NaN   \n",
       "4         87.57          0.298                NaN   \n",
       "\n",
       "                                            ref  density_out  \\\n",
       "0                                           NaN          1.0   \n",
       "1           Mater.Res.Bull., 2000, vol. 35, No.          1.0   \n",
       "2                                           NaN          1.0   \n",
       "3                                           NaN         -1.0   \n",
       "4  Mater.Chem.Phys., 1999, vol. 58, p. 191-194.         -1.0   \n",
       "\n",
       "   molar_volume_out  youngs_modulus_out  shear_modulus_out  bulk_modulus_out  \\\n",
       "0               1.0                 1.0                1.0               1.0   \n",
       "1               NaN                 1.0                1.0               1.0   \n",
       "2               1.0                 1.0               -1.0               1.0   \n",
       "3              -1.0                 1.0                1.0               1.0   \n",
       "4              -1.0                 1.0                1.0               1.0   \n",
       "\n",
       "   poisson_ratio_out  true_out  \n",
       "0               -1.0       NaN  \n",
       "1               -1.0       NaN  \n",
       "2                1.0       NaN  \n",
       "3                1.0       NaN  \n",
       "4                1.0       NaN  "
      ]
     },
     "execution_count": 18,
     "metadata": {},
     "output_type": "execute_result"
    }
   ],
   "source": [
    "cas_c.head()"
   ]
  },
  {
   "cell_type": "code",
   "execution_count": 22,
   "metadata": {},
   "outputs": [
    {
     "name": "stdout",
     "output_type": "stream",
     "text": [
      "<class 'pandas.core.frame.DataFrame'>\n",
      "RangeIndex: 421 entries, 0 to 420\n",
      "Data columns (total 18 columns):\n",
      "CaO                   421 non-null float64\n",
      "Al2O3                 421 non-null float64\n",
      "SiO2                  421 non-null float64\n",
      "molar_volume          392 non-null float64\n",
      "density               393 non-null float64\n",
      "youngs_modulus        99 non-null float64\n",
      "shear_modulus         64 non-null float64\n",
      "bulk_modulus          62 non-null float64\n",
      "poisson_ratio         63 non-null float64\n",
      "fracture_toughess     14 non-null float64\n",
      "ref                   85 non-null object\n",
      "density_out           393 non-null float64\n",
      "molar_volume_out      392 non-null float64\n",
      "youngs_modulus_out    99 non-null float64\n",
      "shear_modulus_out     64 non-null float64\n",
      "bulk_modulus_out      62 non-null float64\n",
      "poisson_ratio_out     63 non-null float64\n",
      "true_out              0 non-null float64\n",
      "dtypes: float64(17), object(1)\n",
      "memory usage: 59.3+ KB\n"
     ]
    }
   ],
   "source": [
    "cas_c.info()"
   ]
  },
  {
   "cell_type": "code",
   "execution_count": 23,
   "metadata": {
    "collapsed": true
   },
   "outputs": [],
   "source": [
    "cas = cas_c"
   ]
  },
  {
   "cell_type": "code",
   "execution_count": 5,
   "metadata": {},
   "outputs": [
    {
     "data": {
      "text/html": [
       "<div>\n",
       "<style scoped>\n",
       "    .dataframe tbody tr th:only-of-type {\n",
       "        vertical-align: middle;\n",
       "    }\n",
       "\n",
       "    .dataframe tbody tr th {\n",
       "        vertical-align: top;\n",
       "    }\n",
       "\n",
       "    .dataframe thead th {\n",
       "        text-align: right;\n",
       "    }\n",
       "</style>\n",
       "<table border=\"1\" class=\"dataframe\">\n",
       "  <thead>\n",
       "    <tr style=\"text-align: right;\">\n",
       "      <th></th>\n",
       "      <th>CaO</th>\n",
       "      <th>Al2O3</th>\n",
       "      <th>SiO2</th>\n",
       "      <th>Molar volume (cm3/mol)</th>\n",
       "      <th>Unnamed: 9</th>\n",
       "      <th>Unnamed: 12</th>\n",
       "    </tr>\n",
       "  </thead>\n",
       "  <tbody>\n",
       "    <tr>\n",
       "      <th>count</th>\n",
       "      <td>439.000000</td>\n",
       "      <td>438.000000</td>\n",
       "      <td>439.000000</td>\n",
       "      <td>408.000000</td>\n",
       "      <td>0.0</td>\n",
       "      <td>55.000000</td>\n",
       "    </tr>\n",
       "    <tr>\n",
       "      <th>mean</th>\n",
       "      <td>33.737130</td>\n",
       "      <td>20.606416</td>\n",
       "      <td>45.704442</td>\n",
       "      <td>24.677487</td>\n",
       "      <td>NaN</td>\n",
       "      <td>1996.890909</td>\n",
       "    </tr>\n",
       "    <tr>\n",
       "      <th>std</th>\n",
       "      <td>14.179105</td>\n",
       "      <td>10.796242</td>\n",
       "      <td>20.434763</td>\n",
       "      <td>1.725050</td>\n",
       "      <td>NaN</td>\n",
       "      <td>12.791306</td>\n",
       "    </tr>\n",
       "    <tr>\n",
       "      <th>min</th>\n",
       "      <td>0.000000</td>\n",
       "      <td>0.000000</td>\n",
       "      <td>0.000000</td>\n",
       "      <td>20.135441</td>\n",
       "      <td>NaN</td>\n",
       "      <td>1954.000000</td>\n",
       "    </tr>\n",
       "    <tr>\n",
       "      <th>25%</th>\n",
       "      <td>25.000000</td>\n",
       "      <td>10.680000</td>\n",
       "      <td>35.650000</td>\n",
       "      <td>23.417897</td>\n",
       "      <td>NaN</td>\n",
       "      <td>1989.000000</td>\n",
       "    </tr>\n",
       "    <tr>\n",
       "      <th>50%</th>\n",
       "      <td>32.110000</td>\n",
       "      <td>20.000000</td>\n",
       "      <td>50.000000</td>\n",
       "      <td>24.900000</td>\n",
       "      <td>NaN</td>\n",
       "      <td>1999.000000</td>\n",
       "    </tr>\n",
       "    <tr>\n",
       "      <th>75%</th>\n",
       "      <td>42.550000</td>\n",
       "      <td>28.847500</td>\n",
       "      <td>60.000000</td>\n",
       "      <td>25.950838</td>\n",
       "      <td>NaN</td>\n",
       "      <td>2005.500000</td>\n",
       "    </tr>\n",
       "    <tr>\n",
       "      <th>max</th>\n",
       "      <td>67.000000</td>\n",
       "      <td>55.000000</td>\n",
       "      <td>100.000000</td>\n",
       "      <td>28.664089</td>\n",
       "      <td>NaN</td>\n",
       "      <td>2017.000000</td>\n",
       "    </tr>\n",
       "  </tbody>\n",
       "</table>\n",
       "</div>"
      ],
      "text/plain": [
       "              CaO       Al2O3        SiO2  Molar volume (cm3/mol)  Unnamed: 9  \\\n",
       "count  439.000000  438.000000  439.000000              408.000000         0.0   \n",
       "mean    33.737130   20.606416   45.704442               24.677487         NaN   \n",
       "std     14.179105   10.796242   20.434763                1.725050         NaN   \n",
       "min      0.000000    0.000000    0.000000               20.135441         NaN   \n",
       "25%     25.000000   10.680000   35.650000               23.417897         NaN   \n",
       "50%     32.110000   20.000000   50.000000               24.900000         NaN   \n",
       "75%     42.550000   28.847500   60.000000               25.950838         NaN   \n",
       "max     67.000000   55.000000  100.000000               28.664089         NaN   \n",
       "\n",
       "       Unnamed: 12  \n",
       "count    55.000000  \n",
       "mean   1996.890909  \n",
       "std      12.791306  \n",
       "min    1954.000000  \n",
       "25%    1989.000000  \n",
       "50%    1999.000000  \n",
       "75%    2005.500000  \n",
       "max    2017.000000  "
      ]
     },
     "execution_count": 5,
     "metadata": {},
     "output_type": "execute_result"
    }
   ],
   "source": [
    "cas.describe()"
   ]
  },
  {
   "cell_type": "code",
   "execution_count": 6,
   "metadata": {
    "collapsed": true
   },
   "outputs": [],
   "source": [
    "cas = cas.drop([\"Unnamed: 9\", \"Unnamed: 12\",\"Unnamed: 13\"], axis = 1)\n"
   ]
  },
  {
   "cell_type": "code",
   "execution_count": 7,
   "metadata": {},
   "outputs": [
    {
     "data": {
      "text/plain": [
       "CaO                       16.618000\n",
       "Al2O3                      7.666000\n",
       "SiO2                      10.184000\n",
       "Molar volume (cm3/mol)    22.308717\n",
       "Name: 0.1, dtype: float64"
      ]
     },
     "execution_count": 7,
     "metadata": {},
     "output_type": "execute_result"
    }
   ],
   "source": [
    "cas.quantile(0.1)"
   ]
  },
  {
   "cell_type": "code",
   "execution_count": 8,
   "metadata": {},
   "outputs": [
    {
     "data": {
      "text/plain": [
       "CaO                                   44\n",
       "Al2O3                                 43\n",
       "SiO2                                  44\n",
       "Molar volume (cm3/mol)                36\n",
       "Density ρ (g/cm3)                     37\n",
       "Young's modulus E (GPa)               36\n",
       "Shear modulus G (GPa)                 33\n",
       "Bulk modulus G (GPa)                  33\n",
       "Poisson's ratio                       33\n",
       "Fracture toughness Kic (Mpa.m^1/2)    26\n",
       "Ref                                   11\n",
       "dtype: int64"
      ]
     },
     "execution_count": 8,
     "metadata": {},
     "output_type": "execute_result"
    }
   ],
   "source": [
    "cas[cas['CaO']<= 16.618].count()"
   ]
  },
  {
   "cell_type": "code",
   "execution_count": 9,
   "metadata": {
    "scrolled": true
   },
   "outputs": [
    {
     "name": "stdout",
     "output_type": "stream",
     "text": [
      "<class 'pandas.core.frame.DataFrame'>\n",
      "RangeIndex: 439 entries, 0 to 438\n",
      "Data columns (total 11 columns):\n",
      "CaO                                   439 non-null float64\n",
      "Al2O3                                 438 non-null float64\n",
      "SiO2                                  439 non-null float64\n",
      "Molar volume (cm3/mol)                408 non-null float64\n",
      "Density ρ (g/cm3)                     419 non-null object\n",
      "Young's modulus E (GPa)               354 non-null object\n",
      "Shear modulus G (GPa)                 336 non-null object\n",
      "Bulk modulus G (GPa)                  335 non-null object\n",
      "Poisson's ratio                       335 non-null object\n",
      "Fracture toughness Kic (Mpa.m^1/2)    308 non-null object\n",
      "Ref                                   91 non-null object\n",
      "dtypes: float64(4), object(7)\n",
      "memory usage: 37.8+ KB\n"
     ]
    }
   ],
   "source": [
    "cas.info()"
   ]
  },
  {
   "cell_type": "code",
   "execution_count": 10,
   "metadata": {},
   "outputs": [
    {
     "data": {
      "text/plain": [
       "68"
      ]
     },
     "execution_count": 10,
     "metadata": {},
     "output_type": "execute_result"
    }
   ],
   "source": [
    "pd.to_numeric(cas[\"Poisson's ratio\"], errors = 'coerce').count()"
   ]
  },
  {
   "cell_type": "code",
   "execution_count": 11,
   "metadata": {
    "collapsed": true
   },
   "outputs": [],
   "source": [
    "cas[\"Poisson's ratio\"] = pd.to_numeric(cas[\"Poisson's ratio\"], errors = 'coerce')"
   ]
  },
  {
   "cell_type": "code",
   "execution_count": 12,
   "metadata": {
    "collapsed": true
   },
   "outputs": [],
   "source": [
    "newname = ['CaO', 'Al2O3', 'SiO2', 'molar_volume', 'density', 'youngs_modulus', 'shear_modulus', 'bulk_modulus', 'poisson_ratio', 'fracture_toughess', 'ref']"
   ]
  },
  {
   "cell_type": "code",
   "execution_count": 13,
   "metadata": {
    "collapsed": true
   },
   "outputs": [],
   "source": [
    "cas.columns = newname"
   ]
  },
  {
   "cell_type": "code",
   "execution_count": 14,
   "metadata": {
    "collapsed": true
   },
   "outputs": [],
   "source": [
    "##Converting column type to float \n",
    "cas.iloc[:, 4:10] = cas.iloc[:, 4:10].apply(pd.to_numeric, errors = 'coerce', axis = 1)"
   ]
  },
  {
   "cell_type": "code",
   "execution_count": 15,
   "metadata": {},
   "outputs": [
    {
     "data": {
      "text/plain": [
       "Index(['CaO', 'Al2O3', 'SiO2', 'molar_volume', 'density', 'youngs_modulus',\n",
       "       'shear_modulus', 'bulk_modulus', 'poisson_ratio', 'fracture_toughess',\n",
       "       'ref'],\n",
       "      dtype='object')"
      ]
     },
     "execution_count": 15,
     "metadata": {},
     "output_type": "execute_result"
    }
   ],
   "source": [
    "cas.columns"
   ]
  },
  {
   "cell_type": "code",
   "execution_count": null,
   "metadata": {
    "collapsed": true
   },
   "outputs": [],
   "source": [
    "cas.iloc[:,0:10].dropna()"
   ]
  },
  {
   "cell_type": "code",
   "execution_count": null,
   "metadata": {
    "collapsed": true
   },
   "outputs": [],
   "source": [
    "## Training a SVR model for youngs modulus \n",
    "cas_youngsm = cas.loc[:, ['CaO', 'Al2O3', 'SiO2', 'youngs_modulus']]"
   ]
  },
  {
   "cell_type": "code",
   "execution_count": null,
   "metadata": {
    "collapsed": true
   },
   "outputs": [],
   "source": [
    "cas_youngsm = cas_youngsm.dropna()"
   ]
  },
  {
   "cell_type": "code",
   "execution_count": null,
   "metadata": {
    "collapsed": true
   },
   "outputs": [],
   "source": [
    "cas_youngsm.index = range(104)"
   ]
  },
  {
   "cell_type": "code",
   "execution_count": null,
   "metadata": {
    "collapsed": true
   },
   "outputs": [],
   "source": [
    "cas_youngsm.head()"
   ]
  },
  {
   "cell_type": "code",
   "execution_count": null,
   "metadata": {
    "collapsed": true
   },
   "outputs": [],
   "source": [
    "x = np.arange(75,160, 0.01)\n",
    "y = np.arange(75,160, 0.01)"
   ]
  },
  {
   "cell_type": "code",
   "execution_count": null,
   "metadata": {
    "collapsed": true
   },
   "outputs": [],
   "source": [
    "np.max(y_train)"
   ]
  },
  {
   "cell_type": "code",
   "execution_count": null,
   "metadata": {
    "collapsed": true
   },
   "outputs": [],
   "source": [
    "cas_youngsm_X = cas_youngsm.iloc[:,0:2].values\n",
    "cas_youngsm_Y = cas_youngsm['youngs_modulus'].values"
   ]
  },
  {
   "cell_type": "code",
   "execution_count": null,
   "metadata": {
    "collapsed": true
   },
   "outputs": [],
   "source": [
    "X_train, X_test, y_train, y_test = train_test_split(cas_youngsm_X, cas_youngsm_Y, test_size=0.3, random_state=42)"
   ]
  },
  {
   "cell_type": "code",
   "execution_count": null,
   "metadata": {
    "collapsed": true
   },
   "outputs": [],
   "source": [
    "sv_regressor = SVR(kernel='rbf', C= 1e4, gamma =0.1)"
   ]
  },
  {
   "cell_type": "code",
   "execution_count": null,
   "metadata": {
    "collapsed": true
   },
   "outputs": [],
   "source": [
    "sv_regressor.fit(X_train, y_train)"
   ]
  },
  {
   "cell_type": "code",
   "execution_count": null,
   "metadata": {
    "collapsed": true
   },
   "outputs": [],
   "source": [
    "sv_regressor.predict(X_test)"
   ]
  },
  {
   "cell_type": "code",
   "execution_count": null,
   "metadata": {
    "collapsed": true
   },
   "outputs": [],
   "source": [
    "y_test"
   ]
  },
  {
   "cell_type": "code",
   "execution_count": null,
   "metadata": {
    "collapsed": true
   },
   "outputs": [],
   "source": [
    "predicted = sv_regressor.predict(X_test)"
   ]
  },
  {
   "cell_type": "code",
   "execution_count": null,
   "metadata": {
    "collapsed": true
   },
   "outputs": [],
   "source": [
    "sv_regressor.score(X_test, y_test)"
   ]
  },
  {
   "cell_type": "code",
   "execution_count": null,
   "metadata": {
    "collapsed": true
   },
   "outputs": [],
   "source": [
    "plt.scatter(predicted, y_test)\n",
    "plt.plot(x,y)"
   ]
  },
  {
   "cell_type": "code",
   "execution_count": null,
   "metadata": {
    "collapsed": true
   },
   "outputs": [],
   "source": [
    "plt.scatter(cas['CaO'].values, cas['Al2O3'])"
   ]
  },
  {
   "cell_type": "code",
   "execution_count": null,
   "metadata": {
    "collapsed": true
   },
   "outputs": [],
   "source": [
    "fig = plt.figure()\n",
    "ax = plt.axes(projection = '3d')"
   ]
  },
  {
   "cell_type": "code",
   "execution_count": null,
   "metadata": {
    "collapsed": true
   },
   "outputs": [],
   "source": [
    "ax = plt.axes(projection = '3d')\n",
    "ax.scatter3D(cas['CaO'].values, cas['Al2O3'], cas['density'])"
   ]
  },
  {
   "cell_type": "code",
   "execution_count": null,
   "metadata": {
    "collapsed": true
   },
   "outputs": [],
   "source": [
    "cas.info()"
   ]
  },
  {
   "cell_type": "code",
   "execution_count": null,
   "metadata": {
    "collapsed": true,
    "scrolled": true
   },
   "outputs": [],
   "source": [
    "#Density\n",
    "\n",
    "X = cas[['CaO', 'Al2O3', 'density']].dropna()\n",
    "X = X.as_matrix()\n",
    "X = StandardScaler().fit_transform(X)\n",
    "\n",
    "db = DBSCAN(eps =0.5 , min_samples = 10).fit(X)\n",
    "\n",
    "cluster_labels = db.labels_\n",
    "cluster_labels\n",
    "\n",
    "unique_labels = set(cluster_labels)\n",
    "num_clusters = len(set(cluster_labels))\n",
    "num_clusters\n",
    "\n",
    "fig = plt.figure()\n",
    "ax = plt.axes(projection = '3d')\n",
    "\n",
    "colors = plt.cm.rainbow(np.linspace(0, 1, len(unique_labels)))\n",
    "\n",
    "for cluster_label, color in zip(unique_labels, colors):\n",
    "    \n",
    "    size = 150\n",
    "    if cluster_label == -1: #make the noise (which is labeled -1) appear as smaller gray points\n",
    "        colors = 'gray'\n",
    "        size = 30\n",
    "    \n",
    "    # plot the points that match the current cluster label\n",
    "    x_coords = X[cluster_labels==cluster_label][:,1]\n",
    "    y_coords = X[cluster_labels==cluster_label][:,0]\n",
    "    z_coords = X[cluster_labels==cluster_label][:,2]\n",
    "    ax.scatter3D(x_coords, y_coords, z_coords, c=color, edgecolor='k', s=size, alpha=0.5)"
   ]
  },
  {
   "cell_type": "code",
   "execution_count": null,
   "metadata": {
    "collapsed": true
   },
   "outputs": [],
   "source": [
    "from sklearn.neighbors import NearestNeighbors\n",
    "\n",
    "ns = 10\n",
    "nbrs = NearestNeighbors(n_neighbors=ns).fit(X)\n",
    "distances, indices = nbrs.kneighbors(X)\n",
    "distanceDec = sorted(distances[:,ns-1], reverse=True)\n",
    "plt.plot(list(range(1,408+1)), distanceDec)"
   ]
  },
  {
   "cell_type": "code",
   "execution_count": null,
   "metadata": {
    "collapsed": true
   },
   "outputs": [],
   "source": [
    "X = cas[['CaO', 'Al2O3', 'density']].dropna()\n",
    "X[cluster_labels==-1]"
   ]
  },
  {
   "cell_type": "code",
   "execution_count": null,
   "metadata": {
    "collapsed": true
   },
   "outputs": [],
   "source": [
    "sum(cluster_labels==-1)"
   ]
  },
  {
   "cell_type": "code",
   "execution_count": null,
   "metadata": {
    "collapsed": true
   },
   "outputs": [],
   "source": [
    "cas.info()"
   ]
  },
  {
   "cell_type": "code",
   "execution_count": null,
   "metadata": {
    "collapsed": true
   },
   "outputs": [],
   "source": [
    "#Molar Volume\n",
    "\n",
    "X = cas[['CaO', 'Al2O3', 'molar_volume']].dropna()\n",
    "X = X.as_matrix()\n",
    "X = StandardScaler().fit_transform(X)\n",
    "\n",
    "db = DBSCAN(eps =0.5 , min_samples = 10).fit(X)\n",
    "\n",
    "cluster_labels = db.labels_\n",
    "cluster_labels\n",
    "\n",
    "unique_labels = set(cluster_labels)\n",
    "num_clusters = len(set(cluster_labels))\n",
    "num_clusters\n",
    "\n",
    "fig = plt.figure()\n",
    "ax = plt.axes(projection = '3d')\n",
    "\n",
    "colors = plt.cm.rainbow(np.linspace(0, 1, len(unique_labels)))\n",
    "\n",
    "for cluster_label, color in zip(unique_labels, colors):\n",
    "    \n",
    "    size = 150\n",
    "    if cluster_label == -1: #make the noise (which is labeled -1) appear as smaller gray points\n",
    "        colors = 'gray'\n",
    "        size = 30\n",
    "    \n",
    "    # plot the points that match the current cluster label\n",
    "    x_coords = X[cluster_labels==cluster_label][:,1]\n",
    "    y_coords = X[cluster_labels==cluster_label][:,0]\n",
    "    z_coords = X[cluster_labels==cluster_label][:,2]\n",
    "    ax.scatter3D(x_coords, y_coords, z_coords, c=color, edgecolor='k', s=size, alpha=0.5)"
   ]
  },
  {
   "cell_type": "code",
   "execution_count": null,
   "metadata": {
    "collapsed": true
   },
   "outputs": [],
   "source": [
    "#Youngs_Modulus\n",
    "\n",
    "X = cas[['CaO', 'Al2O3', 'youngs_modulus']].dropna()\n",
    "X = X.as_matrix()\n",
    "X = StandardScaler().fit_transform(X)\n",
    "\n",
    "db = DBSCAN(eps =0.5 , min_samples = 4).fit(X)\n",
    "\n",
    "cluster_labels = db.labels_\n",
    "cluster_labels\n",
    "\n",
    "unique_labels = set(cluster_labels)\n",
    "num_clusters = len(set(cluster_labels))\n",
    "num_clusters\n",
    "\n",
    "fig = plt.figure()\n",
    "ax = plt.axes(projection = '3d')\n",
    "\n",
    "colors = plt.cm.rainbow(np.linspace(0, 1, len(unique_labels)))\n",
    "\n",
    "for cluster_label, color in zip(unique_labels, colors):\n",
    "    \n",
    "    size = 150\n",
    "    if cluster_label == -1: #make the noise (which is labeled -1) appear as smaller gray points\n",
    "        colors = 'gray'\n",
    "        size = 30\n",
    "    \n",
    "    # plot the points that match the current cluster label\n",
    "    x_coords = X[cluster_labels==cluster_label][:,1]\n",
    "    y_coords = X[cluster_labels==cluster_label][:,0]\n",
    "    z_coords = X[cluster_labels==cluster_label][:,2]\n",
    "    ax.scatter3D(x_coords, y_coords, z_coords, c=color, edgecolor='k', s=size, alpha=0.5)"
   ]
  },
  {
   "cell_type": "code",
   "execution_count": null,
   "metadata": {
    "collapsed": true
   },
   "outputs": [],
   "source": [
    "#shear_modulus\n",
    "\n",
    "X = cas[['CaO', 'Al2O3', 'shear_modulus']].dropna()\n",
    "X = X.as_matrix()\n",
    "X = StandardScaler().fit_transform(X)\n",
    "\n",
    "db = DBSCAN(eps =0.5 , min_samples = 4).fit(X)\n",
    "\n",
    "cluster_labels = db.labels_\n",
    "cluster_labels\n",
    "\n",
    "unique_labels = set(cluster_labels)\n",
    "num_clusters = len(set(cluster_labels))\n",
    "num_clusters\n",
    "\n",
    "fig = plt.figure()\n",
    "ax = plt.axes(projection = '3d')\n",
    "\n",
    "colors = plt.cm.rainbow(np.linspace(0, 1, len(unique_labels)))\n",
    "\n",
    "for cluster_label, color in zip(unique_labels, colors):\n",
    "    \n",
    "    size = 150\n",
    "    if cluster_label == -1: #make the noise (which is labeled -1) appear as smaller gray points\n",
    "        colors = 'gray'\n",
    "        size = 30\n",
    "    \n",
    "    # plot the points that match the current cluster label\n",
    "    x_coords = X[cluster_labels==cluster_label][:,1]\n",
    "    y_coords = X[cluster_labels==cluster_label][:,0]\n",
    "    z_coords = X[cluster_labels==cluster_label][:,2]\n",
    "    ax.scatter3D(x_coords, y_coords, z_coords, c=color, edgecolor='k', s=size, alpha=0.5)"
   ]
  },
  {
   "cell_type": "code",
   "execution_count": null,
   "metadata": {
    "collapsed": true
   },
   "outputs": [],
   "source": [
    "#Bulk modulus\n",
    "\n",
    "X = cas[['CaO', 'Al2O3', 'bulk_modulus']].dropna()\n",
    "X = X.as_matrix()\n",
    "X = StandardScaler().fit_transform(X)\n",
    "\n",
    "db = DBSCAN(eps =0.5 , min_samples = 8).fit(X)\n",
    "\n",
    "cluster_labels = db.labels_\n",
    "cluster_labels\n",
    "\n",
    "unique_labels = set(cluster_labels)\n",
    "num_clusters = len(set(cluster_labels))\n",
    "num_clusters\n",
    "\n",
    "fig = plt.figure()\n",
    "ax = plt.axes(projection = '3d')\n",
    "\n",
    "colors = plt.cm.rainbow(np.linspace(0, 1, len(unique_labels)))\n",
    "\n",
    "for cluster_label, color in zip(unique_labels, colors):\n",
    "    \n",
    "    size = 150\n",
    "    if cluster_label == -1: #make the noise (which is labeled -1) appear as smaller gray points\n",
    "        colors = 'gray'\n",
    "        size = 30\n",
    "    \n",
    "    # plot the points that match the current cluster label\n",
    "    x_coords = X[cluster_labels==cluster_label][:,1]\n",
    "    y_coords = X[cluster_labels==cluster_label][:,0]\n",
    "    z_coords = X[cluster_labels==cluster_label][:,2]\n",
    "    ax.scatter3D(x_coords, y_coords, z_coords, c=color, edgecolor='k', s=size, alpha=0.5)"
   ]
  },
  {
   "cell_type": "code",
   "execution_count": null,
   "metadata": {
    "collapsed": true
   },
   "outputs": [],
   "source": [
    "#Poisson Ratio\n",
    "\n",
    "X = cas[['CaO', 'Al2O3', 'poisson_ratio']].dropna()\n",
    "X = X.as_matrix()\n",
    "X = StandardScaler().fit_transform(X)\n",
    "\n",
    "db = DBSCAN(eps =0.5 , min_samples = 5).fit(X)\n",
    "\n",
    "cluster_labels = db.labels_\n",
    "cluster_labels\n",
    "\n",
    "unique_labels = set(cluster_labels)\n",
    "num_clusters = len(set(cluster_labels))\n",
    "num_clusters\n",
    "\n",
    "fig = plt.figure()\n",
    "ax = plt.axes(projection = '3d')\n",
    "\n",
    "colors = plt.cm.rainbow(np.linspace(0, 1, len(unique_labels)))\n",
    "\n",
    "for cluster_label, color in zip(unique_labels, colors):\n",
    "    \n",
    "    size = 150\n",
    "    if cluster_label == -1: #make the noise (which is labeled -1) appear as smaller gray points\n",
    "        colors = 'gray'\n",
    "        size = 30\n",
    "    \n",
    "    # plot the points that match the current cluster label\n",
    "    x_coords = X[cluster_labels==cluster_label][:,1]\n",
    "    y_coords = X[cluster_labels==cluster_label][:,0]\n",
    "    z_coords = X[cluster_labels==cluster_label][:,2]\n",
    "    ax.scatter3D(x_coords, y_coords, z_coords, c=color, edgecolor='k', s=size, alpha=0.5)"
   ]
  },
  {
   "cell_type": "code",
   "execution_count": null,
   "metadata": {
    "collapsed": true
   },
   "outputs": [],
   "source": [
    "#Frature Toughness\n",
    "\n",
    "X = cas[['CaO', 'Al2O3', 'fracture_toughess']].dropna()\n",
    "X = X.as_matrix()\n",
    "X = StandardScaler().fit_transform(X)\n",
    "\n",
    "db = DBSCAN(eps =0.5 , min_samples =3).fit(X)\n",
    "\n",
    "cluster_labels = db.labels_\n",
    "cluster_labels\n",
    "\n",
    "unique_labels = set(cluster_labels)\n",
    "num_clusters = len(set(cluster_labels))\n",
    "num_clusters\n",
    "\n",
    "fig = plt.figure()\n",
    "ax = plt.axes(projection = '3d')\n",
    "\n",
    "colors = plt.cm.rainbow(np.linspace(0, 1, len(unique_labels)))\n",
    "\n",
    "for cluster_label, color in zip(unique_labels, colors):\n",
    "    \n",
    "    size = 150\n",
    "    if cluster_label == -1: #make the noise (which is labeled -1) appear as smaller gray points\n",
    "        colors = 'gray'\n",
    "        size = 30\n",
    "    \n",
    "    # plot the points that match the current cluster label\n",
    "    x_coords = X[cluster_labels==cluster_label][:,1]\n",
    "    y_coords = X[cluster_labels==cluster_label][:,0]\n",
    "    z_coords = X[cluster_labels==cluster_label][:,2]\n",
    "    ax.scatter3D(x_coords, y_coords, z_coords, c=color, edgecolor='k', s=size, alpha=0.5)"
   ]
  },
  {
   "cell_type": "code",
   "execution_count": null,
   "metadata": {
    "collapsed": true
   },
   "outputs": [],
   "source": [
    "metrics.silhouette_score(X, cluster_labels)"
   ]
  },
  {
   "cell_type": "code",
   "execution_count": null,
   "metadata": {
    "collapsed": true
   },
   "outputs": [],
   "source": [
    "core_points = db.core_sample_indices_\n",
    "core_points"
   ]
  },
  {
   "cell_type": "code",
   "execution_count": null,
   "metadata": {
    "collapsed": true
   },
   "outputs": [],
   "source": [
    "cas.to_csv('cas.csv')"
   ]
  },
  {
   "cell_type": "markdown",
   "metadata": {},
   "source": [
    "# Other Outlier Detection Methods \n",
    "## 1. Robust estimator of covaraiance\n",
    "- assume data are Gaussian distrubuted \n",
    "\n",
    "## 2. One-Class SVM \n",
    "- perform better when data is strongly non-Gaussian \n",
    "\n",
    "## 3. Isolation Forest Algorithm \n",
    "- based on random forest and adapted to large-dimensional settings\n",
    "\n"
   ]
  },
  {
   "cell_type": "code",
   "execution_count": 24,
   "metadata": {
    "collapsed": true
   },
   "outputs": [],
   "source": [
    "from scipy import stats\n",
    "import matplotlib.font_manager\n",
    "from mpl_toolkits.mplot3d import axes3d\n",
    "from matplotlib import cm\n",
    "\n",
    "from sklearn import svm\n",
    "from sklearn.covariance import EllipticEnvelope\n",
    "from sklearn.ensemble import IsolationForest\n",
    "from sklearn.neighbors import LocalOutlierFactor"
   ]
  },
  {
   "cell_type": "code",
   "execution_count": 25,
   "metadata": {},
   "outputs": [
    {
     "name": "stdout",
     "output_type": "stream",
     "text": [
      "Automatically created module for IPython interactive environment\n"
     ]
    }
   ],
   "source": [
    "print(__doc__)"
   ]
  },
  {
   "cell_type": "code",
   "execution_count": 26,
   "metadata": {
    "collapsed": true
   },
   "outputs": [],
   "source": [
    "rng = np.random.RandomState(42)"
   ]
  },
  {
   "cell_type": "code",
   "execution_count": 62,
   "metadata": {
    "collapsed": true
   },
   "outputs": [],
   "source": [
    "cas.iloc[52, 1] = 0\n"
   ]
  },
  {
   "cell_type": "code",
   "execution_count": 27,
   "metadata": {
    "collapsed": true
   },
   "outputs": [],
   "source": [
    "X = cas[['CaO', 'Al2O3', 'density']].dropna()\n",
    "X = X.as_matrix()\n",
    "X = StandardScaler().fit_transform(X)"
   ]
  },
  {
   "cell_type": "markdown",
   "metadata": {},
   "source": [
    "## Isolation Forest"
   ]
  },
  {
   "cell_type": "code",
   "execution_count": null,
   "metadata": {
    "collapsed": true
   },
   "outputs": [],
   "source": [
    "clf = IsolationForest(random_state = rng)\n",
    "clf.fit(X)"
   ]
  },
  {
   "cell_type": "code",
   "execution_count": null,
   "metadata": {
    "collapsed": true
   },
   "outputs": [],
   "source": [
    "y_pred = clf.predict(X)"
   ]
  },
  {
   "cell_type": "code",
   "execution_count": null,
   "metadata": {
    "collapsed": true
   },
   "outputs": [],
   "source": [
    "y_pred == -1"
   ]
  },
  {
   "cell_type": "code",
   "execution_count": null,
   "metadata": {
    "collapsed": true
   },
   "outputs": [],
   "source": [
    "fig = plt.figure()\n",
    "ax = fig.add_subplot(111, projection = '3d')\n",
    "\n",
    "ax.scatter(X[:,0], X[:,1], zs = X[:,2], s =4, lw = 0, label = \"inliers\")\n",
    "\n",
    "ax.scatter(X[y_pred == -1,0], X[y_pred == -1,1], zs = X[y_pred == -1,2], s =60, lw = 2, marker = \"x\", c= \"red\", label = \"outliers\")"
   ]
  },
  {
   "cell_type": "markdown",
   "metadata": {},
   "source": [
    "## Elliptic Envelope"
   ]
  },
  {
   "cell_type": "code",
   "execution_count": 28,
   "metadata": {
    "collapsed": true
   },
   "outputs": [],
   "source": [
    "outlier_frac = 0.035\n",
    "EllEnv = EllipticEnvelope(contamination = outlier_frac)"
   ]
  },
  {
   "cell_type": "code",
   "execution_count": 21,
   "metadata": {},
   "outputs": [
    {
     "name": "stdout",
     "output_type": "stream",
     "text": [
      "<class 'pandas.core.frame.DataFrame'>\n",
      "RangeIndex: 439 entries, 0 to 438\n",
      "Data columns (total 11 columns):\n",
      "CaO                  439 non-null float64\n",
      "Al2O3                438 non-null float64\n",
      "SiO2                 439 non-null float64\n",
      "molar_volume         408 non-null float64\n",
      "density              409 non-null float64\n",
      "youngs_modulus       105 non-null float64\n",
      "shear_modulus        69 non-null float64\n",
      "bulk_modulus         67 non-null float64\n",
      "poisson_ratio        68 non-null float64\n",
      "fracture_toughess    16 non-null float64\n",
      "ref                  91 non-null object\n",
      "dtypes: float64(10), object(1)\n",
      "memory usage: 37.8+ KB\n"
     ]
    }
   ],
   "source": [
    "cas.info()"
   ]
  },
  {
   "cell_type": "code",
   "execution_count": 29,
   "metadata": {},
   "outputs": [
    {
     "data": {
      "text/plain": [
       "13"
      ]
     },
     "execution_count": 29,
     "metadata": {},
     "output_type": "execute_result"
    }
   ],
   "source": [
    "#DENSITY\n",
    "X = cas[['CaO', 'Al2O3', 'density']].dropna()\n",
    "X = X.as_matrix()\n",
    "X = StandardScaler().fit_transform(X)\n",
    "\n",
    "EllEnv.fit(X)\n",
    "ellip_pred = EllEnv.predict(X)\n",
    "sum(ellip_pred == -1)"
   ]
  },
  {
   "cell_type": "code",
   "execution_count": 30,
   "metadata": {},
   "outputs": [
    {
     "data": {
      "text/plain": [
       "(-0.55914115905342854, 3.8121645872042071)"
      ]
     },
     "execution_count": 30,
     "metadata": {},
     "output_type": "execute_result"
    }
   ],
   "source": [
    "ellip_decision = EllEnv.decision_function(X)\n",
    "ellip_decision.min(), ellip_decision.max()"
   ]
  },
  {
   "cell_type": "code",
   "execution_count": 31,
   "metadata": {},
   "outputs": [
    {
     "data": {
      "text/plain": [
       "array([[-2.42043468, -1.91124875, -3.59655207],\n",
       "       [-2.42043468, -1.91124875, -3.59655207],\n",
       "       [ 2.14771451,  1.01049636,  1.85397742],\n",
       "       ..., \n",
       "       [-1.97155809, -1.33335153, -3.08324322],\n",
       "       [-2.42043468, -1.91124875, -3.60330614],\n",
       "       [-2.42043468, -1.91124875, -3.59655207]])"
      ]
     },
     "execution_count": 31,
     "metadata": {},
     "output_type": "execute_result"
    }
   ],
   "source": [
    "X"
   ]
  },
  {
   "cell_type": "code",
   "execution_count": 32,
   "metadata": {},
   "outputs": [
    {
     "data": {
      "text/plain": [
       "0.0"
      ]
     },
     "execution_count": 32,
     "metadata": {},
     "output_type": "execute_result"
    }
   ],
   "source": [
    "# Get the \"thresholding\" value from the decision function\n",
    "threshold = stats.scoreatpercentile(EllEnv.decision_function(X), 100*outlier_frac)\n",
    "threshold"
   ]
  },
  {
   "cell_type": "code",
   "execution_count": 33,
   "metadata": {},
   "outputs": [
    {
     "data": {
      "text/plain": [
       "<mpl_toolkits.mplot3d.art3d.Path3DCollection at 0x20ac7568160>"
      ]
     },
     "execution_count": 33,
     "metadata": {},
     "output_type": "execute_result"
    },
    {
     "data": {
      "image/png": "[encoded data removed]",
      "text/plain": [
       "<matplotlib.figure.Figure at 0x20ac6e43550>"
      ]
     },
     "metadata": {},
     "output_type": "display_data"
    }
   ],
   "source": [
    "fig = plt.figure()\n",
    "ax = fig.add_subplot(111, projection = '3d')\n",
    "\n",
    "ax.scatter(X[:,0], X[:,1], zs = X[:,2], s =4, lw = 0, label = \"inliers\")\n",
    "\n",
    "ax.scatter(X[ellip_pred == -1,0], X[ellip_pred == -1,1], zs = X[ellip_pred == -1,2], s =60, lw = 2, marker = \"x\", c= \"red\", label = \"outliers\")"
   ]
  },
  {
   "cell_type": "code",
   "execution_count": 72,
   "metadata": {
    "collapsed": true
   },
   "outputs": [],
   "source": [
    "cas['density_out'] = 'NaN'"
   ]
  },
  {
   "cell_type": "code",
   "execution_count": 73,
   "metadata": {},
   "outputs": [
    {
     "data": {
      "text/plain": [
       "409"
      ]
     },
     "execution_count": 73,
     "metadata": {},
     "output_type": "execute_result"
    }
   ],
   "source": [
    "len(ellip_pred)"
   ]
  },
  {
   "cell_type": "code",
   "execution_count": 85,
   "metadata": {},
   "outputs": [
    {
     "name": "stderr",
     "output_type": "stream",
     "text": [
      "C:\\Users\\Ung Lik Teng\\Anaconda3\\lib\\site-packages\\ipykernel_launcher.py:1: SettingWithCopyWarning: \n",
      "A value is trying to be set on a copy of a slice from a DataFrame\n",
      "\n",
      "See the caveats in the documentation: http://pandas.pydata.org/pandas-docs/stable/indexing.html#indexing-view-versus-copy\n",
      "  \"\"\"Entry point for launching an IPython kernel.\n"
     ]
    }
   ],
   "source": [
    "cas.density_out[cas.density.notnull()] = ellip_pred"
   ]
  },
  {
   "cell_type": "code",
   "execution_count": 66,
   "metadata": {
    "collapsed": true
   },
   "outputs": [],
   "source": [
    "# First make a meshgrid for the (x1, x2) feature space\n",
    "x1s = np.linspace(np.min(X[:, 0])-5, np.max(X[:, 0])+5, 15)\n",
    "x2s = np.linspace(np.min(X[:, 1])-5, np.max(X[:, 1])+5, 15)\n",
    "x3s = np.linspace(np.min(X[:, 1])-5, np.max(X[:, 1])+5, 15)\n",
    "x1grid, x2grid , x3grid= np.meshgrid(x1s, x2s, x3s)"
   ]
  },
  {
   "cell_type": "code",
   "execution_count": 48,
   "metadata": {},
   "outputs": [
    {
     "data": {
      "text/plain": [
       "(15, 15)"
      ]
     },
     "execution_count": 48,
     "metadata": {},
     "output_type": "execute_result"
    }
   ],
   "source": [
    "x1s = np.linspace(np.min(X[:, 0])-5, np.max(X[:, 0])+5, 15)\n",
    "x2s = np.linspace(np.min(X[:, 1])-5, np.max(X[:, 1])+5, 15)\n",
    "x1grid, x2grid = np.meshgrid(x1s, x2s) \n",
    "x1grid.shape"
   ]
  },
  {
   "cell_type": "code",
   "execution_count": 67,
   "metadata": {
    "collapsed": true
   },
   "outputs": [],
   "source": [
    "# Now make predictions for each point on the grid \n",
    "Xgrid = np.column_stack((x1grid.ravel(), x2grid.ravel(), x3grid.ravel()))  # Feature matrix containing all grid points\n",
    "dens = EllEnv.decision_function(Xgrid)\n",
    "densgrid = dens.reshape((15,15,15))\n"
   ]
  },
  {
   "cell_type": "code",
   "execution_count": 68,
   "metadata": {
    "collapsed": true
   },
   "outputs": [],
   "source": [
    "densgrid = densgrid[1]\n",
    "x1grid = x1grid[1]\n",
    "x2grid = x2grid[1]"
   ]
  },
  {
   "cell_type": "code",
   "execution_count": 62,
   "metadata": {},
   "outputs": [
    {
     "data": {
      "text/plain": [
       "(15, 15)"
      ]
     },
     "execution_count": 62,
     "metadata": {},
     "output_type": "execute_result"
    }
   ],
   "source": []
  },
  {
   "cell_type": "code",
   "execution_count": 75,
   "metadata": {},
   "outputs": [
    {
     "data": {
      "text/plain": [
       "<matplotlib.legend.Legend at 0x1c2ebc0b2e8>"
      ]
     },
     "execution_count": 75,
     "metadata": {},
     "output_type": "execute_result"
    },
    {
     "data": {
      "image/png": "[encoded data removed]",
      "text/plain": [
       "<matplotlib.figure.Figure at 0x1c2ebe50668>"
      ]
     },
     "metadata": {},
     "output_type": "display_data"
    }
   ],
   "source": [
    "fig, ax = plt.subplots()\n",
    "ax.contourf(x1grid, x2grid, densgrid, cmap=plt.cm.Blues_r, levels=np.linspace(dens.min(), threshold, 7))\n",
    "ax.scatter(X[:, 0], X[:, 1], s=4, color=\"g\")\n",
    "\n",
    "# Pot circles around the predicted outliers\n",
    "ax.scatter(X[ellip_pred == -1, 0], X[ellip_pred == -1, 1],  \n",
    "           facecolors=\"none\", edgecolors=\"red\", s=80, label=\"predicted outliers\")\n",
    "ax.legend(loc=\"lower right\")"
   ]
  },
  {
   "cell_type": "code",
   "execution_count": 34,
   "metadata": {},
   "outputs": [
    {
     "data": {
      "text/plain": [
       "<mpl_toolkits.mplot3d.art3d.Path3DCollection at 0x20ac7631c18>"
      ]
     },
     "execution_count": 34,
     "metadata": {},
     "output_type": "execute_result"
    },
    {
     "data": {
      "image/png": "[encoded data removed]",
      "text/plain": [
       "<matplotlib.figure.Figure at 0x20ac72a0160>"
      ]
     },
     "metadata": {},
     "output_type": "display_data"
    }
   ],
   "source": [
    "#MOLAR VOLUME\n",
    "\n",
    "X = cas[['CaO', 'Al2O3', 'molar_volume']].dropna()\n",
    "X = X.as_matrix()\n",
    "X = StandardScaler().fit_transform(X)\n",
    "\n",
    "EllEnv.fit(X)\n",
    "ellip_pred = EllEnv.predict(X)\n",
    "sum(ellip_pred == -1)\n",
    "\n",
    "ellip_decision = EllEnv.decision_function(X)\n",
    "ellip_decision.min(), ellip_decision.max()\n",
    "\n",
    "# Get the \"thresholding\" value from the decision function\n",
    "threshold = stats.scoreatpercentile(EllEnv.decision_function(X), 100*outlier_frac)\n",
    "threshold\n",
    "\n",
    "# Plotting the outliers and inliers \n",
    "fig = plt.figure()\n",
    "ax = fig.add_subplot(111, projection = '3d')\n",
    "\n",
    "ax.scatter(X[:,0], X[:,1], zs = X[:,2], s =4, lw = 0, label = \"inliers\")\n",
    "\n",
    "ax.scatter(X[ellip_pred == -1,0], X[ellip_pred == -1,1], zs = X[ellip_pred == -1,2], \n",
    "           s =60, lw = 2, marker = \"x\", c= \"red\", label = \"outliers\")"
   ]
  },
  {
   "cell_type": "code",
   "execution_count": 87,
   "metadata": {},
   "outputs": [
    {
     "name": "stderr",
     "output_type": "stream",
     "text": [
      "C:\\Users\\Ung Lik Teng\\Anaconda3\\lib\\site-packages\\ipykernel_launcher.py:2: SettingWithCopyWarning: \n",
      "A value is trying to be set on a copy of a slice from a DataFrame\n",
      "\n",
      "See the caveats in the documentation: http://pandas.pydata.org/pandas-docs/stable/indexing.html#indexing-view-versus-copy\n",
      "  \n"
     ]
    }
   ],
   "source": [
    "cas['molar_volume_out'] = 'NaN'\n",
    "cas.molar_volume_out[cas.molar_volume.notnull()] = ellip_pred"
   ]
  },
  {
   "cell_type": "code",
   "execution_count": 35,
   "metadata": {},
   "outputs": [
    {
     "data": {
      "text/plain": [
       "<mpl_toolkits.mplot3d.art3d.Path3DCollection at 0x20ac76d14e0>"
      ]
     },
     "execution_count": 35,
     "metadata": {},
     "output_type": "execute_result"
    },
    {
     "data": {
      "image/png": "[encoded data removed]",
      "text/plain": [
       "<matplotlib.figure.Figure at 0x20ac6e430b8>"
      ]
     },
     "metadata": {},
     "output_type": "display_data"
    }
   ],
   "source": [
    "#YOUNG'S MODULUS\n",
    "\n",
    "X = cas[['CaO', 'Al2O3', 'youngs_modulus']].dropna()\n",
    "X = X.as_matrix()\n",
    "X = StandardScaler().fit_transform(X)\n",
    "\n",
    "EllEnv.fit(X)\n",
    "ellip_pred = EllEnv.predict(X)\n",
    "sum(ellip_pred == -1)\n",
    "\n",
    "ellip_decision = EllEnv.decision_function(X)\n",
    "ellip_decision.min(), ellip_decision.max()\n",
    "\n",
    "# Get the \"thresholding\" value from the decision function\n",
    "threshold = stats.scoreatpercentile(EllEnv.decision_function(X), 100*outlier_frac)\n",
    "threshold\n",
    "\n",
    "# Plotting the outliers and inliers \n",
    "fig = plt.figure()\n",
    "ax = fig.add_subplot(111, projection = '3d')\n",
    "\n",
    "ax.scatter(X[:,0], X[:,1], zs = X[:,2], s =4, lw = 0, label = \"inliers\")\n",
    "\n",
    "ax.scatter(X[ellip_pred == -1,0], X[ellip_pred == -1,1], zs = X[ellip_pred == -1,2], \n",
    "           s =60, lw = 2, marker = \"x\", c= \"red\", label = \"outliers\")"
   ]
  },
  {
   "cell_type": "code",
   "execution_count": 89,
   "metadata": {},
   "outputs": [
    {
     "name": "stderr",
     "output_type": "stream",
     "text": [
      "C:\\Users\\Ung Lik Teng\\Anaconda3\\lib\\site-packages\\ipykernel_launcher.py:2: SettingWithCopyWarning: \n",
      "A value is trying to be set on a copy of a slice from a DataFrame\n",
      "\n",
      "See the caveats in the documentation: http://pandas.pydata.org/pandas-docs/stable/indexing.html#indexing-view-versus-copy\n",
      "  \n"
     ]
    }
   ],
   "source": [
    "cas['youngs_modulus_out'] = 'NaN'\n",
    "cas.youngs_modulus_out[cas.youngs_modulus.notnull()] = ellip_pred"
   ]
  },
  {
   "cell_type": "code",
   "execution_count": 36,
   "metadata": {},
   "outputs": [
    {
     "data": {
      "text/plain": [
       "<mpl_toolkits.mplot3d.art3d.Path3DCollection at 0x20ac774bef0>"
      ]
     },
     "execution_count": 36,
     "metadata": {},
     "output_type": "execute_result"
    },
    {
     "data": {
      "image/png": "[encoded data removed]",
      "text/plain": [
       "<matplotlib.figure.Figure at 0x20ac76f6cf8>"
      ]
     },
     "metadata": {},
     "output_type": "display_data"
    }
   ],
   "source": [
    "#SHEAR MODULUS\n",
    "\n",
    "X = cas[['CaO', 'Al2O3', 'shear_modulus']].dropna()\n",
    "X = X.as_matrix()\n",
    "X = StandardScaler().fit_transform(X)\n",
    "\n",
    "EllEnv.fit(X)\n",
    "ellip_pred = EllEnv.predict(X)\n",
    "sum(ellip_pred == -1)\n",
    "\n",
    "ellip_decision = EllEnv.decision_function(X)\n",
    "ellip_decision.min(), ellip_decision.max()\n",
    "\n",
    "# Get the \"thresholding\" value from the decision function\n",
    "threshold = stats.scoreatpercentile(EllEnv.decision_function(X), 100*outlier_frac)\n",
    "threshold\n",
    "\n",
    "# Plotting the outliers and inliers \n",
    "fig = plt.figure()\n",
    "ax = fig.add_subplot(111, projection = '3d')\n",
    "\n",
    "ax.scatter(X[:,0], X[:,1], zs = X[:,2], s =4, lw = 0, label = \"inliers\")\n",
    "\n",
    "ax.scatter(X[ellip_pred == -1,0], X[ellip_pred == -1,1], zs = X[ellip_pred == -1,2], \n",
    "           s =60, lw = 2, marker = \"x\", c= \"red\", label = \"outliers\")"
   ]
  },
  {
   "cell_type": "code",
   "execution_count": 91,
   "metadata": {},
   "outputs": [
    {
     "name": "stderr",
     "output_type": "stream",
     "text": [
      "C:\\Users\\Ung Lik Teng\\Anaconda3\\lib\\site-packages\\ipykernel_launcher.py:2: SettingWithCopyWarning: \n",
      "A value is trying to be set on a copy of a slice from a DataFrame\n",
      "\n",
      "See the caveats in the documentation: http://pandas.pydata.org/pandas-docs/stable/indexing.html#indexing-view-versus-copy\n",
      "  \n"
     ]
    }
   ],
   "source": [
    "cas['shear_modulus_out'] = 'NaN'\n",
    "cas.shear_modulus_out[cas.shear_modulus.notnull()] = ellip_pred"
   ]
  },
  {
   "cell_type": "code",
   "execution_count": 37,
   "metadata": {},
   "outputs": [
    {
     "data": {
      "text/plain": [
       "<mpl_toolkits.mplot3d.art3d.Path3DCollection at 0x20ac8681978>"
      ]
     },
     "execution_count": 37,
     "metadata": {},
     "output_type": "execute_result"
    },
    {
     "data": {
      "image/png": "[encoded data removed]",
      "text/plain": [
       "<matplotlib.figure.Figure at 0x20ac776d160>"
      ]
     },
     "metadata": {},
     "output_type": "display_data"
    }
   ],
   "source": [
    "#BULK MODULUS\n",
    "\n",
    "X = cas[['CaO', 'Al2O3', 'bulk_modulus']].dropna()\n",
    "X = X.as_matrix()\n",
    "X = StandardScaler().fit_transform(X)\n",
    "\n",
    "EllEnv.fit(X)\n",
    "ellip_pred = EllEnv.predict(X)\n",
    "sum(ellip_pred == -1)\n",
    "\n",
    "ellip_decision = EllEnv.decision_function(X)\n",
    "ellip_decision.min(), ellip_decision.max()\n",
    "\n",
    "# Get the \"thresholding\" value from the decision function\n",
    "threshold = stats.scoreatpercentile(EllEnv.decision_function(X), 100*outlier_frac)\n",
    "threshold\n",
    "\n",
    "# Plotting the outliers and inliers \n",
    "fig = plt.figure()\n",
    "ax = fig.add_subplot(111, projection = '3d')\n",
    "\n",
    "ax.scatter(X[:,0], X[:,1], zs = X[:,2], s =4, lw = 0, label = \"inliers\")\n",
    "\n",
    "ax.scatter(X[ellip_pred == -1,0], X[ellip_pred == -1,1], zs = X[ellip_pred == -1,2], \n",
    "           s =60, lw = 2, marker = \"x\", c= \"red\", label = \"outliers\")"
   ]
  },
  {
   "cell_type": "code",
   "execution_count": 93,
   "metadata": {},
   "outputs": [
    {
     "name": "stderr",
     "output_type": "stream",
     "text": [
      "C:\\Users\\Ung Lik Teng\\Anaconda3\\lib\\site-packages\\ipykernel_launcher.py:2: SettingWithCopyWarning: \n",
      "A value is trying to be set on a copy of a slice from a DataFrame\n",
      "\n",
      "See the caveats in the documentation: http://pandas.pydata.org/pandas-docs/stable/indexing.html#indexing-view-versus-copy\n",
      "  \n"
     ]
    }
   ],
   "source": [
    "cas['bulk_modulus_out'] = 'NaN'\n",
    "cas.bulk_modulus_out[cas.bulk_modulus.notnull()] = ellip_pred"
   ]
  },
  {
   "cell_type": "code",
   "execution_count": 38,
   "metadata": {},
   "outputs": [
    {
     "data": {
      "text/plain": [
       "<mpl_toolkits.mplot3d.art3d.Path3DCollection at 0x20ac8702390>"
      ]
     },
     "execution_count": 38,
     "metadata": {},
     "output_type": "execute_result"
    },
    {
     "data": {
      "image/png": "[encoded data removed]",
      "text/plain": [
       "<matplotlib.figure.Figure at 0x20ac7738828>"
      ]
     },
     "metadata": {},
     "output_type": "display_data"
    }
   ],
   "source": [
    "#POISSON RATIO\n",
    "\n",
    "X = cas[['CaO', 'Al2O3', 'poisson_ratio']].dropna()\n",
    "X = X.as_matrix()\n",
    "X = StandardScaler().fit_transform(X)\n",
    "\n",
    "EllEnv.fit(X)\n",
    "ellip_pred = EllEnv.predict(X)\n",
    "sum(ellip_pred == -1)\n",
    "\n",
    "ellip_decision = EllEnv.decision_function(X)\n",
    "ellip_decision.min(), ellip_decision.max()\n",
    "\n",
    "# Get the \"thresholding\" value from the decision function\n",
    "threshold = stats.scoreatpercentile(EllEnv.decision_function(X), 100*outlier_frac)\n",
    "threshold\n",
    "\n",
    "# Plotting the outliers and inliers \n",
    "fig = plt.figure()\n",
    "ax = fig.add_subplot(111, projection = '3d')\n",
    "\n",
    "ax.scatter(X[:,0], X[:,1], zs = X[:,2], s =4, lw = 0, label = \"inliers\")\n",
    "\n",
    "ax.scatter(X[ellip_pred == -1,0], X[ellip_pred == -1,1], zs = X[ellip_pred == -1,2], \n",
    "           s =60, lw = 2, marker = \"x\", c= \"red\", label = \"outliers\")"
   ]
  },
  {
   "cell_type": "code",
   "execution_count": 96,
   "metadata": {},
   "outputs": [
    {
     "name": "stderr",
     "output_type": "stream",
     "text": [
      "C:\\Users\\Ung Lik Teng\\Anaconda3\\lib\\site-packages\\ipykernel_launcher.py:2: SettingWithCopyWarning: \n",
      "A value is trying to be set on a copy of a slice from a DataFrame\n",
      "\n",
      "See the caveats in the documentation: http://pandas.pydata.org/pandas-docs/stable/indexing.html#indexing-view-versus-copy\n",
      "  \n"
     ]
    }
   ],
   "source": [
    "cas['poisson_ratio_out'] = 'NaN'\n",
    "cas.poisson_ratio_out[cas.poisson_ratio.notnull()] = ellip_pred"
   ]
  },
  {
   "cell_type": "code",
   "execution_count": 99,
   "metadata": {
    "collapsed": true
   },
   "outputs": [],
   "source": [
    "#Outputting Spreadsheet \n",
    "cas.to_excel('cas.xlsx', index= False)"
   ]
  }
 ],
 "metadata": {
  "kernelspec": {
   "display_name": "Python 3",
   "language": "python",
   "name": "python3"
  },
  "language_info": {
   "codemirror_mode": {
    "name": "ipython",
    "version": 3
   },
   "file_extension": ".py",
   "mimetype": "text/x-python",
   "name": "python",
   "nbconvert_exporter": "python",
   "pygments_lexer": "ipython3",
   "version": "3.7.1"
  }
 },
 "nbformat": 4,
 "nbformat_minor": 2
}
