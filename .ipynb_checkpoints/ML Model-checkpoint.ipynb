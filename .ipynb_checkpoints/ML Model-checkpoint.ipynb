{
 "cells": [
  {
   "cell_type": "code",
   "execution_count": 23,
   "metadata": {
    "collapsed": true
   },
   "outputs": [],
   "source": [
    "import numpy as np\n",
    "import pandas as pd\n",
    "import matplotlib.pyplot as plt\n",
    "from mpl_toolkits import mplot3d\n",
    "%matplotlib inline \n",
    "\n",
    "from time import time\n",
    "from pprint import pprint\n",
    "\n",
    "from sklearn.model_selection import train_test_split, GridSearchCV, learning_curve, KFold, cross_val_score, validation_curve\n",
    "from sklearn.pipeline import make_pipeline\n",
    "\n",
    "from sklearn.preprocessing import StandardScaler\n",
    "from sklearn.preprocessing import PolynomialFeatures\n",
    "from sklearn.base import BaseEstimator, TransformerMixin\n",
    "\n",
    "from sklearn.svm import SVR\n",
    "from sklearn.linear_model import Ridge, LinearRegression, Lasso\n",
    "from sklearn.kernel_ridge import KernelRidge\n",
    "from sklearn.gaussian_process import GaussianProcessRegressor\n",
    "from sklearn.gaussian_process.kernels import (RBF, Matern, RationalQuadratic,\n",
    "                                              ExpSineSquared, DotProduct,\n",
    "                                              ConstantKernel, WhiteKernel)\n"
   ]
  },
  {
   "cell_type": "markdown",
   "metadata": {},
   "source": [
    "# OUTLIERS REMOVAL"
   ]
  },
  {
   "cell_type": "code",
   "execution_count": 2,
   "metadata": {
    "collapsed": true
   },
   "outputs": [],
   "source": [
    "cas_c = pd.read_excel(\"C:\\\\Users\\\\Ung Lik Teng\\\\Desktop\\\\Research\\\\UCLA Research\\\\PARISLAB\\\\CAS_outliers.xlsx\")"
   ]
  },
  {
   "cell_type": "code",
   "execution_count": 3,
   "metadata": {
    "collapsed": true
   },
   "outputs": [],
   "source": [
    "cas_c = cas_c[cas_c.true_out != 1]\n",
    "cas_c.index = range(421)"
   ]
  },
  {
   "cell_type": "code",
   "execution_count": 4,
   "metadata": {},
   "outputs": [
    {
     "data": {
      "text/html": [
       "<div>\n",
       "<style scoped>\n",
       "    .dataframe tbody tr th:only-of-type {\n",
       "        vertical-align: middle;\n",
       "    }\n",
       "\n",
       "    .dataframe tbody tr th {\n",
       "        vertical-align: top;\n",
       "    }\n",
       "\n",
       "    .dataframe thead th {\n",
       "        text-align: right;\n",
       "    }\n",
       "</style>\n",
       "<table border=\"1\" class=\"dataframe\">\n",
       "  <thead>\n",
       "    <tr style=\"text-align: right;\">\n",
       "      <th></th>\n",
       "      <th>CaO</th>\n",
       "      <th>Al2O3</th>\n",
       "      <th>SiO2</th>\n",
       "      <th>molar_volume</th>\n",
       "      <th>density</th>\n",
       "      <th>youngs_modulus</th>\n",
       "      <th>shear_modulus</th>\n",
       "      <th>bulk_modulus</th>\n",
       "      <th>poisson_ratio</th>\n",
       "      <th>fracture_toughess</th>\n",
       "      <th>ref</th>\n",
       "      <th>density_out</th>\n",
       "      <th>molar_volume_out</th>\n",
       "      <th>youngs_modulus_out</th>\n",
       "      <th>shear_modulus_out</th>\n",
       "      <th>bulk_modulus_out</th>\n",
       "      <th>poisson_ratio_out</th>\n",
       "      <th>true_out</th>\n",
       "    </tr>\n",
       "  </thead>\n",
       "  <tbody>\n",
       "    <tr>\n",
       "      <th>0</th>\n",
       "      <td>0.00</td>\n",
       "      <td>0.00</td>\n",
       "      <td>100.00</td>\n",
       "      <td>27.259528</td>\n",
       "      <td>2.204</td>\n",
       "      <td>72.50</td>\n",
       "      <td>31.250000</td>\n",
       "      <td>36.10</td>\n",
       "      <td>0.160</td>\n",
       "      <td>NaN</td>\n",
       "      <td>NaN</td>\n",
       "      <td>1.0</td>\n",
       "      <td>1.0</td>\n",
       "      <td>1.0</td>\n",
       "      <td>1.0</td>\n",
       "      <td>1.0</td>\n",
       "      <td>-1.0</td>\n",
       "      <td>NaN</td>\n",
       "    </tr>\n",
       "    <tr>\n",
       "      <th>1</th>\n",
       "      <td>0.00</td>\n",
       "      <td>0.00</td>\n",
       "      <td>100.00</td>\n",
       "      <td>NaN</td>\n",
       "      <td>2.204</td>\n",
       "      <td>72.52</td>\n",
       "      <td>31.097770</td>\n",
       "      <td>36.11</td>\n",
       "      <td>0.166</td>\n",
       "      <td>NaN</td>\n",
       "      <td>Mater.Res.Bull., 2000, vol. 35, No.</td>\n",
       "      <td>1.0</td>\n",
       "      <td>NaN</td>\n",
       "      <td>1.0</td>\n",
       "      <td>1.0</td>\n",
       "      <td>1.0</td>\n",
       "      <td>-1.0</td>\n",
       "      <td>NaN</td>\n",
       "    </tr>\n",
       "    <tr>\n",
       "      <th>2</th>\n",
       "      <td>63.30</td>\n",
       "      <td>31.70</td>\n",
       "      <td>5.00</td>\n",
       "      <td>23.521194</td>\n",
       "      <td>3.011</td>\n",
       "      <td>99.81</td>\n",
       "      <td>37.806818</td>\n",
       "      <td>92.82</td>\n",
       "      <td>0.320</td>\n",
       "      <td>NaN</td>\n",
       "      <td>NaN</td>\n",
       "      <td>1.0</td>\n",
       "      <td>1.0</td>\n",
       "      <td>1.0</td>\n",
       "      <td>-1.0</td>\n",
       "      <td>1.0</td>\n",
       "      <td>1.0</td>\n",
       "      <td>NaN</td>\n",
       "    </tr>\n",
       "    <tr>\n",
       "      <th>3</th>\n",
       "      <td>60.00</td>\n",
       "      <td>40.00</td>\n",
       "      <td>0.00</td>\n",
       "      <td>25.701119</td>\n",
       "      <td>2.896</td>\n",
       "      <td>112.90</td>\n",
       "      <td>43.895801</td>\n",
       "      <td>86.65</td>\n",
       "      <td>0.286</td>\n",
       "      <td>NaN</td>\n",
       "      <td>NaN</td>\n",
       "      <td>-1.0</td>\n",
       "      <td>-1.0</td>\n",
       "      <td>1.0</td>\n",
       "      <td>1.0</td>\n",
       "      <td>1.0</td>\n",
       "      <td>1.0</td>\n",
       "      <td>NaN</td>\n",
       "    </tr>\n",
       "    <tr>\n",
       "      <th>4</th>\n",
       "      <td>59.26</td>\n",
       "      <td>39.51</td>\n",
       "      <td>1.23</td>\n",
       "      <td>25.738249</td>\n",
       "      <td>2.885</td>\n",
       "      <td>110.68</td>\n",
       "      <td>42.634823</td>\n",
       "      <td>87.57</td>\n",
       "      <td>0.298</td>\n",
       "      <td>NaN</td>\n",
       "      <td>Mater.Chem.Phys., 1999, vol. 58, p. 191-194.</td>\n",
       "      <td>-1.0</td>\n",
       "      <td>-1.0</td>\n",
       "      <td>1.0</td>\n",
       "      <td>1.0</td>\n",
       "      <td>1.0</td>\n",
       "      <td>1.0</td>\n",
       "      <td>NaN</td>\n",
       "    </tr>\n",
       "  </tbody>\n",
       "</table>\n",
       "</div>"
      ],
      "text/plain": [
       "     CaO  Al2O3    SiO2  molar_volume  density  youngs_modulus  shear_modulus  \\\n",
       "0   0.00   0.00  100.00     27.259528    2.204           72.50      31.250000   \n",
       "1   0.00   0.00  100.00           NaN    2.204           72.52      31.097770   \n",
       "2  63.30  31.70    5.00     23.521194    3.011           99.81      37.806818   \n",
       "3  60.00  40.00    0.00     25.701119    2.896          112.90      43.895801   \n",
       "4  59.26  39.51    1.23     25.738249    2.885          110.68      42.634823   \n",
       "\n",
       "   bulk_modulus  poisson_ratio  fracture_toughess  \\\n",
       "0         36.10          0.160                NaN   \n",
       "1         36.11          0.166                NaN   \n",
       "2         92.82          0.320                NaN   \n",
       "3         86.65          0.286                NaN   \n",
       "4         87.57          0.298                NaN   \n",
       "\n",
       "                                            ref  density_out  \\\n",
       "0                                           NaN          1.0   \n",
       "1           Mater.Res.Bull., 2000, vol. 35, No.          1.0   \n",
       "2                                           NaN          1.0   \n",
       "3                                           NaN         -1.0   \n",
       "4  Mater.Chem.Phys., 1999, vol. 58, p. 191-194.         -1.0   \n",
       "\n",
       "   molar_volume_out  youngs_modulus_out  shear_modulus_out  bulk_modulus_out  \\\n",
       "0               1.0                 1.0                1.0               1.0   \n",
       "1               NaN                 1.0                1.0               1.0   \n",
       "2               1.0                 1.0               -1.0               1.0   \n",
       "3              -1.0                 1.0                1.0               1.0   \n",
       "4              -1.0                 1.0                1.0               1.0   \n",
       "\n",
       "   poisson_ratio_out  true_out  \n",
       "0               -1.0       NaN  \n",
       "1               -1.0       NaN  \n",
       "2                1.0       NaN  \n",
       "3                1.0       NaN  \n",
       "4                1.0       NaN  "
      ]
     },
     "execution_count": 4,
     "metadata": {},
     "output_type": "execute_result"
    }
   ],
   "source": [
    "cas_c.head()"
   ]
  },
  {
   "cell_type": "code",
   "execution_count": 5,
   "metadata": {},
   "outputs": [
    {
     "name": "stdout",
     "output_type": "stream",
     "text": [
      "<class 'pandas.core.frame.DataFrame'>\n",
      "RangeIndex: 421 entries, 0 to 420\n",
      "Data columns (total 18 columns):\n",
      "CaO                   421 non-null float64\n",
      "Al2O3                 421 non-null float64\n",
      "SiO2                  421 non-null float64\n",
      "molar_volume          392 non-null float64\n",
      "density               393 non-null float64\n",
      "youngs_modulus        99 non-null float64\n",
      "shear_modulus         64 non-null float64\n",
      "bulk_modulus          62 non-null float64\n",
      "poisson_ratio         63 non-null float64\n",
      "fracture_toughess     14 non-null float64\n",
      "ref                   85 non-null object\n",
      "density_out           393 non-null float64\n",
      "molar_volume_out      392 non-null float64\n",
      "youngs_modulus_out    99 non-null float64\n",
      "shear_modulus_out     64 non-null float64\n",
      "bulk_modulus_out      62 non-null float64\n",
      "poisson_ratio_out     63 non-null float64\n",
      "true_out              0 non-null float64\n",
      "dtypes: float64(17), object(1)\n",
      "memory usage: 59.3+ KB\n"
     ]
    }
   ],
   "source": [
    "cas_c.info()"
   ]
  },
  {
   "cell_type": "code",
   "execution_count": 6,
   "metadata": {
    "collapsed": true
   },
   "outputs": [],
   "source": [
    "cas_c.to_csv(\"cas_clean.csv\", index = False)"
   ]
  },
  {
   "cell_type": "markdown",
   "metadata": {},
   "source": [
    "# STARTS HERE"
   ]
  },
  {
   "cell_type": "code",
   "execution_count": 2,
   "metadata": {
    "collapsed": true
   },
   "outputs": [],
   "source": [
    "cas_clean = pd.read_csv(\"cas_clean.csv\")"
   ]
  },
  {
   "cell_type": "code",
   "execution_count": 3,
   "metadata": {
    "collapsed": true
   },
   "outputs": [],
   "source": [
    "rng = np.random.RandomState(42)"
   ]
  },
  {
   "cell_type": "code",
   "execution_count": 4,
   "metadata": {},
   "outputs": [
    {
     "name": "stdout",
     "output_type": "stream",
     "text": [
      "<class 'pandas.core.frame.DataFrame'>\n",
      "RangeIndex: 421 entries, 0 to 420\n",
      "Data columns (total 18 columns):\n",
      "CaO                   421 non-null float64\n",
      "Al2O3                 421 non-null float64\n",
      "SiO2                  421 non-null float64\n",
      "molar_volume          392 non-null float64\n",
      "density               393 non-null float64\n",
      "youngs_modulus        99 non-null float64\n",
      "shear_modulus         64 non-null float64\n",
      "bulk_modulus          62 non-null float64\n",
      "poisson_ratio         63 non-null float64\n",
      "fracture_toughess     14 non-null float64\n",
      "ref                   85 non-null object\n",
      "density_out           393 non-null float64\n",
      "molar_volume_out      392 non-null float64\n",
      "youngs_modulus_out    99 non-null float64\n",
      "shear_modulus_out     64 non-null float64\n",
      "bulk_modulus_out      62 non-null float64\n",
      "poisson_ratio_out     63 non-null float64\n",
      "true_out              0 non-null float64\n",
      "dtypes: float64(17), object(1)\n",
      "memory usage: 59.3+ KB\n"
     ]
    }
   ],
   "source": [
    "cas_clean.info()"
   ]
  },
  {
   "cell_type": "code",
   "execution_count": 5,
   "metadata": {},
   "outputs": [
    {
     "data": {
      "text/html": [
       "<div>\n",
       "<style scoped>\n",
       "    .dataframe tbody tr th:only-of-type {\n",
       "        vertical-align: middle;\n",
       "    }\n",
       "\n",
       "    .dataframe tbody tr th {\n",
       "        vertical-align: top;\n",
       "    }\n",
       "\n",
       "    .dataframe thead th {\n",
       "        text-align: right;\n",
       "    }\n",
       "</style>\n",
       "<table border=\"1\" class=\"dataframe\">\n",
       "  <thead>\n",
       "    <tr style=\"text-align: right;\">\n",
       "      <th></th>\n",
       "      <th>CaO</th>\n",
       "      <th>Al2O3</th>\n",
       "      <th>SiO2</th>\n",
       "      <th>molar_volume</th>\n",
       "      <th>density</th>\n",
       "      <th>youngs_modulus</th>\n",
       "      <th>shear_modulus</th>\n",
       "      <th>bulk_modulus</th>\n",
       "      <th>poisson_ratio</th>\n",
       "      <th>fracture_toughess</th>\n",
       "      <th>ref</th>\n",
       "      <th>density_out</th>\n",
       "      <th>molar_volume_out</th>\n",
       "      <th>youngs_modulus_out</th>\n",
       "      <th>shear_modulus_out</th>\n",
       "      <th>bulk_modulus_out</th>\n",
       "      <th>poisson_ratio_out</th>\n",
       "      <th>true_out</th>\n",
       "    </tr>\n",
       "  </thead>\n",
       "  <tbody>\n",
       "    <tr>\n",
       "      <th>0</th>\n",
       "      <td>0.00</td>\n",
       "      <td>0.00</td>\n",
       "      <td>100.00</td>\n",
       "      <td>27.259528</td>\n",
       "      <td>2.204</td>\n",
       "      <td>72.50</td>\n",
       "      <td>31.250000</td>\n",
       "      <td>36.10</td>\n",
       "      <td>0.160</td>\n",
       "      <td>NaN</td>\n",
       "      <td>NaN</td>\n",
       "      <td>1.0</td>\n",
       "      <td>1.0</td>\n",
       "      <td>1.0</td>\n",
       "      <td>1.0</td>\n",
       "      <td>1.0</td>\n",
       "      <td>-1.0</td>\n",
       "      <td>NaN</td>\n",
       "    </tr>\n",
       "    <tr>\n",
       "      <th>1</th>\n",
       "      <td>0.00</td>\n",
       "      <td>0.00</td>\n",
       "      <td>100.00</td>\n",
       "      <td>NaN</td>\n",
       "      <td>2.204</td>\n",
       "      <td>72.52</td>\n",
       "      <td>31.097770</td>\n",
       "      <td>36.11</td>\n",
       "      <td>0.166</td>\n",
       "      <td>NaN</td>\n",
       "      <td>Mater.Res.Bull., 2000, vol. 35, No.</td>\n",
       "      <td>1.0</td>\n",
       "      <td>NaN</td>\n",
       "      <td>1.0</td>\n",
       "      <td>1.0</td>\n",
       "      <td>1.0</td>\n",
       "      <td>-1.0</td>\n",
       "      <td>NaN</td>\n",
       "    </tr>\n",
       "    <tr>\n",
       "      <th>2</th>\n",
       "      <td>63.30</td>\n",
       "      <td>31.70</td>\n",
       "      <td>5.00</td>\n",
       "      <td>23.521194</td>\n",
       "      <td>3.011</td>\n",
       "      <td>99.81</td>\n",
       "      <td>37.806818</td>\n",
       "      <td>92.82</td>\n",
       "      <td>0.320</td>\n",
       "      <td>NaN</td>\n",
       "      <td>NaN</td>\n",
       "      <td>1.0</td>\n",
       "      <td>1.0</td>\n",
       "      <td>1.0</td>\n",
       "      <td>-1.0</td>\n",
       "      <td>1.0</td>\n",
       "      <td>1.0</td>\n",
       "      <td>NaN</td>\n",
       "    </tr>\n",
       "    <tr>\n",
       "      <th>3</th>\n",
       "      <td>60.00</td>\n",
       "      <td>40.00</td>\n",
       "      <td>0.00</td>\n",
       "      <td>25.701119</td>\n",
       "      <td>2.896</td>\n",
       "      <td>112.90</td>\n",
       "      <td>43.895801</td>\n",
       "      <td>86.65</td>\n",
       "      <td>0.286</td>\n",
       "      <td>NaN</td>\n",
       "      <td>NaN</td>\n",
       "      <td>-1.0</td>\n",
       "      <td>-1.0</td>\n",
       "      <td>1.0</td>\n",
       "      <td>1.0</td>\n",
       "      <td>1.0</td>\n",
       "      <td>1.0</td>\n",
       "      <td>NaN</td>\n",
       "    </tr>\n",
       "    <tr>\n",
       "      <th>4</th>\n",
       "      <td>59.26</td>\n",
       "      <td>39.51</td>\n",
       "      <td>1.23</td>\n",
       "      <td>25.738249</td>\n",
       "      <td>2.885</td>\n",
       "      <td>110.68</td>\n",
       "      <td>42.634823</td>\n",
       "      <td>87.57</td>\n",
       "      <td>0.298</td>\n",
       "      <td>NaN</td>\n",
       "      <td>Mater.Chem.Phys., 1999, vol. 58, p. 191-194.</td>\n",
       "      <td>-1.0</td>\n",
       "      <td>-1.0</td>\n",
       "      <td>1.0</td>\n",
       "      <td>1.0</td>\n",
       "      <td>1.0</td>\n",
       "      <td>1.0</td>\n",
       "      <td>NaN</td>\n",
       "    </tr>\n",
       "  </tbody>\n",
       "</table>\n",
       "</div>"
      ],
      "text/plain": [
       "     CaO  Al2O3    SiO2  molar_volume  density  youngs_modulus  shear_modulus  \\\n",
       "0   0.00   0.00  100.00     27.259528    2.204           72.50      31.250000   \n",
       "1   0.00   0.00  100.00           NaN    2.204           72.52      31.097770   \n",
       "2  63.30  31.70    5.00     23.521194    3.011           99.81      37.806818   \n",
       "3  60.00  40.00    0.00     25.701119    2.896          112.90      43.895801   \n",
       "4  59.26  39.51    1.23     25.738249    2.885          110.68      42.634823   \n",
       "\n",
       "   bulk_modulus  poisson_ratio  fracture_toughess  \\\n",
       "0         36.10          0.160                NaN   \n",
       "1         36.11          0.166                NaN   \n",
       "2         92.82          0.320                NaN   \n",
       "3         86.65          0.286                NaN   \n",
       "4         87.57          0.298                NaN   \n",
       "\n",
       "                                            ref  density_out  \\\n",
       "0                                           NaN          1.0   \n",
       "1           Mater.Res.Bull., 2000, vol. 35, No.          1.0   \n",
       "2                                           NaN          1.0   \n",
       "3                                           NaN         -1.0   \n",
       "4  Mater.Chem.Phys., 1999, vol. 58, p. 191-194.         -1.0   \n",
       "\n",
       "   molar_volume_out  youngs_modulus_out  shear_modulus_out  bulk_modulus_out  \\\n",
       "0               1.0                 1.0                1.0               1.0   \n",
       "1               NaN                 1.0                1.0               1.0   \n",
       "2               1.0                 1.0               -1.0               1.0   \n",
       "3              -1.0                 1.0                1.0               1.0   \n",
       "4              -1.0                 1.0                1.0               1.0   \n",
       "\n",
       "   poisson_ratio_out  true_out  \n",
       "0               -1.0       NaN  \n",
       "1               -1.0       NaN  \n",
       "2                1.0       NaN  \n",
       "3                1.0       NaN  \n",
       "4                1.0       NaN  "
      ]
     },
     "execution_count": 5,
     "metadata": {},
     "output_type": "execute_result"
    }
   ],
   "source": [
    "cas_clean.head()"
   ]
  },
  {
   "cell_type": "markdown",
   "metadata": {},
   "source": [
    "# Column Extraction\n",
    "Since we are only interested in the relationships between the compositions and the mechanical property of the materials. I created a class ColumnExtractor to scale the variable and select desired columns "
   ]
  },
  {
   "cell_type": "code",
   "execution_count": 6,
   "metadata": {
    "collapsed": true
   },
   "outputs": [],
   "source": [
    "class ColumnExtractor(TransformerMixin, BaseEstimator):\n",
    "    def __init__(self,cols):\n",
    "        self.cols = cols\n",
    "        \n",
    "    def transform(self,X, **transform_params):\n",
    "        return StandardScaler().fit_transform(X[self.cols].dropna())\n",
    "    \n",
    "    def fit(self,X,y=None, **fit_params):\n",
    "        return self"
   ]
  },
  {
   "cell_type": "code",
   "execution_count": 7,
   "metadata": {
    "collapsed": true
   },
   "outputs": [],
   "source": [
    "def grid_reg(X_train, X_test, y_train, y_test, reg, reg_parameter):\n",
    "    \n",
    "    #Create a dictionary for parameters\n",
    "    parameters = dict()\n",
    "    parameters.update(reg_parameter)\n",
    "    \n",
    "    #define scoring \n",
    "    scoring = ['r2','neg_mean_squared_error']\n",
    "    \n",
    "    #Create the grid object\n",
    "    grid_obj = GridSearchCV(reg, parameters, cv = 5, scoring = scoring, refit = 'r2', verbose = 1)\n",
    "    \n",
    "    print(\"Performing grid search...\")\n",
    "    print(\"parameters:\")\n",
    "    pprint(parameters)\n",
    "    \n",
    "    t0 = time()\n",
    "    grid_obj.fit(X_train, y_train)\n",
    "    print(\"done in %0.3fs\" % (time() - t0))\n",
    "    print()\n",
    "    \n",
    "    print(\"Best CV score: %0.3f\" % grid_obj.best_score_)\n",
    "    print(\"Best parameters set:\")\n",
    "    best_parameters = grid_obj.best_estimator_.get_params()\n",
    "    for param_name in sorted(parameters.keys()):\n",
    "        print(\"\\t%s: %r\" % (param_name, best_parameters[param_name]))\n",
    "        \n",
    "    print(\"Test score with best_estimator_: %0.3f\" % grid_obj.best_estimator_.score(X_test, y_test))\n",
    "    print(\"\\n\")\n",
    "    return grid_obj"
   ]
  },
  {
   "cell_type": "code",
   "execution_count": null,
   "metadata": {},
   "outputs": [],
   "source": [
    "def plot_function(reg_CV):\n",
    "    fig = plt.figure()\n",
    "    ax = plt.axes(projection = '3d')\n",
    "    \n",
    "    plt.plot(X_train[:,0],X_train[:,1], y_train, \"b.\")\n",
    "    ax.plot_surface(X_test[:,0], X_test[:,1], reg_CV.best_estimator_.predict(X_test).reshape(X_test.shape), color='None', alpha=0.01)\n",
    "   "
   ]
  },
  {
   "cell_type": "code",
   "execution_count": null,
   "metadata": {
    "collapsed": true
   },
   "outputs": [],
   "source": []
  },
  {
   "cell_type": "code",
   "execution_count": 16,
   "metadata": {
    "collapsed": true
   },
   "outputs": [],
   "source": [
    "#Parameter grid settings for Regressor\n",
    "parameters_ridge = {\n",
    "    'alpha': [0.1,5,10,15,20,100]\n",
    "}\n",
    "\n",
    "parameters_svr = {\n",
    "    \"C\": [1e0, 1e1, 1e2, 1e3],\n",
    "    \"gamma\": np.logspace(-2, 2, 5)\n",
    "}\n",
    "\n",
    "parameters_kernelridge = {\n",
    "    \"alpha\": [1e0, 0.1, 1e-2, 1e-3],\n",
    "    \"gamma\": np.logspace(-2, 2, 5)\n",
    "}\n",
    "\n",
    "parameters_poly = {\n",
    "    'polynomialfeatures__degree': np.arange(10), \n",
    "    'linearregression__fit_intercept': [True, False], \n",
    "    'linearregression__normalize': [True, False]\n",
    "}\n"
   ]
  },
  {
   "cell_type": "code",
   "execution_count": 20,
   "metadata": {
    "collapsed": true
   },
   "outputs": [],
   "source": [
    "#Creating instances of Regressor\n",
    "ridgereg = Ridge()\n",
    "svr = SVR()\n",
    "kernelridge = KernelRidge()\n",
    "\n",
    "def PolynomialRegression(degree=2, **kwargs):\n",
    "    return make_pipeline(PolynomialFeatures(degree), LinearRegression(**kwargs))\n"
   ]
  },
  {
   "cell_type": "code",
   "execution_count": 11,
   "metadata": {
    "collapsed": true
   },
   "outputs": [],
   "source": [
    "columns = ['molar_volume', 'density', 'youngs_modulus',\n",
    "       'shear_modulus', 'bulk_modulus', 'poisson_ratio']\n"
   ]
  },
  {
   "cell_type": "markdown",
   "metadata": {},
   "source": [
    "## Support Vector Regression"
   ]
  },
  {
   "cell_type": "code",
   "execution_count": 65,
   "metadata": {
    "scrolled": false
   },
   "outputs": [
    {
     "name": "stdout",
     "output_type": "stream",
     "text": [
      "FOR molar_volume\n",
      "Performing grid search...\n",
      "parameters:\n",
      "{'C': [1.0, 10.0, 100.0, 1000.0],\n",
      " 'gamma': array([  1.00000000e-02,   1.00000000e-01,   1.00000000e+00,\n",
      "         1.00000000e+01,   1.00000000e+02])}\n",
      "Fitting 5 folds for each of 20 candidates, totalling 100 fits\n",
      "done in 7.401s\n",
      "\n",
      "Best CV score: 0.962\n",
      "Best parameters set:\n",
      "\tC: 100.0\n",
      "\tgamma: 0.10000000000000001\n",
      "Test score with best_estimator_: 0.913\n",
      "\n",
      "\n"
     ]
    },
    {
     "name": "stderr",
     "output_type": "stream",
     "text": [
      "[Parallel(n_jobs=1)]: Done 100 out of 100 | elapsed:    7.2s finished\n"
     ]
    },
    {
     "ename": "ValueError",
     "evalue": "Argument Z must be 2-dimensional.",
     "output_type": "error",
     "traceback": [
      "\u001b[1;31m---------------------------------------------------------------------------\u001b[0m",
      "\u001b[1;31mValueError\u001b[0m                                Traceback (most recent call last)",
      "\u001b[1;32m<ipython-input-65-64bf57d1744c>\u001b[0m in \u001b[0;36m<module>\u001b[1;34m()\u001b[0m\n\u001b[0;32m     12\u001b[0m     \u001b[0mreg_CV\u001b[0m \u001b[1;33m=\u001b[0m \u001b[0mgrid_reg\u001b[0m\u001b[1;33m(\u001b[0m\u001b[0mX_train\u001b[0m\u001b[1;33m,\u001b[0m \u001b[0mX_test\u001b[0m\u001b[1;33m,\u001b[0m\u001b[0my_train\u001b[0m\u001b[1;33m,\u001b[0m\u001b[0my_test\u001b[0m\u001b[1;33m,\u001b[0m \u001b[0msvr\u001b[0m \u001b[1;33m,\u001b[0m\u001b[0mparameters_svr\u001b[0m\u001b[1;33m)\u001b[0m\u001b[1;33m\u001b[0m\u001b[0m\n\u001b[0;32m     13\u001b[0m \u001b[1;33m\u001b[0m\u001b[0m\n\u001b[1;32m---> 14\u001b[1;33m     \u001b[0mplot_function\u001b[0m\u001b[1;33m(\u001b[0m\u001b[0mreg_CV\u001b[0m\u001b[1;33m)\u001b[0m\u001b[1;33m\u001b[0m\u001b[0m\n\u001b[0m\u001b[0;32m     15\u001b[0m \u001b[1;33m\u001b[0m\u001b[0m\n",
      "\u001b[1;32m<ipython-input-64-0bea1c4f3c36>\u001b[0m in \u001b[0;36mplot_function\u001b[1;34m(reg_CV)\u001b[0m\n\u001b[0;32m      4\u001b[0m \u001b[1;33m\u001b[0m\u001b[0m\n\u001b[0;32m      5\u001b[0m     \u001b[0mplt\u001b[0m\u001b[1;33m.\u001b[0m\u001b[0mplot\u001b[0m\u001b[1;33m(\u001b[0m\u001b[0mX_train\u001b[0m\u001b[1;33m[\u001b[0m\u001b[1;33m:\u001b[0m\u001b[1;33m,\u001b[0m\u001b[1;36m0\u001b[0m\u001b[1;33m]\u001b[0m\u001b[1;33m,\u001b[0m\u001b[0mX_train\u001b[0m\u001b[1;33m[\u001b[0m\u001b[1;33m:\u001b[0m\u001b[1;33m,\u001b[0m\u001b[1;36m1\u001b[0m\u001b[1;33m]\u001b[0m\u001b[1;33m,\u001b[0m \u001b[0my_train\u001b[0m\u001b[1;33m,\u001b[0m \u001b[1;34m\"b.\"\u001b[0m\u001b[1;33m)\u001b[0m\u001b[1;33m\u001b[0m\u001b[0m\n\u001b[1;32m----> 6\u001b[1;33m     \u001b[0max\u001b[0m\u001b[1;33m.\u001b[0m\u001b[0mplot_surface\u001b[0m\u001b[1;33m(\u001b[0m\u001b[0mX_test\u001b[0m\u001b[1;33m[\u001b[0m\u001b[1;33m:\u001b[0m\u001b[1;33m,\u001b[0m\u001b[1;36m0\u001b[0m\u001b[1;33m]\u001b[0m\u001b[1;33m,\u001b[0m \u001b[0mX_test\u001b[0m\u001b[1;33m[\u001b[0m\u001b[1;33m:\u001b[0m\u001b[1;33m,\u001b[0m\u001b[1;36m1\u001b[0m\u001b[1;33m]\u001b[0m\u001b[1;33m,\u001b[0m \u001b[0mreg_CV\u001b[0m\u001b[1;33m.\u001b[0m\u001b[0mbest_estimator_\u001b[0m\u001b[1;33m.\u001b[0m\u001b[0mpredict\u001b[0m\u001b[1;33m(\u001b[0m\u001b[0mX_test\u001b[0m\u001b[1;33m)\u001b[0m\u001b[1;33m,\u001b[0m \u001b[0mcolor\u001b[0m\u001b[1;33m=\u001b[0m\u001b[1;34m'None'\u001b[0m\u001b[1;33m,\u001b[0m \u001b[0malpha\u001b[0m\u001b[1;33m=\u001b[0m\u001b[1;36m0.01\u001b[0m\u001b[1;33m)\u001b[0m\u001b[1;33m\u001b[0m\u001b[0m\n\u001b[0m\u001b[0;32m      7\u001b[0m \u001b[1;33m\u001b[0m\u001b[0m\n",
      "\u001b[1;32m~\\Anaconda3\\lib\\site-packages\\mpl_toolkits\\mplot3d\\axes3d.py\u001b[0m in \u001b[0;36mplot_surface\u001b[1;34m(self, X, Y, Z, *args, **kwargs)\u001b[0m\n\u001b[0;32m   1608\u001b[0m \u001b[1;33m\u001b[0m\u001b[0m\n\u001b[0;32m   1609\u001b[0m         \u001b[1;32mif\u001b[0m \u001b[0mZ\u001b[0m\u001b[1;33m.\u001b[0m\u001b[0mndim\u001b[0m \u001b[1;33m!=\u001b[0m \u001b[1;36m2\u001b[0m\u001b[1;33m:\u001b[0m\u001b[1;33m\u001b[0m\u001b[0m\n\u001b[1;32m-> 1610\u001b[1;33m             \u001b[1;32mraise\u001b[0m \u001b[0mValueError\u001b[0m\u001b[1;33m(\u001b[0m\u001b[1;34m\"Argument Z must be 2-dimensional.\"\u001b[0m\u001b[1;33m)\u001b[0m\u001b[1;33m\u001b[0m\u001b[0m\n\u001b[0m\u001b[0;32m   1611\u001b[0m         \u001b[1;31m# TODO: Support masked arrays\u001b[0m\u001b[1;33m\u001b[0m\u001b[1;33m\u001b[0m\u001b[0m\n\u001b[0;32m   1612\u001b[0m         \u001b[0mX\u001b[0m\u001b[1;33m,\u001b[0m \u001b[0mY\u001b[0m\u001b[1;33m,\u001b[0m \u001b[0mZ\u001b[0m \u001b[1;33m=\u001b[0m \u001b[0mnp\u001b[0m\u001b[1;33m.\u001b[0m\u001b[0mbroadcast_arrays\u001b[0m\u001b[1;33m(\u001b[0m\u001b[0mX\u001b[0m\u001b[1;33m,\u001b[0m \u001b[0mY\u001b[0m\u001b[1;33m,\u001b[0m \u001b[0mZ\u001b[0m\u001b[1;33m)\u001b[0m\u001b[1;33m\u001b[0m\u001b[0m\n",
      "\u001b[1;31mValueError\u001b[0m: Argument Z must be 2-dimensional."
     ]
    },
    {
     "data": {
      "image/png": "[encoded data removed]",
      "text/plain": [
       "<matplotlib.figure.Figure at 0x1d37d274c50>"
      ]
     },
     "metadata": {},
     "output_type": "display_data"
    }
   ],
   "source": [
    "for col in columns:\n",
    "    print(\"FOR\",col)\n",
    "\n",
    "    # Extract columns\n",
    "    colext = ColumnExtractor(['CaO', 'Al2O3', col])\n",
    "    model_df = colext.fit_transform(cas_clean)\n",
    "\n",
    "    #Create train-test split\n",
    "    X_train, X_test, y_train, y_test = train_test_split(model_df[:,0:2], model_df[:,2], test_size=0.1, random_state=42)\n",
    "        \n",
    "    #Fit regressor\n",
    "    reg_CV = grid_reg(X_train, X_test,y_train,y_test, svr ,parameters_svr)\n",
    "    \n",
    "    plot_function(reg_CV)\n",
    "    "
   ]
  },
  {
   "cell_type": "code",
   "execution_count": 55,
   "metadata": {},
   "outputs": [
    {
     "ename": "ValueError",
     "evalue": "operands could not be broadcast together with remapped shapes [original->remapped]: (352,) and requested shape (2,)",
     "output_type": "error",
     "traceback": [
      "\u001b[1;31m---------------------------------------------------------------------------\u001b[0m",
      "\u001b[1;31mValueError\u001b[0m                                Traceback (most recent call last)",
      "\u001b[1;32m<ipython-input-55-9b8e7fdac505>\u001b[0m in \u001b[0;36m<module>\u001b[1;34m()\u001b[0m\n\u001b[0;32m      2\u001b[0m \u001b[0max\u001b[0m \u001b[1;33m=\u001b[0m \u001b[0mplt\u001b[0m\u001b[1;33m.\u001b[0m\u001b[0maxes\u001b[0m\u001b[1;33m(\u001b[0m\u001b[0mprojection\u001b[0m \u001b[1;33m=\u001b[0m \u001b[1;34m'3d'\u001b[0m\u001b[1;33m)\u001b[0m\u001b[1;33m\u001b[0m\u001b[0m\n\u001b[0;32m      3\u001b[0m \u001b[1;33m\u001b[0m\u001b[0m\n\u001b[1;32m----> 4\u001b[1;33m \u001b[0mplt\u001b[0m\u001b[1;33m.\u001b[0m\u001b[0mplot\u001b[0m\u001b[1;33m(\u001b[0m\u001b[0mX_train\u001b[0m\u001b[1;33m[\u001b[0m\u001b[1;36m0\u001b[0m\u001b[1;33m]\u001b[0m\u001b[1;33m,\u001b[0m\u001b[0mX_train\u001b[0m\u001b[1;33m[\u001b[0m\u001b[1;36m1\u001b[0m\u001b[1;33m]\u001b[0m\u001b[1;33m,\u001b[0m \u001b[0my_train\u001b[0m\u001b[1;33m,\u001b[0m \u001b[1;34m\"b.\"\u001b[0m\u001b[1;33m)\u001b[0m\u001b[1;33m\u001b[0m\u001b[0m\n\u001b[0m",
      "\u001b[1;32m~\\Anaconda3\\lib\\site-packages\\matplotlib\\pyplot.py\u001b[0m in \u001b[0;36mplot\u001b[1;34m(*args, **kwargs)\u001b[0m\n\u001b[0;32m   3238\u001b[0m                       mplDeprecation)\n\u001b[0;32m   3239\u001b[0m     \u001b[1;32mtry\u001b[0m\u001b[1;33m:\u001b[0m\u001b[1;33m\u001b[0m\u001b[0m\n\u001b[1;32m-> 3240\u001b[1;33m         \u001b[0mret\u001b[0m \u001b[1;33m=\u001b[0m \u001b[0max\u001b[0m\u001b[1;33m.\u001b[0m\u001b[0mplot\u001b[0m\u001b[1;33m(\u001b[0m\u001b[1;33m*\u001b[0m\u001b[0margs\u001b[0m\u001b[1;33m,\u001b[0m \u001b[1;33m**\u001b[0m\u001b[0mkwargs\u001b[0m\u001b[1;33m)\u001b[0m\u001b[1;33m\u001b[0m\u001b[0m\n\u001b[0m\u001b[0;32m   3241\u001b[0m     \u001b[1;32mfinally\u001b[0m\u001b[1;33m:\u001b[0m\u001b[1;33m\u001b[0m\u001b[0m\n\u001b[0;32m   3242\u001b[0m         \u001b[0max\u001b[0m\u001b[1;33m.\u001b[0m\u001b[0m_hold\u001b[0m \u001b[1;33m=\u001b[0m \u001b[0mwashold\u001b[0m\u001b[1;33m\u001b[0m\u001b[0m\n",
      "\u001b[1;32m~\\Anaconda3\\lib\\site-packages\\mpl_toolkits\\mplot3d\\axes3d.py\u001b[0m in \u001b[0;36mplot\u001b[1;34m(self, xs, ys, *args, **kwargs)\u001b[0m\n\u001b[0;32m   1549\u001b[0m \u001b[1;33m\u001b[0m\u001b[0m\n\u001b[0;32m   1550\u001b[0m         \u001b[1;31m# Match length\u001b[0m\u001b[1;33m\u001b[0m\u001b[1;33m\u001b[0m\u001b[0m\n\u001b[1;32m-> 1551\u001b[1;33m         \u001b[0mzs\u001b[0m \u001b[1;33m=\u001b[0m \u001b[0m_backports\u001b[0m\u001b[1;33m.\u001b[0m\u001b[0mbroadcast_to\u001b[0m\u001b[1;33m(\u001b[0m\u001b[0mzs\u001b[0m\u001b[1;33m,\u001b[0m \u001b[0mlen\u001b[0m\u001b[1;33m(\u001b[0m\u001b[0mxs\u001b[0m\u001b[1;33m)\u001b[0m\u001b[1;33m)\u001b[0m\u001b[1;33m\u001b[0m\u001b[0m\n\u001b[0m\u001b[0;32m   1552\u001b[0m \u001b[1;33m\u001b[0m\u001b[0m\n\u001b[0;32m   1553\u001b[0m         \u001b[0mlines\u001b[0m \u001b[1;33m=\u001b[0m \u001b[0msuper\u001b[0m\u001b[1;33m(\u001b[0m\u001b[0mAxes3D\u001b[0m\u001b[1;33m,\u001b[0m \u001b[0mself\u001b[0m\u001b[1;33m)\u001b[0m\u001b[1;33m.\u001b[0m\u001b[0mplot\u001b[0m\u001b[1;33m(\u001b[0m\u001b[0mxs\u001b[0m\u001b[1;33m,\u001b[0m \u001b[0mys\u001b[0m\u001b[1;33m,\u001b[0m \u001b[1;33m*\u001b[0m\u001b[0margs\u001b[0m\u001b[1;33m,\u001b[0m \u001b[1;33m**\u001b[0m\u001b[0mkwargs\u001b[0m\u001b[1;33m)\u001b[0m\u001b[1;33m\u001b[0m\u001b[0m\n",
      "\u001b[1;32m~\\Anaconda3\\lib\\site-packages\\matplotlib\\cbook\\_backports.py\u001b[0m in \u001b[0;36mbroadcast_to\u001b[1;34m(array, shape, subok)\u001b[0m\n\u001b[0;32m    145\u001b[0m            [1, 2, 3]])\n\u001b[0;32m    146\u001b[0m     \"\"\"\n\u001b[1;32m--> 147\u001b[1;33m     \u001b[1;32mreturn\u001b[0m \u001b[0m_broadcast_to\u001b[0m\u001b[1;33m(\u001b[0m\u001b[0marray\u001b[0m\u001b[1;33m,\u001b[0m \u001b[0mshape\u001b[0m\u001b[1;33m,\u001b[0m \u001b[0msubok\u001b[0m\u001b[1;33m=\u001b[0m\u001b[0msubok\u001b[0m\u001b[1;33m,\u001b[0m \u001b[0mreadonly\u001b[0m\u001b[1;33m=\u001b[0m\u001b[1;32mTrue\u001b[0m\u001b[1;33m)\u001b[0m\u001b[1;33m\u001b[0m\u001b[0m\n\u001b[0m",
      "\u001b[1;32m~\\Anaconda3\\lib\\site-packages\\matplotlib\\cbook\\_backports.py\u001b[0m in \u001b[0;36m_broadcast_to\u001b[1;34m(array, shape, subok, readonly)\u001b[0m\n\u001b[0;32m     99\u001b[0m     broadcast = np.nditer(\n\u001b[0;32m    100\u001b[0m         \u001b[1;33m(\u001b[0m\u001b[0marray\u001b[0m\u001b[1;33m,\u001b[0m\u001b[1;33m)\u001b[0m\u001b[1;33m,\u001b[0m \u001b[0mflags\u001b[0m\u001b[1;33m=\u001b[0m\u001b[1;33m[\u001b[0m\u001b[1;34m'multi_index'\u001b[0m\u001b[1;33m,\u001b[0m \u001b[1;34m'refs_ok'\u001b[0m\u001b[1;33m,\u001b[0m \u001b[1;34m'zerosize_ok'\u001b[0m\u001b[1;33m]\u001b[0m \u001b[1;33m+\u001b[0m \u001b[0mextras\u001b[0m\u001b[1;33m,\u001b[0m\u001b[1;33m\u001b[0m\u001b[0m\n\u001b[1;32m--> 101\u001b[1;33m         op_flags=[op_flag], itershape=shape, order='C').itviews[0]\n\u001b[0m\u001b[0;32m    102\u001b[0m     \u001b[0mresult\u001b[0m \u001b[1;33m=\u001b[0m \u001b[0m_maybe_view_as_subclass\u001b[0m\u001b[1;33m(\u001b[0m\u001b[0marray\u001b[0m\u001b[1;33m,\u001b[0m \u001b[0mbroadcast\u001b[0m\u001b[1;33m)\u001b[0m\u001b[1;33m\u001b[0m\u001b[0m\n\u001b[0;32m    103\u001b[0m     \u001b[1;32mif\u001b[0m \u001b[0mneeds_writeable\u001b[0m \u001b[1;32mand\u001b[0m \u001b[1;32mnot\u001b[0m \u001b[0mresult\u001b[0m\u001b[1;33m.\u001b[0m\u001b[0mflags\u001b[0m\u001b[1;33m.\u001b[0m\u001b[0mwriteable\u001b[0m\u001b[1;33m:\u001b[0m\u001b[1;33m\u001b[0m\u001b[0m\n",
      "\u001b[1;31mValueError\u001b[0m: operands could not be broadcast together with remapped shapes [original->remapped]: (352,) and requested shape (2,)"
     ]
    },
    {
     "data": {
      "image/png": "[encoded data removed]",
      "text/plain": [
       "<matplotlib.figure.Figure at 0x1d37edfe320>"
      ]
     },
     "metadata": {},
     "output_type": "display_data"
    }
   ],
   "source": [
    "fig = plt.figure()\n",
    "ax = plt.axes(projection = '3d')\n",
    "    \n",
    "plt.plot(X_train[0],X_train[1], y_train, \"b.\")"
   ]
  },
  {
   "cell_type": "code",
   "execution_count": 58,
   "metadata": {},
   "outputs": [
    {
     "data": {
      "text/plain": [
       "array([[ -2.63251166e-01,  -9.97832291e-01],\n",
       "       [  7.00409309e-01,  -2.32996301e-01],\n",
       "       [ -6.98968034e-01,  -1.36776506e+00],\n",
       "       [  2.81394920e-01,   6.20623553e-01],\n",
       "       [  4.62943615e-01,  -7.30003801e-02],\n",
       "       [  8.26041006e-01,   2.23907940e+00],\n",
       "       [ -5.99166270e-02,  -1.36776506e+00],\n",
       "       [ -6.26348556e-01,  -5.35416336e-01],\n",
       "       [  4.91991406e-01,   1.83215336e+00],\n",
       "       [ -4.44799861e-01,   6.20623553e-01],\n",
       "       [ -2.63251166e-01,  -9.97832291e-01],\n",
       "       [  1.91533318e+00,   8.51831531e-01],\n",
       "       [ -2.63251166e-01,  -7.30003801e-02],\n",
       "       [ -1.51230619e+00,  -7.01886080e-01],\n",
       "       [ -1.72217648e+00,  -9.93208132e-01],\n",
       "       [  2.59609077e-01,   8.33334893e-01],\n",
       "       [  1.18913840e+00,  -9.97832291e-01],\n",
       "       [ -2.63251166e-01,   8.51831531e-01],\n",
       "       [ -2.63251166e-01,   1.77666344e+00],\n",
       "       [ -2.63251166e-01,  -7.30003801e-02],\n",
       "       [  4.62943615e-01,   2.70149535e+00],\n",
       "       [ -2.19679479e-01,   3.33925661e-01],\n",
       "       [ -1.35254334e+00,   3.89415576e-01],\n",
       "       [  7.57052501e-01,  -7.76797465e-01],\n",
       "       [ -6.69920243e-01,   3.52422299e-01],\n",
       "       [  4.66574589e-01,  -5.26168017e-01],\n",
       "       [  2.81394920e-01,  -7.66624314e-01],\n",
       "       [ -5.31943235e-01,   9.99804637e-01],\n",
       "       [  3.17704659e-01,  -8.12865909e-01],\n",
       "       [  1.69747474e+00,   1.59169706e+00],\n",
       "       [ -2.63251166e-01,  -9.97832291e-01],\n",
       "       [  1.47961631e+00,   1.40673068e+00],\n",
       "       [ -2.63251166e-01,  -7.30003801e-02],\n",
       "       [  1.01775643e+00,   1.15702606e+00],\n",
       "       [ -2.00103528e+00,   5.29065194e-01],\n",
       "       [  1.24215062e+00,   1.98660029e+00],\n",
       "       [  1.30678195e+00,   7.02933594e-01],\n",
       "       [  1.86159476e+00,   1.73134668e+00],\n",
       "       [  1.42878267e+00,   5.46637000e-01],\n",
       "       [ -4.23014017e-01,   1.30462640e-01],\n",
       "       [  9.98462248e-02,  -7.30003801e-02],\n",
       "       [  3.17704659e-01,  -7.30003801e-02],\n",
       "       [ -1.15647075e+00,   1.31424749e+00],\n",
       "       [ -2.32024790e-01,  -1.21886712e+00],\n",
       "       [  7.10576035e-01,  -1.31319997e+00],\n",
       "       [ -2.63251166e-01,  -9.97832291e-01],\n",
       "       [ -2.26537018e+00,  -1.03519833e-01],\n",
       "       [  9.98462248e-02,  -9.97832291e-01],\n",
       "       [  7.10576035e-01,  -1.31319997e+00],\n",
       "       [  4.19371928e-01,   6.29871873e-01],\n",
       "       [  4.62943615e-01,  -1.46024825e+00],\n",
       "       [ -5.53729078e-01,  -1.09031548e+00],\n",
       "       [ -1.42516282e+00,   1.40673068e+00],\n",
       "       [ -1.47381787e+00,  -3.80969407e-01],\n",
       "       [ -6.26348556e-01,   3.89415576e-01],\n",
       "       [  1.18187645e+00,  -1.87642261e+00],\n",
       "       [ -1.25014987e+00,  -5.05821715e-01],\n",
       "       [  1.15282866e+00,   1.12928110e+00],\n",
       "       [  9.25529691e-01,  -1.62301866e+00],\n",
       "       [  1.79914201e+00,   5.37388681e-01],\n",
       "       [ -6.26348556e-01,   3.89415576e-01],\n",
       "       [  1.18913840e+00,  -9.97832291e-01],\n",
       "       [  1.91533318e+00,   8.51831531e-01],\n",
       "       [  1.04389944e+00,   1.03679791e+00],\n",
       "       [  9.98462248e-02,  -1.46024825e+00],\n",
       "       [ -7.93373356e-01,  -6.64892803e-01],\n",
       "       [ -2.32024790e-01,  -1.22071678e+00],\n",
       "       [  3.90324137e-01,   1.68418025e+00],\n",
       "       [  1.18913840e+00,  -1.36776506e+00],\n",
       "       [ -6.26348556e-01,  -7.30003801e-02],\n",
       "       [ -1.93349916e+00,  -3.50449954e-01],\n",
       "       [ -7.13491930e-01,  -1.56235252e-01],\n",
       "       [  1.72465703e-01,   2.96932384e-01],\n",
       "       [  1.29080567e+00,   2.56277057e+00],\n",
       "       [ -6.26348556e-01,  -5.35416336e-01],\n",
       "       [ -1.10750262e-01,  -1.65446295e+00],\n",
       "       [ -6.26348556e-01,   3.89415576e-01],\n",
       "       [ -2.63251166e-01,   8.51831531e-01],\n",
       "       [  1.55223579e+00,   4.81898767e-01],\n",
       "       [  1.15282866e+00,   1.12928110e+00],\n",
       "       [ -2.63251166e-01,  -9.97832291e-01],\n",
       "       [  2.81394920e-01,   6.20623553e-01],\n",
       "       [  9.98462248e-02,   1.31424749e+00],\n",
       "       [ -1.39611502e+00,  -5.35416336e-01],\n",
       "       [  8.05707552e-01,  -7.97143767e-01],\n",
       "       [  1.72465703e-01,  -6.27899527e-01],\n",
       "       [ -2.63251166e-01,   3.89415576e-01],\n",
       "       [ -6.26348556e-01,   3.89415576e-01],\n",
       "       [  1.18913840e+00,  -9.97832291e-01],\n",
       "       [ -1.48512390e-01,  -1.43620262e+00],\n",
       "       [ -1.13468490e+00,  -8.12865909e-01],\n",
       "       [  1.36155964e-01,  -1.03519833e-01],\n",
       "       [  4.19371928e-01,   1.41597900e+00],\n",
       "       [  9.98462248e-02,  -1.46024825e+00],\n",
       "       [  8.75422251e-01,  -1.52313682e+00],\n",
       "       [ -8.46072496e-02,   1.20604215e+00],\n",
       "       [  1.20220990e+00,  -1.00708061e+00],\n",
       "       [ -4.81109600e-01,  -7.20382718e-01],\n",
       "       [ -5.02895443e-01,  -6.92637761e-01],\n",
       "       [ -5.17419339e-01,  -2.11725167e-01],\n",
       "       [  1.81906235e-01,  -6.10327721e-01],\n",
       "       [ -1.23126881e+00,   1.15980056e+00],\n",
       "       [ -9.89445947e-01,  -7.30003801e-02],\n",
       "       [  4.62943615e-01,   8.51831531e-01],\n",
       "       [  4.38252993e-01,   1.84232651e+00],\n",
       "       [ -1.19713765e+00,  -7.33330365e-01],\n",
       "       [ -4.59323756e-01,   1.10153615e+00],\n",
       "       [  1.58854553e+00,   1.49921387e+00],\n",
       "       [  5.44090324e-03,  -8.77604143e-01],\n",
       "       [ -7.81754239e-01,  -3.37502307e-01],\n",
       "       [  1.37068709e+00,   1.31424749e+00],\n",
       "       [ -1.64488675e-01,  -1.38111378e-02],\n",
       "       [  1.54061667e+00,   8.66628842e-01],\n",
       "       [  2.00973850e+00,   1.19494417e+00],\n",
       "       [  9.56029871e-01,  -1.62579316e+00],\n",
       "       [ -1.10024067e-01,  -2.68139913e-01],\n",
       "       [ -5.05074028e-01,  -6.89863265e-01],\n",
       "       [ -5.73336337e-01,   3.54271963e-01],\n",
       "       [ -1.13468490e+00,  -7.30003801e-02],\n",
       "       [ -1.18012209e-01,  -1.18279867e+00],\n",
       "       [  2.27843057e+00,   3.89415576e-01],\n",
       "       [ -2.14283036e-02,  -3.80969407e-01],\n",
       "       [  5.26848756e-01,  -1.40513110e-01],\n",
       "       [ -1.71564073e+00,   1.77666344e+00],\n",
       "       [  1.40699683e+00,   1.49921387e+00],\n",
       "       [ -3.16263385e-01,  -4.33684826e-01],\n",
       "       [ -2.63251166e-01,   1.77666344e+00],\n",
       "       [  1.77517758e+00,   1.03032409e+00],\n",
       "       [  1.50679859e-01,   5.28140362e-01],\n",
       "       [ -9.89445947e-01,  -7.30003801e-02],\n",
       "       [  1.92404751e+00,   8.19462414e-01],\n",
       "       [  2.72267467e-02,  -4.42933145e-01],\n",
       "       [ -9.60398155e-01,   3.89415576e-01],\n",
       "       [  4.62943615e-01,   8.51831531e-01],\n",
       "       [ -9.89445947e-01,  -7.30003801e-02],\n",
       "       [  1.72465703e-01,   4.81898767e-01],\n",
       "       [  4.97074770e-01,   8.90674472e-01],\n",
       "       [ -6.26348556e-01,   3.89415576e-01],\n",
       "       [ -2.08060362e-01,  -1.06904435e+00],\n",
       "       [ -1.35254334e+00,  -5.35416336e-01],\n",
       "       [ -1.35254334e+00,   3.89415576e-01],\n",
       "       [ -8.44206990e-01,  -2.57966762e-01],\n",
       "       [ -1.63648550e+00,  -1.35851674e+00],\n",
       "       [  4.62943615e-01,   8.51831531e-01],\n",
       "       [ -2.05155583e-01,   7.96341617e-01],\n",
       "       [  7.94088435e-01,  -1.41955564e+00],\n",
       "       [  1.29298425e+00,   1.64441248e+00],\n",
       "       [ -1.42588901e+00,  -1.21146846e+00],\n",
       "       [ -5.82776869e-01,   6.85361787e-01],\n",
       "       [ -6.26348556e-01,  -5.35416336e-01],\n",
       "       [ -3.35870644e-01,   4.81898767e-01],\n",
       "       [ -9.89445947e-01,  -9.97832291e-01],\n",
       "       [ -6.98968034e-01,  -4.42933145e-01],\n",
       "       [  4.62943615e-01,  -5.35416336e-01],\n",
       "       [ -6.26348556e-01,   8.51831531e-01],\n",
       "       [ -2.63251166e-01,  -5.35416336e-01],\n",
       "       [  4.52776888e-01,  -9.84884645e-01],\n",
       "       [ -9.89445947e-01,  -9.97832291e-01],\n",
       "       [  8.69612692e-01,   5.64760875e-02],\n",
       "       [ -1.17825659e+00,   1.67455917e-01],\n",
       "       [  1.67568890e+00,   6.94610106e-01],\n",
       "       [  3.03180763e-01,  -1.86717429e+00],\n",
       "       [  6.80802049e-01,  -8.12865909e-01],\n",
       "       [ -2.63251166e-01,  -5.35416336e-01],\n",
       "       [  1.04389944e+00,   1.03679791e+00],\n",
       "       [  1.57941807e-01,  -1.00745337e-01],\n",
       "       [ -7.57063617e-01,  -4.15188187e-01],\n",
       "       [  4.17506423e-02,  -7.66624314e-01],\n",
       "       [  1.16009060e+00,   8.61079850e-01],\n",
       "       [ -8.29683095e-01,  -8.96100781e-01],\n",
       "       [  3.17704659e-01,  -1.09031548e+00],\n",
       "       [ -1.53409203e+00,  -7.66624314e-01],\n",
       "       [  9.98462248e-02,  -9.97832291e-01],\n",
       "       [ -6.26348556e-01,  -9.97832291e-01],\n",
       "       [  8.26041006e-01,  -5.35416336e-01],\n",
       "       [  4.62943615e-01,  -9.97832291e-01],\n",
       "       [ -6.98968034e-01,   2.05411302e+00],\n",
       "       [  8.26041006e-01,  -5.35416336e-01],\n",
       "       [  7.51556022e-02,  -1.59934580e-01],\n",
       "       [  8.98660484e-01,  -1.18279867e+00],\n",
       "       [ -1.51593716e+00,  -1.27435703e+00],\n",
       "       [  1.91533318e+00,   1.77666344e+00],\n",
       "       [ -3.14084800e-01,   1.02717683e-01],\n",
       "       [  4.62943615e-01,   1.74891849e+00],\n",
       "       [  8.75422251e-01,  -1.52313682e+00],\n",
       "       [  4.52776888e-01,  -9.84884645e-01],\n",
       "       [  4.62943615e-01,  -7.30003801e-02],\n",
       "       [  9.01565263e-01,   4.19010197e-01],\n",
       "       [ -9.89445947e-01,  -7.30003801e-02],\n",
       "       [ -1.10024067e-01,  -2.68139913e-01],\n",
       "       [ -1.35254334e+00,  -5.35416336e-01],\n",
       "       [ -9.89445947e-01,   8.51831531e-01],\n",
       "       [  9.98462248e-02,  -1.46024825e+00],\n",
       "       [ -5.99166270e-02,  -1.36776506e+00],\n",
       "       [  1.17824547e+00,  -1.00745337e-01],\n",
       "       [ -1.42661520e+00,   2.71037091e-01],\n",
       "       [ -9.89445947e-01,  -7.30003801e-02],\n",
       "       [ -5.88586427e-01,   3.94039735e-01],\n",
       "       [  1.58854553e+00,   1.49921387e+00],\n",
       "       [ -9.89445947e-01,  -7.30003801e-02],\n",
       "       [  4.99979549e-01,   1.82382987e+00],\n",
       "       [ -1.21238774e+00,  -1.06164569e+00],\n",
       "       [ -6.26348556e-01,   3.89415576e-01],\n",
       "       [  1.21632068e-01,   1.00905296e+00],\n",
       "       [  8.26041006e-01,  -9.97832291e-01],\n",
       "       [ -4.01228174e-01,  -3.59698273e-01],\n",
       "       [ -8.07897251e-01,  -3.04208358e-01],\n",
       "       [ -1.57040177e+00,  -8.12865909e-01],\n",
       "       [ -6.26348556e-01,   3.89415576e-01],\n",
       "       [ -1.18012209e-01,  -8.12865909e-01],\n",
       "       [  1.18913840e+00,   1.77666344e+00],\n",
       "       [  4.62943615e-01,  -9.97832291e-01],\n",
       "       [  1.18913840e+00,  -1.46024825e+00],\n",
       "       [  4.62943615e-01,  -1.92266420e+00],\n",
       "       [  1.18913840e+00,  -9.97832291e-01],\n",
       "       [  1.79914201e+00,   5.37388681e-01],\n",
       "       [ -1.18012209e-01,  -1.18279867e+00],\n",
       "       [  1.57941807e-01,  -1.00745337e-01],\n",
       "       [  4.23729097e-01,  -8.77976907e-02],\n",
       "       [  1.05842334e+00,  -4.89174740e-01],\n",
       "       [ -9.89445947e-01,  -7.30003801e-02],\n",
       "       [ -1.26830474e+00,   1.15980056e+00],\n",
       "       [  6.26337441e-01,  -1.20591947e+00],\n",
       "       [  9.98462248e-02,   3.16391131e+00],\n",
       "       [  2.20581109e+00,   1.03679791e+00],\n",
       "       [ -6.26348556e-01,   3.89415576e-01],\n",
       "       [ -9.62263661e-02,  -9.94132964e-01],\n",
       "       [ -6.26348556e-01,  -5.35416336e-01],\n",
       "       [ -4.23014017e-01,   6.48368511e-01],\n",
       "       [ -1.18012209e-01,  -1.18279867e+00],\n",
       "       [ -9.89445947e-01,  -7.30003801e-02],\n",
       "       [ -2.08786557e-01,  -5.08044142e-02],\n",
       "       [  9.98462248e-02,  -5.35416336e-01],\n",
       "       [ -2.63251166e-01,  -9.97832291e-01],\n",
       "       [  1.80640396e+00,   1.68418025e+00],\n",
       "       [ -2.63251166e-01,  -7.30003801e-02],\n",
       "       [ -5.67526779e-01,  -1.06626985e+00],\n",
       "       [  1.37068709e+00,   1.31424749e+00],\n",
       "       [ -1.42516282e+00,   1.40673068e+00],\n",
       "       [ -2.08786557e-01,  -1.06996918e+00],\n",
       "       [ -6.36515283e-01,   4.24559188e-01],\n",
       "       [ -3.06822853e-01,   7.96341617e-01],\n",
       "       [  7.60683475e-01,   2.15584453e+00],\n",
       "       [  7.81016929e-01,  -1.39920934e+00],\n",
       "       [  1.72465703e-01,   2.96932384e-01],\n",
       "       [ -2.63251166e-01,  -1.46024825e+00],\n",
       "       [ -2.63251166e-01,  -7.30003801e-02],\n",
       "       [ -7.86111408e-01,   5.37388681e-01],\n",
       "       [ -5.31943235e-01,   5.09643724e-01],\n",
       "       [ -2.44183551e+00,  -1.92266420e+00],\n",
       "       [ -9.50231428e-01,   1.46684475e+00],\n",
       "       [ -5.46467130e-01,  -1.09124031e+00],\n",
       "       [  6.26337441e-01,  -1.20591947e+00],\n",
       "       [ -6.26348556e-01,   3.89415576e-01],\n",
       "       [ -9.89445947e-01,   3.89415576e-01],\n",
       "       [  1.47961631e+00,  -1.36776506e+00],\n",
       "       [ -9.89445947e-01,  -7.30003801e-02],\n",
       "       [ -2.14283036e-02,   1.15980056e+00],\n",
       "       [  6.00920624e-01,  -4.24436506e-01],\n",
       "       [ -3.35870644e-01,   1.59169706e+00],\n",
       "       [  1.21092424e+00,  -3.78194911e-01],\n",
       "       [  1.47961631e+00,   1.40673068e+00],\n",
       "       [ -6.26348556e-01,   3.89415576e-01],\n",
       "       [ -2.63251166e-01,  -9.97832291e-01],\n",
       "       [  1.26175787e+00,   1.22176430e+00],\n",
       "       [  4.82863953e-02,   4.55078641e-01],\n",
       "       [ -2.63251166e-01,  -9.97832291e-01],\n",
       "       [ -1.22182828e+00,  -3.87443230e-01],\n",
       "       [ -2.63251166e-01,  -9.97832291e-01],\n",
       "       [ -2.63251166e-01,  -7.30003801e-02],\n",
       "       [  4.62943615e-01,  -1.46024825e+00],\n",
       "       [ -1.04754153e+00,  -1.46986933e-01],\n",
       "       [ -9.89445947e-01,   8.51831531e-01],\n",
       "       [ -4.66585704e-01,   2.41442470e-01],\n",
       "       [ -9.69112493e-01,   8.54606027e-01],\n",
       "       [ -9.31350364e-01,   9.86172803e-04],\n",
       "       [ -2.63251166e-01,  -1.46024825e+00],\n",
       "       [  8.26041006e-01,  -1.46024825e+00],\n",
       "       [ -1.71564073e+00,  -9.97832291e-01],\n",
       "       [ -1.22182828e+00,  -3.77270079e-01],\n",
       "       [ -8.44206990e-01,  -2.57966762e-01],\n",
       "       [ -9.53136207e-01,   6.85361787e-01],\n",
       "       [ -2.36068880e-02,  -1.56235252e-01],\n",
       "       [  1.18913840e+00,  -9.97832291e-01],\n",
       "       [ -9.89445947e-01,  -7.30003801e-02],\n",
       "       [ -6.26348556e-01,   3.89415576e-01],\n",
       "       [  5.62745379e-02,  -1.75104654e-02],\n",
       "       [ -4.81109600e-01,  -7.20382718e-01],\n",
       "       [ -5.31943235e-01,   2.69187427e-01],\n",
       "       [  4.94896186e-01,   1.83585268e+00],\n",
       "       [  2.35105005e+00,   8.51831531e-01],\n",
       "       [  2.15497745e+00,   1.00905296e+00],\n",
       "       [  1.92799157e-01,   5.55885320e-01],\n",
       "       [  1.69747474e+00,   1.59169706e+00],\n",
       "       [ -7.28015825e-01,   6.11375234e-01],\n",
       "       [  4.39292266e-02,  -7.65699482e-01],\n",
       "       [ -6.18360413e-01,   3.73693433e-01],\n",
       "       [  1.98795265e+00,   7.59348340e-01],\n",
       "       [  2.20581109e+00,   1.03679791e+00],\n",
       "       [ -2.98834710e-01,  -6.37520610e-02],\n",
       "       [  9.98462248e-02,  -5.35416336e-01],\n",
       "       [  1.26175787e+00,   1.22176430e+00],\n",
       "       [ -1.71564073e+00,   8.51831531e-01],\n",
       "       [  1.91533318e+00,   8.51831531e-01],\n",
       "       [ -6.69920243e-01,   1.11966002e-01],\n",
       "       [  9.98462248e-02,   3.89415576e-01],\n",
       "       [ -2.36068880e-02,  -1.30302682e+00],\n",
       "       [ -2.03879740e+00,  -7.98993431e-01],\n",
       "       [ -9.08299237e-03,   1.17552270e+00],\n",
       "       [ -1.71564073e+00,   8.51831531e-01],\n",
       "       [ -1.35254334e+00,  -9.97832291e-01],\n",
       "       [ -1.15066119e+00,   1.32312304e-01],\n",
       "       [ -3.67097019e-01,   5.92505832e-02],\n",
       "       [  2.13319161e+00,   8.51831531e-01],\n",
       "       [  2.35105005e+00,   8.51831531e-01],\n",
       "       [  6.69909128e-01,  -6.00154570e-01],\n",
       "       [  9.98462248e-02,  -7.30003801e-02],\n",
       "       [ -1.99014235e+00,  -1.34279459e+00],\n",
       "       [  8.26041006e-01,  -9.97832291e-01],\n",
       "       [ -2.61072581e-01,   8.19462414e-01],\n",
       "       [  1.91533318e+00,   8.51831531e-01],\n",
       "       [ -1.10750262e-01,  -1.65446295e+00],\n",
       "       [ -4.07763927e-01,  -1.06811952e+00],\n",
       "       [ -6.26348556e-01,   3.89415576e-01],\n",
       "       [  4.62943615e-01,  -9.97832291e-01],\n",
       "       [  4.19371928e-01,   1.41597900e+00],\n",
       "       [ -1.13468490e+00,   1.11966002e-01],\n",
       "       [  4.62943615e-01,  -7.30003801e-02],\n",
       "       [ -2.48727270e-01,  -5.53912974e-01],\n",
       "       [ -8.89644183e-02,   1.67455917e-01],\n",
       "       [ -9.76787556e-02,  -9.95982628e-01],\n",
       "       [ -6.91706086e-01,  -6.96337088e-01],\n",
       "       [ -3.06822853e-01,  -1.75104654e-02],\n",
       "       [ -2.63251166e-01,  -9.97832291e-01],\n",
       "       [  3.11895101e-01,   1.26763313e-01],\n",
       "       [  6.00920624e-01,   3.98663895e-01],\n",
       "       [  4.62943615e-01,  -7.30003801e-02],\n",
       "       [ -1.23126881e+00,  -3.80969407e-01],\n",
       "       [  7.60683475e-01,   2.15584453e+00],\n",
       "       [ -1.07513693e+00,  -9.65463175e-01],\n",
       "       [  1.55223579e+00,   1.31424749e+00],\n",
       "       [ -4.66585704e-01,  -7.38879356e-01],\n",
       "       [ -6.37241478e-01,   4.16235701e-01],\n",
       "       [  1.36155964e-01,   1.36048908e+00],\n",
       "       [ -2.44183551e+00,  -1.92266420e+00],\n",
       "       [  1.42878267e+00,   5.46637000e-01],\n",
       "       [  4.62943615e-01,  -5.35416336e-01],\n",
       "       [ -2.63251166e-01,  -9.97832291e-01],\n",
       "       [  4.99979549e-01,   1.82382987e+00],\n",
       "       [  3.48931035e-01,  -1.00523095e+00],\n",
       "       [ -5.60991026e-01,  -1.07181884e+00],\n",
       "       [  1.26175787e+00,   1.22176430e+00]])"
      ]
     },
     "execution_count": 58,
     "metadata": {},
     "output_type": "execute_result"
    }
   ],
   "source": [
    "X_train[]"
   ]
  },
  {
   "cell_type": "code",
   "execution_count": 49,
   "metadata": {},
   "outputs": [
    {
     "name": "stderr",
     "output_type": "stream",
     "text": [
      "C:\\Users\\Ung Lik Teng\\Anaconda3\\lib\\site-packages\\sklearn\\utils\\deprecation.py:122: FutureWarning: You are accessing a training score ('mean_train_neg_mean_squared_error'), which will not be available by default any more in 0.21. If you need training scores, please set return_train_score=True\n",
      "  warnings.warn(*warn_args, **warn_kwargs)\n",
      "C:\\Users\\Ung Lik Teng\\Anaconda3\\lib\\site-packages\\sklearn\\utils\\deprecation.py:122: FutureWarning: You are accessing a training score ('mean_train_r2'), which will not be available by default any more in 0.21. If you need training scores, please set return_train_score=True\n",
      "  warnings.warn(*warn_args, **warn_kwargs)\n",
      "C:\\Users\\Ung Lik Teng\\Anaconda3\\lib\\site-packages\\sklearn\\utils\\deprecation.py:122: FutureWarning: You are accessing a training score ('split0_train_neg_mean_squared_error'), which will not be available by default any more in 0.21. If you need training scores, please set return_train_score=True\n",
      "  warnings.warn(*warn_args, **warn_kwargs)\n",
      "C:\\Users\\Ung Lik Teng\\Anaconda3\\lib\\site-packages\\sklearn\\utils\\deprecation.py:122: FutureWarning: You are accessing a training score ('split0_train_r2'), which will not be available by default any more in 0.21. If you need training scores, please set return_train_score=True\n",
      "  warnings.warn(*warn_args, **warn_kwargs)\n",
      "C:\\Users\\Ung Lik Teng\\Anaconda3\\lib\\site-packages\\sklearn\\utils\\deprecation.py:122: FutureWarning: You are accessing a training score ('split1_train_neg_mean_squared_error'), which will not be available by default any more in 0.21. If you need training scores, please set return_train_score=True\n",
      "  warnings.warn(*warn_args, **warn_kwargs)\n",
      "C:\\Users\\Ung Lik Teng\\Anaconda3\\lib\\site-packages\\sklearn\\utils\\deprecation.py:122: FutureWarning: You are accessing a training score ('split1_train_r2'), which will not be available by default any more in 0.21. If you need training scores, please set return_train_score=True\n",
      "  warnings.warn(*warn_args, **warn_kwargs)\n",
      "C:\\Users\\Ung Lik Teng\\Anaconda3\\lib\\site-packages\\sklearn\\utils\\deprecation.py:122: FutureWarning: You are accessing a training score ('split2_train_neg_mean_squared_error'), which will not be available by default any more in 0.21. If you need training scores, please set return_train_score=True\n",
      "  warnings.warn(*warn_args, **warn_kwargs)\n",
      "C:\\Users\\Ung Lik Teng\\Anaconda3\\lib\\site-packages\\sklearn\\utils\\deprecation.py:122: FutureWarning: You are accessing a training score ('split2_train_r2'), which will not be available by default any more in 0.21. If you need training scores, please set return_train_score=True\n",
      "  warnings.warn(*warn_args, **warn_kwargs)\n",
      "C:\\Users\\Ung Lik Teng\\Anaconda3\\lib\\site-packages\\sklearn\\utils\\deprecation.py:122: FutureWarning: You are accessing a training score ('split3_train_neg_mean_squared_error'), which will not be available by default any more in 0.21. If you need training scores, please set return_train_score=True\n",
      "  warnings.warn(*warn_args, **warn_kwargs)\n",
      "C:\\Users\\Ung Lik Teng\\Anaconda3\\lib\\site-packages\\sklearn\\utils\\deprecation.py:122: FutureWarning: You are accessing a training score ('split3_train_r2'), which will not be available by default any more in 0.21. If you need training scores, please set return_train_score=True\n",
      "  warnings.warn(*warn_args, **warn_kwargs)\n",
      "C:\\Users\\Ung Lik Teng\\Anaconda3\\lib\\site-packages\\sklearn\\utils\\deprecation.py:122: FutureWarning: You are accessing a training score ('split4_train_neg_mean_squared_error'), which will not be available by default any more in 0.21. If you need training scores, please set return_train_score=True\n",
      "  warnings.warn(*warn_args, **warn_kwargs)\n",
      "C:\\Users\\Ung Lik Teng\\Anaconda3\\lib\\site-packages\\sklearn\\utils\\deprecation.py:122: FutureWarning: You are accessing a training score ('split4_train_r2'), which will not be available by default any more in 0.21. If you need training scores, please set return_train_score=True\n",
      "  warnings.warn(*warn_args, **warn_kwargs)\n",
      "C:\\Users\\Ung Lik Teng\\Anaconda3\\lib\\site-packages\\sklearn\\utils\\deprecation.py:122: FutureWarning: You are accessing a training score ('std_train_neg_mean_squared_error'), which will not be available by default any more in 0.21. If you need training scores, please set return_train_score=True\n",
      "  warnings.warn(*warn_args, **warn_kwargs)\n",
      "C:\\Users\\Ung Lik Teng\\Anaconda3\\lib\\site-packages\\sklearn\\utils\\deprecation.py:122: FutureWarning: You are accessing a training score ('std_train_r2'), which will not be available by default any more in 0.21. If you need training scores, please set return_train_score=True\n",
      "  warnings.warn(*warn_args, **warn_kwargs)\n"
     ]
    },
    {
     "data": {
      "text/plain": [
       "{'mean_fit_time': array([ 0.0032526 ,  0.00152855,  0.        ,  0.00038075,  0.00103574,\n",
       "         0.000597  ,  0.00232906,  0.00142269,  0.00066814,  0.00039849,\n",
       "         0.00128274,  0.00245395,  0.00483351,  0.        ,  0.00043273,\n",
       "         0.00146089,  0.00814996,  0.01364384,  0.00039845,  0.00186992]),\n",
       " 'mean_score_time': array([ 0.00284247,  0.00052891,  0.00176134,  0.00207601,  0.00237746,\n",
       "         0.        ,  0.00576038,  0.        ,  0.00100956,  0.00019937,\n",
       "         0.00039926,  0.00136223,  0.00019941,  0.00019941,  0.00059805,\n",
       "         0.00040116,  0.0011982 ,  0.00039878,  0.00052557,  0.00100183]),\n",
       " 'mean_test_neg_mean_squared_error': array([-0.73371698, -0.53484239, -0.58146997, -0.63618671, -0.61212414,\n",
       "        -0.64162365, -0.37557424, -0.63860511, -0.61374311, -0.58593008,\n",
       "        -0.38938226, -0.41847126, -0.70789615, -0.61342372, -0.58593021,\n",
       "        -0.39956948, -0.66883484, -1.09041079, -0.61339305, -0.5859277 ]),\n",
       " 'mean_test_r2': array([-0.19428611,  0.01156763,  0.07144374,  0.06244562,  0.09449107,\n",
       "        -0.14692649,  0.18086739, -0.09223105,  0.10862084,  0.14364252,\n",
       "         0.11182114,  0.10286689, -0.62905943,  0.10883406,  0.14364244,\n",
       "         0.12642167, -0.72842863, -1.87519822,  0.1089756 ,  0.14366048]),\n",
       " 'mean_train_neg_mean_squared_error': array([-0.67593445, -0.44163239, -0.32265467, -0.25931207, -0.24194066,\n",
       "        -0.55381655, -0.30611159, -0.17232361, -0.09716882, -0.09644224,\n",
       "        -0.34554056, -0.29042523, -0.12154   , -0.09711247, -0.09644329,\n",
       "        -0.32937994, -0.27851574, -0.10404534, -0.09712055, -0.09643826]),\n",
       " 'mean_train_r2': array([ 0.09397174,  0.40166351,  0.57022473,  0.65598282,  0.67814287,\n",
       "         0.25178997,  0.58722463,  0.76761312,  0.86451407,  0.86553199,\n",
       "         0.53026128,  0.61178507,  0.83445318,  0.86461099,  0.86553035,\n",
       "         0.55399027,  0.62701504,  0.85494054,  0.86459959,  0.86553904]),\n",
       " 'param_C': masked_array(data = [1.0 1.0 1.0 1.0 1.0 10.0 10.0 10.0 10.0 10.0 100.0 100.0 100.0 100.0 100.0\n",
       "  1000.0 1000.0 1000.0 1000.0 1000.0],\n",
       "              mask = [False False False False False False False False False False False False\n",
       "  False False False False False False False False],\n",
       "        fill_value = ?),\n",
       " 'param_gamma': masked_array(data = [0.01 0.10000000000000001 1.0 10.0 100.0 0.01 0.10000000000000001 1.0 10.0\n",
       "  100.0 0.01 0.10000000000000001 1.0 10.0 100.0 0.01 0.10000000000000001 1.0\n",
       "  10.0 100.0],\n",
       "              mask = [False False False False False False False False False False False False\n",
       "  False False False False False False False False],\n",
       "        fill_value = ?),\n",
       " 'params': [{'C': 1.0, 'gamma': 0.01},\n",
       "  {'C': 1.0, 'gamma': 0.10000000000000001},\n",
       "  {'C': 1.0, 'gamma': 1.0},\n",
       "  {'C': 1.0, 'gamma': 10.0},\n",
       "  {'C': 1.0, 'gamma': 100.0},\n",
       "  {'C': 10.0, 'gamma': 0.01},\n",
       "  {'C': 10.0, 'gamma': 0.10000000000000001},\n",
       "  {'C': 10.0, 'gamma': 1.0},\n",
       "  {'C': 10.0, 'gamma': 10.0},\n",
       "  {'C': 10.0, 'gamma': 100.0},\n",
       "  {'C': 100.0, 'gamma': 0.01},\n",
       "  {'C': 100.0, 'gamma': 0.10000000000000001},\n",
       "  {'C': 100.0, 'gamma': 1.0},\n",
       "  {'C': 100.0, 'gamma': 10.0},\n",
       "  {'C': 100.0, 'gamma': 100.0},\n",
       "  {'C': 1000.0, 'gamma': 0.01},\n",
       "  {'C': 1000.0, 'gamma': 0.10000000000000001},\n",
       "  {'C': 1000.0, 'gamma': 1.0},\n",
       "  {'C': 1000.0, 'gamma': 10.0},\n",
       "  {'C': 1000.0, 'gamma': 100.0}],\n",
       " 'rank_test_neg_mean_squared_error': array([19,  5,  6, 14, 10, 16,  1, 15, 13,  8,  2,  4, 18, 12,  9,  3, 17,\n",
       "        20, 11,  7]),\n",
       " 'rank_test_r2': array([17, 14, 12, 13, 11, 16,  1, 15,  9,  3,  6, 10, 18,  8,  4,  5, 19,\n",
       "        20,  7,  2]),\n",
       " 'split0_test_neg_mean_squared_error': array([-0.54165605, -0.33324989, -0.16479251, -0.21295541, -0.26638416,\n",
       "        -0.46705285, -0.1061401 , -0.14409468, -0.08188279, -0.13631712,\n",
       "        -0.13313407, -0.08817012, -0.16045085, -0.08188279, -0.13631712,\n",
       "        -0.13223592, -0.30410624, -1.32059753, -0.08193217, -0.13631712]),\n",
       " 'split0_test_r2': array([-0.03859594,  0.36101151,  0.68401935,  0.59166961,  0.48922291,\n",
       "         0.10445162,  0.79648215,  0.72370631,  0.84299422,  0.73861935,\n",
       "         0.74472269,  0.83093859,  0.69234425,  0.84299422,  0.73861935,\n",
       "         0.74644483,  0.41689286, -1.53217376,  0.84289954,  0.73861935]),\n",
       " 'split0_train_neg_mean_squared_error': array([-0.76596603, -0.55181862, -0.42008905, -0.34088546, -0.32118588,\n",
       "        -0.68589025, -0.36918872, -0.21647327, -0.12847748, -0.12835813,\n",
       "        -0.39101453, -0.35934351, -0.1663306 , -0.12847748, -0.12835813,\n",
       "        -0.38505067, -0.35075317, -0.12884766, -0.12848765, -0.12835813]),\n",
       " 'split0_train_r2': array([ 0.04560992,  0.31243659,  0.47657102,  0.57525832,  0.5998039 ,\n",
       "         0.14538397,  0.53999259,  0.73027533,  0.83991767,  0.84006637,\n",
       "         0.51279774,  0.55225967,  0.79275285,  0.83991767,  0.84006637,\n",
       "         0.52022868,  0.56296319,  0.83945643,  0.83990499,  0.84006637]),\n",
       " 'split1_test_neg_mean_squared_error': array([-0.57623974, -0.55826798, -0.513205  , -0.43902417, -0.42034046,\n",
       "        -0.61818425, -0.5424273 , -0.39226403, -0.46212898, -0.43502661,\n",
       "        -0.61464326, -0.56037726, -0.37594261, -0.46212898, -0.43502661,\n",
       "        -0.61381094, -0.57060183, -0.42602751, -0.46212898, -0.43502661]),\n",
       " 'split1_test_r2': array([-0.77173401, -0.71647718, -0.57792443, -0.34984451, -0.29239868,\n",
       "        -0.90069858, -0.66777267, -0.20607356, -0.42088368, -0.33755342,\n",
       "        -0.88981131, -0.72296249, -0.15589097, -0.42088368, -0.33755342,\n",
       "        -0.8872522 , -0.75439942, -0.30988437, -0.42088368, -0.33755342]),\n",
       " 'split1_train_neg_mean_squared_error': array([-0.6727564 , -0.37724011, -0.31127666, -0.22947111, -0.20431805,\n",
       "        -0.50069051, -0.27842255, -0.15056503, -0.03850637, -0.03805821,\n",
       "        -0.31233592, -0.29014512, -0.07682604, -0.03850637, -0.03805821,\n",
       "        -0.2970777 , -0.25686543, -0.04388617, -0.03850637, -0.03805821]),\n",
       " 'split1_train_r2': array([ 0.17066044,  0.53495775,  0.61627411,  0.71711979,  0.74812719,\n",
       "         0.38277444,  0.65677496,  0.81439116,  0.95253132,  0.9530838 ,\n",
       "         0.61496831,  0.64232399,  0.90529279,  0.95253132,  0.9530838 ,\n",
       "         0.63377786,  0.68334948,  0.94589939,  0.95253132,  0.9530838 ]),\n",
       " 'split2_test_neg_mean_squared_error': array([-1.03389514, -0.76489425, -0.83219532, -0.90754356, -0.84505678,\n",
       "        -0.88155314, -0.4429181 , -0.78827314, -0.8364531 , -0.83128911,\n",
       "        -0.48163609, -0.44022337, -0.82151798, -0.83655392, -0.83128911,\n",
       "        -0.45047971, -0.65309344, -0.65095607, -0.83647243, -0.83128911]),\n",
       " 'split2_test_r2': array([ 0.03955838,  0.28944799,  0.22692836,  0.15693327,  0.21498065,\n",
       "         0.18107718,  0.58854921,  0.26773007,  0.22297307,  0.22777018,\n",
       "         0.55258195,  0.59105249,  0.23684712,  0.22287942,  0.22777018,\n",
       "         0.58152482,  0.39330587,  0.39529139,  0.22295512,  0.22777018]),\n",
       " 'split2_train_neg_mean_squared_error': array([-0.63304655, -0.46596257, -0.31700761, -0.28747485, -0.28026247,\n",
       "        -0.52628145, -0.27619092, -0.17140958, -0.10415548, -0.10224814,\n",
       "        -0.31970748, -0.26448925, -0.12057322, -0.10413345, -0.10225182,\n",
       "        -0.30091503, -0.26228949, -0.1211388 , -0.10414674, -0.10224814]),\n",
       " 'split2_train_r2': array([ 0.05727429,  0.30609385,  0.52791588,  0.57189572,  0.58263632,\n",
       "         0.21626766,  0.58869963,  0.7447388 ,  0.84489284,  0.84773323,\n",
       "         0.52389526,  0.60612563,  0.82044374,  0.84492565,  0.84772776,\n",
       "         0.55188077,  0.60940149,  0.81960147,  0.84490586,  0.84773323]),\n",
       " 'split3_test_neg_mean_squared_error': array([-1.34972795, -0.84835274, -1.26858675, -1.50032356, -1.41507968,\n",
       "        -1.05581893, -0.60635289, -1.59763189, -1.57955678, -1.42508237,\n",
       "        -0.5235178 , -0.79303312, -1.5312363 , -1.57783638, -1.42508299,\n",
       "        -0.62318454, -1.14715862, -1.81349999, -1.57780948, -1.42508299]),\n",
       " 'split3_test_r2': array([ 0.11099188,  0.4412263 ,  0.16443612,  0.01180098,  0.06794748,\n",
       "         0.30457719,  0.60062126, -0.05229186, -0.04038655,  0.06135914,\n",
       "         0.65518119,  0.47766297, -0.00855992, -0.0392534 ,  0.06135873,\n",
       "         0.58953498,  0.24441564, -0.19447495, -0.03923569,  0.06135873]),\n",
       " 'split3_train_neg_mean_squared_error': array([-0.52665696, -0.36292308, -0.21345231, -0.14582242, -0.13699426,\n",
       "        -0.46838536, -0.26309942, -0.13858397, -0.11431799, -0.11392475,\n",
       "        -0.32640524, -0.21616292, -0.1128167 , -0.11407384, -0.11392629,\n",
       "        -0.29779613, -0.21022848, -0.11814065, -0.11408237, -0.11390515]),\n",
       " 'split3_train_r2': array([ 0.06280144,  0.35416976,  0.62015655,  0.74050554,  0.75621546,\n",
       "         0.16649713,  0.53180834,  0.75338653,  0.79656843,  0.7972682 ,\n",
       "         0.41915413,  0.61533295,  0.79924   ,  0.79700289,  0.79726547,\n",
       "         0.47006473,  0.62589343,  0.78976591,  0.79698771,  0.79730308]),\n",
       " 'split4_test_neg_mean_squared_error': array([-0.1845261 , -0.18777368, -0.16645002, -0.15956241, -0.14519052,\n",
       "        -0.20137917, -0.20452682, -0.31571731, -0.15704486, -0.14280911,\n",
       "        -0.21727538, -0.24057978, -0.70010078, -0.15703846, -0.14280911,\n",
       "        -0.20243936, -0.70237123, -1.22004677, -0.15693679, -0.14279633]),\n",
       " 'split4_test_r2': array([-0.3258045 , -0.34913809, -0.1959294 , -0.14644252, -0.0431817 ,\n",
       "        -0.44689239, -0.46950799, -1.26840234, -0.12835408, -0.02607145,\n",
       "        -0.56110533, -0.72854545, -4.03016522, -0.12830812, -0.02607145,\n",
       "        -0.45450981, -4.04647823, -7.76593345, -0.12757767, -0.0259796 ]),\n",
       " 'split4_train_neg_mean_squared_error': array([-0.78124629, -0.45021758, -0.35144774, -0.29290653, -0.26694264,\n",
       "        -0.58783516, -0.34365635, -0.18458619, -0.1003868 , -0.09962198,\n",
       "        -0.37823963, -0.32198534, -0.13115344, -0.10037119, -0.09962198,\n",
       "        -0.36606019, -0.31244211, -0.10821345, -0.10037963, -0.09962166]),\n",
       " 'split4_train_r2': array([ 0.13351263,  0.50065959,  0.61020612,  0.67513471,  0.70393149,\n",
       "         0.34802667,  0.61884762,  0.79527378,  0.88866009,  0.88950835,\n",
       "         0.58049098,  0.64288313,  0.85453652,  0.8886774 ,  0.88950835,\n",
       "         0.59399932,  0.65346761,  0.87997948,  0.88866804,  0.88950871]),\n",
       " 'std_fit_time': array([ 0.0065052 ,  0.001608  ,  0.        ,  0.00076151,  0.00064997,\n",
       "         0.00048745,  0.00371774,  0.00162317,  0.00082878,  0.00048805,\n",
       "         0.00154316,  0.00142244,  0.00457075,  0.        ,  0.00053272,\n",
       "         0.00112057,  0.00431082,  0.00420824,  0.00048799,  0.00228998]),\n",
       " 'std_score_time': array([ 0.00458647,  0.00045013,  0.00224876,  0.00181561,  0.00329892,\n",
       "         0.        ,  0.007223  ,  0.        ,  0.00111482,  0.00039873,\n",
       "         0.00048899,  0.00116055,  0.00039883,  0.00039883,  0.00079756,\n",
       "         0.00049134,  0.00159897,  0.0004884 ,  0.00065086,  0.00109911]),\n",
       " 'std_test_neg_mean_squared_error': array([ 0.40528862,  0.24935893,  0.42076204,  0.50178282,  0.46148574,\n",
       "         0.29952561,  0.19525348,  0.51948281,  0.54687456,  0.48631971,\n",
       "         0.18724927,  0.24738861,  0.47071256,  0.54628698,  0.48631992,\n",
       "         0.20565723,  0.2749772 ,  0.49193334,  0.54627751,  0.48632221]),\n",
       " 'std_test_r2': array([ 0.32115041,  0.45526942,  0.42863741,  0.32285414,  0.26363585,\n",
       "         0.45166012,  0.61075353,  0.66536259,  0.43428062,  0.36016299,\n",
       "         0.68411124,  0.67656536,  1.70682319,  0.43419471,  0.36016301,\n",
       "         0.65826941,  1.69613214,  2.98164666,  0.43408485,  0.36015451]),\n",
       " 'std_train_neg_mean_squared_error': array([ 0.09309083,  0.06804144,  0.06694625,  0.06685257,  0.0645022 ,\n",
       "         0.07678512,  0.04219078,  0.02724774,  0.03090236,  0.03090882,\n",
       "         0.03247512,  0.04885369,  0.02889631,  0.03087407,  0.03090914,\n",
       "         0.0381992 ,  0.04850654,  0.03079779,  0.03087785,  0.0309066 ]),\n",
       " 'std_train_r2': array([ 0.04919714,  0.09686923,  0.05791943,  0.07047794,  0.07337122,\n",
       "         0.09620538,  0.04720438,  0.03185291,  0.05279518,  0.05266009,\n",
       "         0.06691578,  0.03312885,  0.04146503,  0.05268264,  0.05266117,\n",
       "         0.05684114,  0.04071226,  0.05410508,  0.05268835,  0.05265108])}"
      ]
     },
     "execution_count": 49,
     "metadata": {},
     "output_type": "execute_result"
    }
   ],
   "source": [
    "reg_CV.cv_results_"
   ]
  },
  {
   "cell_type": "markdown",
   "metadata": {},
   "source": [
    "## Kernel Ridge"
   ]
  },
  {
   "cell_type": "code",
   "execution_count": 42,
   "metadata": {},
   "outputs": [
    {
     "name": "stdout",
     "output_type": "stream",
     "text": [
      "FOR molar_volume\n",
      "Performing grid search...\n",
      "parameters:\n",
      "{'alpha': [1.0, 0.1, 0.01, 0.001],\n",
      " 'gamma': array([  1.00000000e-02,   1.00000000e-01,   1.00000000e+00,\n",
      "         1.00000000e+01,   1.00000000e+02])}\n",
      "Fitting 5 folds for each of 20 candidates, totalling 100 fits\n"
     ]
    },
    {
     "name": "stderr",
     "output_type": "stream",
     "text": [
      "[Parallel(n_jobs=1)]: Done 100 out of 100 | elapsed:    2.2s finished\n"
     ]
    },
    {
     "name": "stdout",
     "output_type": "stream",
     "text": [
      "done in 2.354s\n",
      "\n",
      "Best CV score: 0.264\n",
      "Best parameters set:\n",
      "\talpha: 1.0\n",
      "\tgamma: 1.0\n",
      "Test score with best_estimator_: 0.264\n",
      "\n",
      "\n",
      "FOR density\n",
      "Performing grid search...\n",
      "parameters:\n",
      "{'alpha': [1.0, 0.1, 0.01, 0.001],\n",
      " 'gamma': array([  1.00000000e-02,   1.00000000e-01,   1.00000000e+00,\n",
      "         1.00000000e+01,   1.00000000e+02])}\n",
      "Fitting 5 folds for each of 20 candidates, totalling 100 fits\n"
     ]
    },
    {
     "name": "stderr",
     "output_type": "stream",
     "text": [
      "[Parallel(n_jobs=1)]: Done 100 out of 100 | elapsed:    2.0s finished\n"
     ]
    },
    {
     "name": "stdout",
     "output_type": "stream",
     "text": [
      "done in 2.165s\n",
      "\n",
      "Best CV score: 0.805\n",
      "Best parameters set:\n",
      "\talpha: 1.0\n",
      "\tgamma: 0.01\n",
      "Test score with best_estimator_: 0.818\n",
      "\n",
      "\n",
      "FOR youngs_modulus\n",
      "Performing grid search...\n",
      "parameters:\n",
      "{'alpha': [1.0, 0.1, 0.01, 0.001],\n",
      " 'gamma': array([  1.00000000e-02,   1.00000000e-01,   1.00000000e+00,\n",
      "         1.00000000e+01,   1.00000000e+02])}\n",
      "Fitting 5 folds for each of 20 candidates, totalling 100 fits\n"
     ]
    },
    {
     "name": "stderr",
     "output_type": "stream",
     "text": [
      "[Parallel(n_jobs=1)]: Done 100 out of 100 | elapsed:    0.4s finished\n"
     ]
    },
    {
     "name": "stdout",
     "output_type": "stream",
     "text": [
      "done in 0.509s\n",
      "\n",
      "Best CV score: 0.336\n",
      "Best parameters set:\n",
      "\talpha: 1.0\n",
      "\tgamma: 0.01\n",
      "Test score with best_estimator_: 0.742\n",
      "\n",
      "\n",
      "FOR shear_modulus\n",
      "Performing grid search...\n",
      "parameters:\n",
      "{'alpha': [1.0, 0.1, 0.01, 0.001],\n",
      " 'gamma': array([  1.00000000e-02,   1.00000000e-01,   1.00000000e+00,\n",
      "         1.00000000e+01,   1.00000000e+02])}\n",
      "Fitting 5 folds for each of 20 candidates, totalling 100 fits\n"
     ]
    },
    {
     "name": "stderr",
     "output_type": "stream",
     "text": [
      "[Parallel(n_jobs=1)]: Done 100 out of 100 | elapsed:    0.4s finished\n"
     ]
    },
    {
     "name": "stdout",
     "output_type": "stream",
     "text": [
      "done in 0.497s\n",
      "\n",
      "Best CV score: 0.461\n",
      "Best parameters set:\n",
      "\talpha: 1.0\n",
      "\tgamma: 0.01\n",
      "Test score with best_estimator_: 0.800\n",
      "\n",
      "\n",
      "FOR bulk_modulus\n",
      "Performing grid search...\n",
      "parameters:\n",
      "{'alpha': [1.0, 0.1, 0.01, 0.001],\n",
      " 'gamma': array([  1.00000000e-02,   1.00000000e-01,   1.00000000e+00,\n",
      "         1.00000000e+01,   1.00000000e+02])}\n",
      "Fitting 5 folds for each of 20 candidates, totalling 100 fits\n"
     ]
    },
    {
     "name": "stderr",
     "output_type": "stream",
     "text": [
      "[Parallel(n_jobs=1)]: Done 100 out of 100 | elapsed:    0.3s finished\n"
     ]
    },
    {
     "name": "stdout",
     "output_type": "stream",
     "text": [
      "done in 0.390s\n",
      "\n",
      "Best CV score: 0.403\n",
      "Best parameters set:\n",
      "\talpha: 1.0\n",
      "\tgamma: 0.01\n",
      "Test score with best_estimator_: 0.519\n",
      "\n",
      "\n",
      "FOR poisson_ratio\n",
      "Performing grid search...\n",
      "parameters:\n",
      "{'alpha': [1.0, 0.1, 0.01, 0.001],\n",
      " 'gamma': array([  1.00000000e-02,   1.00000000e-01,   1.00000000e+00,\n",
      "         1.00000000e+01,   1.00000000e+02])}\n",
      "Fitting 5 folds for each of 20 candidates, totalling 100 fits\n",
      "done in 0.421s\n",
      "\n",
      "Best CV score: -0.168\n",
      "Best parameters set:\n",
      "\talpha: 1.0\n",
      "\tgamma: 0.01\n",
      "Test score with best_estimator_: 0.159\n",
      "\n",
      "\n"
     ]
    },
    {
     "name": "stderr",
     "output_type": "stream",
     "text": [
      "[Parallel(n_jobs=1)]: Done 100 out of 100 | elapsed:    0.3s finished\n"
     ]
    }
   ],
   "source": [
    "for col in columns:\n",
    "    print(\"FOR\",col)\n",
    "\n",
    "    # Extract columns\n",
    "    colext = ColumnExtractor(['CaO', 'Al2O3', col])\n",
    "    model_df = colext.fit_transform(cas_clean)\n",
    "\n",
    "    #Create train-test split\n",
    "    X_train, X_test, y_train, y_test = train_test_split(model_df[:,0:1], model_df[:,2], test_size=0.1, random_state=42)\n",
    "        \n",
    "    #Fit regressor\n",
    "    reg_CV = grid_reg(X_train, X_test,y_train,y_test, kernelridge ,parameters_kernelridge)"
   ]
  },
  {
   "cell_type": "markdown",
   "metadata": {},
   "source": [
    "## Polynomial Regression "
   ]
  },
  {
   "cell_type": "code",
   "execution_count": 44,
   "metadata": {},
   "outputs": [
    {
     "name": "stdout",
     "output_type": "stream",
     "text": [
      "FOR molar_volume\n",
      "Performing grid search...\n",
      "parameters:\n",
      "{'linearregression__fit_intercept': [True, False],\n",
      " 'linearregression__normalize': [True, False],\n",
      " 'polynomialfeatures__degree': array([0, 1, 2, 3, 4, 5, 6, 7, 8, 9])}\n",
      "Fitting 5 folds for each of 40 candidates, totalling 200 fits\n"
     ]
    },
    {
     "name": "stderr",
     "output_type": "stream",
     "text": [
      "[Parallel(n_jobs=1)]: Done 200 out of 200 | elapsed:    2.1s finished\n"
     ]
    },
    {
     "name": "stdout",
     "output_type": "stream",
     "text": [
      "done in 2.235s\n",
      "\n",
      "Best CV score: 0.960\n",
      "Best parameters set:\n",
      "\tlinearregression__fit_intercept: True\n",
      "\tlinearregression__normalize: True\n",
      "\tpolynomialfeatures__degree: 4\n",
      "Test score with best_estimator_: 0.914\n",
      "\n",
      "\n",
      "FOR density\n",
      "Performing grid search...\n",
      "parameters:\n",
      "{'linearregression__fit_intercept': [True, False],\n",
      " 'linearregression__normalize': [True, False],\n",
      " 'polynomialfeatures__degree': array([0, 1, 2, 3, 4, 5, 6, 7, 8, 9])}\n",
      "Fitting 5 folds for each of 40 candidates, totalling 200 fits\n"
     ]
    },
    {
     "name": "stderr",
     "output_type": "stream",
     "text": [
      "[Parallel(n_jobs=1)]: Done 200 out of 200 | elapsed:    2.1s finished\n"
     ]
    },
    {
     "name": "stdout",
     "output_type": "stream",
     "text": [
      "done in 2.187s\n",
      "\n",
      "Best CV score: 0.927\n",
      "Best parameters set:\n",
      "\tlinearregression__fit_intercept: True\n",
      "\tlinearregression__normalize: False\n",
      "\tpolynomialfeatures__degree: 3\n",
      "Test score with best_estimator_: 0.960\n",
      "\n",
      "\n",
      "FOR youngs_modulus\n",
      "Performing grid search...\n",
      "parameters:\n",
      "{'linearregression__fit_intercept': [True, False],\n",
      " 'linearregression__normalize': [True, False],\n",
      " 'polynomialfeatures__degree': array([0, 1, 2, 3, 4, 5, 6, 7, 8, 9])}\n",
      "Fitting 5 folds for each of 40 candidates, totalling 200 fits\n"
     ]
    },
    {
     "name": "stderr",
     "output_type": "stream",
     "text": [
      "[Parallel(n_jobs=1)]: Done 200 out of 200 | elapsed:    1.9s finished\n"
     ]
    },
    {
     "name": "stdout",
     "output_type": "stream",
     "text": [
      "done in 2.012s\n",
      "\n",
      "Best CV score: 0.556\n",
      "Best parameters set:\n",
      "\tlinearregression__fit_intercept: False\n",
      "\tlinearregression__normalize: True\n",
      "\tpolynomialfeatures__degree: 2\n",
      "Test score with best_estimator_: 0.850\n",
      "\n",
      "\n",
      "FOR shear_modulus\n",
      "Performing grid search...\n",
      "parameters:\n",
      "{'linearregression__fit_intercept': [True, False],\n",
      " 'linearregression__normalize': [True, False],\n",
      " 'polynomialfeatures__degree': array([0, 1, 2, 3, 4, 5, 6, 7, 8, 9])}\n",
      "Fitting 5 folds for each of 40 candidates, totalling 200 fits\n"
     ]
    },
    {
     "name": "stderr",
     "output_type": "stream",
     "text": [
      "[Parallel(n_jobs=1)]: Done 200 out of 200 | elapsed:    2.0s finished\n"
     ]
    },
    {
     "name": "stdout",
     "output_type": "stream",
     "text": [
      "done in 2.067s\n",
      "\n",
      "Best CV score: 0.743\n",
      "Best parameters set:\n",
      "\tlinearregression__fit_intercept: True\n",
      "\tlinearregression__normalize: False\n",
      "\tpolynomialfeatures__degree: 1\n",
      "Test score with best_estimator_: 0.894\n",
      "\n",
      "\n",
      "FOR bulk_modulus\n",
      "Performing grid search...\n",
      "parameters:\n",
      "{'linearregression__fit_intercept': [True, False],\n",
      " 'linearregression__normalize': [True, False],\n",
      " 'polynomialfeatures__degree': array([0, 1, 2, 3, 4, 5, 6, 7, 8, 9])}\n",
      "Fitting 5 folds for each of 40 candidates, totalling 200 fits\n"
     ]
    },
    {
     "name": "stderr",
     "output_type": "stream",
     "text": [
      "[Parallel(n_jobs=1)]: Done 200 out of 200 | elapsed:    1.7s finished\n"
     ]
    },
    {
     "name": "stdout",
     "output_type": "stream",
     "text": [
      "done in 1.833s\n",
      "\n",
      "Best CV score: 0.594\n",
      "Best parameters set:\n",
      "\tlinearregression__fit_intercept: False\n",
      "\tlinearregression__normalize: True\n",
      "\tpolynomialfeatures__degree: 2\n",
      "Test score with best_estimator_: 0.706\n",
      "\n",
      "\n",
      "FOR poisson_ratio\n",
      "Performing grid search...\n",
      "parameters:\n",
      "{'linearregression__fit_intercept': [True, False],\n",
      " 'linearregression__normalize': [True, False],\n",
      " 'polynomialfeatures__degree': array([0, 1, 2, 3, 4, 5, 6, 7, 8, 9])}\n",
      "Fitting 5 folds for each of 40 candidates, totalling 200 fits\n",
      "done in 1.970s\n",
      "\n",
      "Best CV score: 0.097\n",
      "Best parameters set:\n",
      "\tlinearregression__fit_intercept: True\n",
      "\tlinearregression__normalize: False\n",
      "\tpolynomialfeatures__degree: 2\n",
      "Test score with best_estimator_: 0.872\n",
      "\n",
      "\n"
     ]
    },
    {
     "name": "stderr",
     "output_type": "stream",
     "text": [
      "[Parallel(n_jobs=1)]: Done 200 out of 200 | elapsed:    1.9s finished\n"
     ]
    }
   ],
   "source": [
    "for col in columns:\n",
    "    print(\"FOR\",col)\n",
    "\n",
    "    # Extract columns\n",
    "    colext = ColumnExtractor(['CaO', 'Al2O3', col])\n",
    "    model_df = colext.fit_transform(cas_clean)\n",
    "\n",
    "    #Create train-test split\n",
    "    X_train, X_test, y_train, y_test = train_test_split(model_df[:,0:2], model_df[:,2], test_size=0.1, random_state=42)\n",
    "        \n",
    "    #Fit regressor\n",
    "    reg_CV = grid_reg(X_train, X_test,y_train,y_test, PolynomialRegression() ,parameters_poly)"
   ]
  },
  {
   "cell_type": "code",
   "execution_count": 30,
   "metadata": {},
   "outputs": [
    {
     "data": {
      "text/plain": [
       "3"
      ]
     },
     "execution_count": 30,
     "metadata": {},
     "output_type": "execute_result"
    }
   ],
   "source": [
    "reg_CV.best_params_['polynomialfeatures__degree']\n"
   ]
  },
  {
   "cell_type": "code",
   "execution_count": 45,
   "metadata": {},
   "outputs": [
    {
     "ename": "NameError",
     "evalue": "name 'fig' is not defined",
     "output_type": "error",
     "traceback": [
      "\u001b[1;31m---------------------------------------------------------------------------\u001b[0m",
      "\u001b[1;31mNameError\u001b[0m                                 Traceback (most recent call last)",
      "\u001b[1;32m<ipython-input-45-1ea443f9a38c>\u001b[0m in \u001b[0;36m<module>\u001b[1;34m()\u001b[0m\n\u001b[1;32m----> 1\u001b[1;33m \u001b[0max\u001b[0m \u001b[1;33m=\u001b[0m \u001b[0mfig\u001b[0m\u001b[1;33m.\u001b[0m\u001b[0madd_subplot\u001b[0m\u001b[1;33m(\u001b[0m\u001b[1;36m111\u001b[0m\u001b[1;33m,\u001b[0m \u001b[0mprojection\u001b[0m \u001b[1;33m=\u001b[0m \u001b[1;34m'3d'\u001b[0m\u001b[1;33m)\u001b[0m\u001b[1;33m\u001b[0m\u001b[0m\n\u001b[0m\u001b[0;32m      2\u001b[0m \u001b[0mplt\u001b[0m\u001b[1;33m.\u001b[0m\u001b[0mplot\u001b[0m\u001b[1;33m(\u001b[0m\u001b[0mX_train\u001b[0m\u001b[1;33m[\u001b[0m\u001b[1;36m0\u001b[0m\u001b[1;33m]\u001b[0m\u001b[1;33m,\u001b[0m\u001b[0mX_train\u001b[0m\u001b[1;33m[\u001b[0m\u001b[1;36m1\u001b[0m\u001b[1;33m]\u001b[0m\u001b[1;33m,\u001b[0m\u001b[0my_test\u001b[0m\u001b[1;33m)\u001b[0m\u001b[1;33m\u001b[0m\u001b[0m\n",
      "\u001b[1;31mNameError\u001b[0m: name 'fig' is not defined"
     ]
    }
   ],
   "source": [
    "ax = fig.add_subplot(111, projection = '3d')\n",
    "plt.plot(X_train[0],X_train[1],y_test)\n"
   ]
  },
  {
   "cell_type": "code",
   "execution_count": 43,
   "metadata": {},
   "outputs": [],
   "source": [
    "X_train, X_test, y_train, y_test = train_test_split(model_df[:,0:2], model_df[:,2], test_size=0.1, random_state=42)"
   ]
  },
  {
   "cell_type": "code",
   "execution_count": 40,
   "metadata": {},
   "outputs": [
    {
     "data": {
      "text/plain": [
       "array([[-2.13527454, -2.00420151],\n",
       "       [-2.13527454, -2.00420151],\n",
       "       [ 1.71970366,  0.89150537],\n",
       "       [ 1.51873323,  1.6496873 ],\n",
       "       [ 1.47366713,  1.60492716],\n",
       "       [ 1.42738303,  1.55834008],\n",
       "       [ 1.33603284,  1.46699286],\n",
       "       [ 1.24468265,  1.37564564],\n",
       "       [ 1.51873323,  0.7362151 ],\n",
       "       [ 1.15333245,  1.28429842],\n",
       "       [ 1.51873323,  0.7362151 ],\n",
       "       [ 1.06198226,  1.1929512 ],\n",
       "       [ 1.3177628 ,  0.58092482],\n",
       "       [ 1.42129302,  0.42563455],\n",
       "       [ 0.97063206,  1.10160398],\n",
       "       [ 0.97063206,  1.10160398],\n",
       "       [ 1.3177628 ,  0.58092482],\n",
       "       [ 1.42129302,  0.42563455],\n",
       "       [ 0.87928187,  1.01025676],\n",
       "       [ 1.11070236,  0.43476927],\n",
       "       [ 0.78793168,  0.91890954],\n",
       "       [ 1.11070236,  0.43476927],\n",
       "       [ 0.26419056,  1.29343314],\n",
       "       [-0.30827066,  1.6496873 ],\n",
       "       [ 0.30073064,  0.7362151 ],\n",
       "       [ 0.14848032,  0.50784705],\n",
       "       [-0.30827066,  0.7362151 ],\n",
       "       [ 0.30073064, -0.17725711],\n",
       "       [-0.88438588,  1.34367411],\n",
       "       [ 0.0449501 , -0.20466127],\n",
       "       [-0.58110324,  0.28404636],\n",
       "       [-0.30827066, -0.17725711],\n",
       "       [-0.30827066, -0.17725711],\n",
       "       [-0.30827066, -0.17725711],\n",
       "       [-0.6127713 ,  0.27947899],\n",
       "       [-0.05066311, -0.86144778],\n",
       "       [-0.1864704 , -1.27342375],\n",
       "       [-0.50924108, -0.78928348],\n",
       "       [-0.91727195, -0.17725711],\n",
       "       [-1.07561229,  0.06024567],\n",
       "       [-0.30827066, -1.09072931],\n",
       "       [-0.30827066, -1.09072931],\n",
       "       [-0.1864704 , -1.27342375],\n",
       "       [-0.51106809, -0.78654306],\n",
       "       [-0.91727195, -0.17725711],\n",
       "       [-0.76502163, -0.40562516],\n",
       "       [-0.30827066, -1.09072931],\n",
       "       [-0.13775029, -1.45611819],\n",
       "       [-0.30827066, -1.54746541],\n",
       "       [-0.18038038, -1.73929457],\n",
       "       [-0.91727195, -0.17725711],\n",
       "       [-0.91727195, -0.17725711],\n",
       "       [-1.07561229,  0.06024567],\n",
       "       [-0.91727195, -0.17725711],\n",
       "       [-0.50924108, -0.78928348],\n",
       "       [-0.1864704 , -1.27342375],\n",
       "       [-0.30827066, -1.09072931],\n",
       "       [-1.2217726 , -0.63399321],\n",
       "       [-1.2217726 , -0.63399321],\n",
       "       [-1.52627324, -1.09072931],\n",
       "       [-1.52627324, -1.09072931],\n",
       "       [-1.52627324, -1.09072931],\n",
       "       [ 0.07418216,  0.44390399]])"
      ]
     },
     "execution_count": 40,
     "metadata": {},
     "output_type": "execute_result"
    }
   ],
   "source": [
    "model_df[:,0:2]"
   ]
  },
  {
   "cell_type": "markdown",
   "metadata": {},
   "source": [
    "## Gaussian Process Regression"
   ]
  },
  {
   "cell_type": "code",
   "execution_count": null,
   "metadata": {
    "collapsed": true
   },
   "outputs": [],
   "source": []
  },
  {
   "cell_type": "code",
   "execution_count": null,
   "metadata": {
    "collapsed": true
   },
   "outputs": [],
   "source": []
  },
  {
   "cell_type": "code",
   "execution_count": null,
   "metadata": {
    "collapsed": true
   },
   "outputs": [],
   "source": []
  },
  {
   "cell_type": "code",
   "execution_count": null,
   "metadata": {
    "collapsed": true
   },
   "outputs": [],
   "source": []
  },
  {
   "cell_type": "code",
   "execution_count": null,
   "metadata": {
    "collapsed": true
   },
   "outputs": [],
   "source": []
  },
  {
   "cell_type": "code",
   "execution_count": null,
   "metadata": {
    "collapsed": true
   },
   "outputs": [],
   "source": []
  },
  {
   "cell_type": "markdown",
   "metadata": {},
   "source": [
    "## Molar Volume"
   ]
  },
  {
   "cell_type": "code",
   "execution_count": 88,
   "metadata": {
    "collapsed": true
   },
   "outputs": [],
   "source": [
    "colext = ColumnExtractor(['CaO', 'Al2O3', 'molar_volume'])\n",
    "mv = colext.fit_transform(cas_clean)\n",
    "X_train, X_test, y_train, y_test = train_test_split(mv[:,0:1], mv[:,2], test_size=0.33, random_state=42)"
   ]
  },
  {
   "cell_type": "code",
   "execution_count": 85,
   "metadata": {
    "scrolled": true
   },
   "outputs": [
    {
     "name": "stdout",
     "output_type": "stream",
     "text": [
      "Performing grid search...\n",
      "parameters:\n",
      "{'alpha': [0.1, 5, 10, 15, 20, 100]}\n",
      "done in 0.054s\n",
      "\n",
      "Best CV score: 0.263\n",
      "Best parameters set:\n",
      "\talpha: 0.1\n",
      "Test score with best_estimator_: 0.279\n",
      "\n",
      "\n"
     ]
    }
   ],
   "source": [
    "ridgereg_CV = grid_reg(X_train, X_test,y_train,y_test, ridgereg,parameters_ridge)"
   ]
  },
  {
   "cell_type": "code",
   "execution_count": 81,
   "metadata": {},
   "outputs": [
    {
     "name": "stderr",
     "output_type": "stream",
     "text": [
      "C:\\Users\\Ung Lik Teng\\Anaconda3\\lib\\site-packages\\sklearn\\utils\\deprecation.py:122: FutureWarning: You are accessing a training score ('mean_train_neg_mean_squared_error'), which will not be available by default any more in 0.21. If you need training scores, please set return_train_score=True\n",
      "  warnings.warn(*warn_args, **warn_kwargs)\n",
      "C:\\Users\\Ung Lik Teng\\Anaconda3\\lib\\site-packages\\sklearn\\utils\\deprecation.py:122: FutureWarning: You are accessing a training score ('mean_train_r2'), which will not be available by default any more in 0.21. If you need training scores, please set return_train_score=True\n",
      "  warnings.warn(*warn_args, **warn_kwargs)\n",
      "C:\\Users\\Ung Lik Teng\\Anaconda3\\lib\\site-packages\\sklearn\\utils\\deprecation.py:122: FutureWarning: You are accessing a training score ('split0_train_neg_mean_squared_error'), which will not be available by default any more in 0.21. If you need training scores, please set return_train_score=True\n",
      "  warnings.warn(*warn_args, **warn_kwargs)\n",
      "C:\\Users\\Ung Lik Teng\\Anaconda3\\lib\\site-packages\\sklearn\\utils\\deprecation.py:122: FutureWarning: You are accessing a training score ('split0_train_r2'), which will not be available by default any more in 0.21. If you need training scores, please set return_train_score=True\n",
      "  warnings.warn(*warn_args, **warn_kwargs)\n",
      "C:\\Users\\Ung Lik Teng\\Anaconda3\\lib\\site-packages\\sklearn\\utils\\deprecation.py:122: FutureWarning: You are accessing a training score ('split1_train_neg_mean_squared_error'), which will not be available by default any more in 0.21. If you need training scores, please set return_train_score=True\n",
      "  warnings.warn(*warn_args, **warn_kwargs)\n",
      "C:\\Users\\Ung Lik Teng\\Anaconda3\\lib\\site-packages\\sklearn\\utils\\deprecation.py:122: FutureWarning: You are accessing a training score ('split1_train_r2'), which will not be available by default any more in 0.21. If you need training scores, please set return_train_score=True\n",
      "  warnings.warn(*warn_args, **warn_kwargs)\n",
      "C:\\Users\\Ung Lik Teng\\Anaconda3\\lib\\site-packages\\sklearn\\utils\\deprecation.py:122: FutureWarning: You are accessing a training score ('split2_train_neg_mean_squared_error'), which will not be available by default any more in 0.21. If you need training scores, please set return_train_score=True\n",
      "  warnings.warn(*warn_args, **warn_kwargs)\n",
      "C:\\Users\\Ung Lik Teng\\Anaconda3\\lib\\site-packages\\sklearn\\utils\\deprecation.py:122: FutureWarning: You are accessing a training score ('split2_train_r2'), which will not be available by default any more in 0.21. If you need training scores, please set return_train_score=True\n",
      "  warnings.warn(*warn_args, **warn_kwargs)\n",
      "C:\\Users\\Ung Lik Teng\\Anaconda3\\lib\\site-packages\\sklearn\\utils\\deprecation.py:122: FutureWarning: You are accessing a training score ('split3_train_neg_mean_squared_error'), which will not be available by default any more in 0.21. If you need training scores, please set return_train_score=True\n",
      "  warnings.warn(*warn_args, **warn_kwargs)\n",
      "C:\\Users\\Ung Lik Teng\\Anaconda3\\lib\\site-packages\\sklearn\\utils\\deprecation.py:122: FutureWarning: You are accessing a training score ('split3_train_r2'), which will not be available by default any more in 0.21. If you need training scores, please set return_train_score=True\n",
      "  warnings.warn(*warn_args, **warn_kwargs)\n",
      "C:\\Users\\Ung Lik Teng\\Anaconda3\\lib\\site-packages\\sklearn\\utils\\deprecation.py:122: FutureWarning: You are accessing a training score ('split4_train_neg_mean_squared_error'), which will not be available by default any more in 0.21. If you need training scores, please set return_train_score=True\n",
      "  warnings.warn(*warn_args, **warn_kwargs)\n",
      "C:\\Users\\Ung Lik Teng\\Anaconda3\\lib\\site-packages\\sklearn\\utils\\deprecation.py:122: FutureWarning: You are accessing a training score ('split4_train_r2'), which will not be available by default any more in 0.21. If you need training scores, please set return_train_score=True\n",
      "  warnings.warn(*warn_args, **warn_kwargs)\n",
      "C:\\Users\\Ung Lik Teng\\Anaconda3\\lib\\site-packages\\sklearn\\utils\\deprecation.py:122: FutureWarning: You are accessing a training score ('std_train_neg_mean_squared_error'), which will not be available by default any more in 0.21. If you need training scores, please set return_train_score=True\n",
      "  warnings.warn(*warn_args, **warn_kwargs)\n",
      "C:\\Users\\Ung Lik Teng\\Anaconda3\\lib\\site-packages\\sklearn\\utils\\deprecation.py:122: FutureWarning: You are accessing a training score ('std_train_r2'), which will not be available by default any more in 0.21. If you need training scores, please set return_train_score=True\n",
      "  warnings.warn(*warn_args, **warn_kwargs)\n"
     ]
    },
    {
     "data": {
      "image/png": "[encoded data removed]",
      "text/plain": [
       "<matplotlib.figure.Figure at 0x1d2d076e0f0>"
      ]
     },
     "metadata": {},
     "output_type": "display_data"
    }
   ],
   "source": [
    "results = pd.DataFrame(ridgereg_CV.cv_results_)\n",
    "\n",
    "plt.plot(results['param_alpha'], results['mean_test_r2'], 'g-', alpha=0.4)\n",
    "plt.text(0,0.667, ' Best-score = {}'.format(round(float(ridgereg_CV.best_score_), 2)))\n",
    "plt.text(0,0.666, ' Optimal alpha = {}'.format(ridgereg_CV.best_params_))\n",
    "plt.xlabel(\"Alpha\")\n",
    "plt.ylabel(\"Mean test score\")\n",
    "plt.title('GridsearchCV RidgeRegressor (CV=10)')\n",
    "plt.show()"
   ]
  },
  {
   "cell_type": "code",
   "execution_count": 90,
   "metadata": {},
   "outputs": [
    {
     "data": {
      "text/html": [
       "<div>\n",
       "<style scoped>\n",
       "    .dataframe tbody tr th:only-of-type {\n",
       "        vertical-align: middle;\n",
       "    }\n",
       "\n",
       "    .dataframe tbody tr th {\n",
       "        vertical-align: top;\n",
       "    }\n",
       "\n",
       "    .dataframe thead th {\n",
       "        text-align: right;\n",
       "    }\n",
       "</style>\n",
       "<table border=\"1\" class=\"dataframe\">\n",
       "  <thead>\n",
       "    <tr style=\"text-align: right;\">\n",
       "      <th></th>\n",
       "      <th>mean_fit_time</th>\n",
       "      <th>mean_score_time</th>\n",
       "      <th>mean_test_neg_mean_squared_error</th>\n",
       "      <th>mean_test_r2</th>\n",
       "      <th>mean_train_neg_mean_squared_error</th>\n",
       "      <th>mean_train_r2</th>\n",
       "      <th>param_alpha</th>\n",
       "      <th>params</th>\n",
       "      <th>rank_test_neg_mean_squared_error</th>\n",
       "      <th>rank_test_r2</th>\n",
       "      <th>...</th>\n",
       "      <th>split4_test_neg_mean_squared_error</th>\n",
       "      <th>split4_test_r2</th>\n",
       "      <th>split4_train_neg_mean_squared_error</th>\n",
       "      <th>split4_train_r2</th>\n",
       "      <th>std_fit_time</th>\n",
       "      <th>std_score_time</th>\n",
       "      <th>std_test_neg_mean_squared_error</th>\n",
       "      <th>std_test_r2</th>\n",
       "      <th>std_train_neg_mean_squared_error</th>\n",
       "      <th>std_train_r2</th>\n",
       "    </tr>\n",
       "  </thead>\n",
       "  <tbody>\n",
       "    <tr>\n",
       "      <th>0</th>\n",
       "      <td>0.000705</td>\n",
       "      <td>0.000397</td>\n",
       "      <td>-0.691690</td>\n",
       "      <td>0.263242</td>\n",
       "      <td>-0.679500</td>\n",
       "      <td>0.287775</td>\n",
       "      <td>0.1</td>\n",
       "      <td>{'alpha': 0.1}</td>\n",
       "      <td>1</td>\n",
       "      <td>1</td>\n",
       "      <td>...</td>\n",
       "      <td>-0.600680</td>\n",
       "      <td>0.283239</td>\n",
       "      <td>-0.701583</td>\n",
       "      <td>0.284972</td>\n",
       "      <td>5.101621e-04</td>\n",
       "      <td>1.987465e-04</td>\n",
       "      <td>0.097488</td>\n",
       "      <td>0.070929</td>\n",
       "      <td>0.024177</td>\n",
       "      <td>0.017771</td>\n",
       "    </tr>\n",
       "    <tr>\n",
       "      <th>1</th>\n",
       "      <td>0.000502</td>\n",
       "      <td>0.000200</td>\n",
       "      <td>-0.691786</td>\n",
       "      <td>0.263219</td>\n",
       "      <td>-0.679666</td>\n",
       "      <td>0.287601</td>\n",
       "      <td>5</td>\n",
       "      <td>{'alpha': 5}</td>\n",
       "      <td>2</td>\n",
       "      <td>2</td>\n",
       "      <td>...</td>\n",
       "      <td>-0.598429</td>\n",
       "      <td>0.285926</td>\n",
       "      <td>-0.701768</td>\n",
       "      <td>0.284783</td>\n",
       "      <td>9.416779e-07</td>\n",
       "      <td>2.455154e-04</td>\n",
       "      <td>0.097520</td>\n",
       "      <td>0.070300</td>\n",
       "      <td>0.024183</td>\n",
       "      <td>0.017770</td>\n",
       "    </tr>\n",
       "    <tr>\n",
       "      <th>2</th>\n",
       "      <td>0.000601</td>\n",
       "      <td>0.000501</td>\n",
       "      <td>-0.692193</td>\n",
       "      <td>0.262857</td>\n",
       "      <td>-0.680134</td>\n",
       "      <td>0.287111</td>\n",
       "      <td>10</td>\n",
       "      <td>{'alpha': 10}</td>\n",
       "      <td>3</td>\n",
       "      <td>3</td>\n",
       "      <td>...</td>\n",
       "      <td>-0.596671</td>\n",
       "      <td>0.288024</td>\n",
       "      <td>-0.702287</td>\n",
       "      <td>0.284254</td>\n",
       "      <td>2.006534e-04</td>\n",
       "      <td>1.154301e-06</td>\n",
       "      <td>0.097517</td>\n",
       "      <td>0.069680</td>\n",
       "      <td>0.024197</td>\n",
       "      <td>0.017764</td>\n",
       "    </tr>\n",
       "    <tr>\n",
       "      <th>3</th>\n",
       "      <td>0.000502</td>\n",
       "      <td>0.000502</td>\n",
       "      <td>-0.692868</td>\n",
       "      <td>0.262199</td>\n",
       "      <td>-0.680860</td>\n",
       "      <td>0.286351</td>\n",
       "      <td>15</td>\n",
       "      <td>{'alpha': 15}</td>\n",
       "      <td>4</td>\n",
       "      <td>4</td>\n",
       "      <td>...</td>\n",
       "      <td>-0.595387</td>\n",
       "      <td>0.289556</td>\n",
       "      <td>-0.703091</td>\n",
       "      <td>0.283436</td>\n",
       "      <td>3.173360e-04</td>\n",
       "      <td>4.156970e-07</td>\n",
       "      <td>0.097483</td>\n",
       "      <td>0.069078</td>\n",
       "      <td>0.024219</td>\n",
       "      <td>0.017754</td>\n",
       "    </tr>\n",
       "    <tr>\n",
       "      <th>4</th>\n",
       "      <td>0.000502</td>\n",
       "      <td>0.000200</td>\n",
       "      <td>-0.693772</td>\n",
       "      <td>0.261287</td>\n",
       "      <td>-0.681808</td>\n",
       "      <td>0.285358</td>\n",
       "      <td>20</td>\n",
       "      <td>{'alpha': 20}</td>\n",
       "      <td>5</td>\n",
       "      <td>5</td>\n",
       "      <td>...</td>\n",
       "      <td>-0.594515</td>\n",
       "      <td>0.290596</td>\n",
       "      <td>-0.704137</td>\n",
       "      <td>0.282370</td>\n",
       "      <td>1.571394e-06</td>\n",
       "      <td>2.454582e-04</td>\n",
       "      <td>0.097420</td>\n",
       "      <td>0.068491</td>\n",
       "      <td>0.024245</td>\n",
       "      <td>0.017740</td>\n",
       "    </tr>\n",
       "    <tr>\n",
       "      <th>5</th>\n",
       "      <td>0.000200</td>\n",
       "      <td>0.000301</td>\n",
       "      <td>-0.722107</td>\n",
       "      <td>0.231299</td>\n",
       "      <td>-0.710357</td>\n",
       "      <td>0.255445</td>\n",
       "      <td>100</td>\n",
       "      <td>{'alpha': 100}</td>\n",
       "      <td>6</td>\n",
       "      <td>6</td>\n",
       "      <td>...</td>\n",
       "      <td>-0.608505</td>\n",
       "      <td>0.273903</td>\n",
       "      <td>-0.734995</td>\n",
       "      <td>0.250920</td>\n",
       "      <td>2.455152e-04</td>\n",
       "      <td>2.457490e-04</td>\n",
       "      <td>0.094740</td>\n",
       "      <td>0.060357</td>\n",
       "      <td>0.024603</td>\n",
       "      <td>0.016973</td>\n",
       "    </tr>\n",
       "  </tbody>\n",
       "</table>\n",
       "<p>6 rows × 36 columns</p>\n",
       "</div>"
      ],
      "text/plain": [
       "   mean_fit_time  mean_score_time  mean_test_neg_mean_squared_error  \\\n",
       "0       0.000705         0.000397                         -0.691690   \n",
       "1       0.000502         0.000200                         -0.691786   \n",
       "2       0.000601         0.000501                         -0.692193   \n",
       "3       0.000502         0.000502                         -0.692868   \n",
       "4       0.000502         0.000200                         -0.693772   \n",
       "5       0.000200         0.000301                         -0.722107   \n",
       "\n",
       "   mean_test_r2  mean_train_neg_mean_squared_error  mean_train_r2 param_alpha  \\\n",
       "0      0.263242                          -0.679500       0.287775         0.1   \n",
       "1      0.263219                          -0.679666       0.287601           5   \n",
       "2      0.262857                          -0.680134       0.287111          10   \n",
       "3      0.262199                          -0.680860       0.286351          15   \n",
       "4      0.261287                          -0.681808       0.285358          20   \n",
       "5      0.231299                          -0.710357       0.255445         100   \n",
       "\n",
       "           params  rank_test_neg_mean_squared_error  rank_test_r2  \\\n",
       "0  {'alpha': 0.1}                                 1             1   \n",
       "1    {'alpha': 5}                                 2             2   \n",
       "2   {'alpha': 10}                                 3             3   \n",
       "3   {'alpha': 15}                                 4             4   \n",
       "4   {'alpha': 20}                                 5             5   \n",
       "5  {'alpha': 100}                                 6             6   \n",
       "\n",
       "       ...       split4_test_neg_mean_squared_error  split4_test_r2  \\\n",
       "0      ...                                -0.600680        0.283239   \n",
       "1      ...                                -0.598429        0.285926   \n",
       "2      ...                                -0.596671        0.288024   \n",
       "3      ...                                -0.595387        0.289556   \n",
       "4      ...                                -0.594515        0.290596   \n",
       "5      ...                                -0.608505        0.273903   \n",
       "\n",
       "   split4_train_neg_mean_squared_error  split4_train_r2  std_fit_time  \\\n",
       "0                            -0.701583         0.284972  5.101621e-04   \n",
       "1                            -0.701768         0.284783  9.416779e-07   \n",
       "2                            -0.702287         0.284254  2.006534e-04   \n",
       "3                            -0.703091         0.283436  3.173360e-04   \n",
       "4                            -0.704137         0.282370  1.571394e-06   \n",
       "5                            -0.734995         0.250920  2.455152e-04   \n",
       "\n",
       "   std_score_time  std_test_neg_mean_squared_error  std_test_r2  \\\n",
       "0    1.987465e-04                         0.097488     0.070929   \n",
       "1    2.455154e-04                         0.097520     0.070300   \n",
       "2    1.154301e-06                         0.097517     0.069680   \n",
       "3    4.156970e-07                         0.097483     0.069078   \n",
       "4    2.454582e-04                         0.097420     0.068491   \n",
       "5    2.457490e-04                         0.094740     0.060357   \n",
       "\n",
       "   std_train_neg_mean_squared_error  std_train_r2  \n",
       "0                          0.024177      0.017771  \n",
       "1                          0.024183      0.017770  \n",
       "2                          0.024197      0.017764  \n",
       "3                          0.024219      0.017754  \n",
       "4                          0.024245      0.017740  \n",
       "5                          0.024603      0.016973  \n",
       "\n",
       "[6 rows x 36 columns]"
      ]
     },
     "execution_count": 90,
     "metadata": {},
     "output_type": "execute_result"
    }
   ],
   "source": [
    "results"
   ]
  },
  {
   "cell_type": "markdown",
   "metadata": {},
   "source": [
    "## Density"
   ]
  },
  {
   "cell_type": "code",
   "execution_count": 20,
   "metadata": {
    "collapsed": true
   },
   "outputs": [],
   "source": [
    "colext = ColumnExtractor(['CaO', 'Al2O3', 'density'])\n",
    "density = colext.fit_transform(cas_clean)\n",
    "X_train, X_test, y_train, y_test = train_test_split(density[:,0:1], density[:,2], test_size=0.1, random_state=42)"
   ]
  },
  {
   "cell_type": "code",
   "execution_count": 49,
   "metadata": {},
   "outputs": [
    {
     "name": "stdout",
     "output_type": "stream",
     "text": [
      "Performing grid search...\n",
      "parameters:\n",
      "{'alpha': [0.1, 5, 10, 15, 20, 100]}\n",
      "Fitting 5 folds for each of 6 candidates, totalling 30 fits\n",
      "done in 0.065s\n",
      "\n",
      "Best CV score: 0.803\n",
      "Best parameters set:\n",
      "\talpha: 5\n",
      "Test score with best_estimator_: 0.814\n",
      "\n",
      "\n"
     ]
    },
    {
     "name": "stderr",
     "output_type": "stream",
     "text": [
      "[Parallel(n_jobs=1)]: Done  30 out of  30 | elapsed:    0.0s finished\n"
     ]
    }
   ],
   "source": [
    "ridgereg_CV = grid_reg(X_train, X_test,y_train,y_test, ridgereg,parameters_ridge)"
   ]
  },
  {
   "cell_type": "code",
   "execution_count": 37,
   "metadata": {
    "collapsed": true
   },
   "outputs": [],
   "source": [
    "predict = ridgereg_CV.best_estimator_.predict(X_test)"
   ]
  },
  {
   "cell_type": "code",
   "execution_count": 53,
   "metadata": {},
   "outputs": [
    {
     "ename": "AttributeError",
     "evalue": "'Ridge' object has no attribute 'decision_function'",
     "output_type": "error",
     "traceback": [
      "\u001b[1;31m---------------------------------------------------------------------------\u001b[0m",
      "\u001b[1;31mAttributeError\u001b[0m                            Traceback (most recent call last)",
      "\u001b[1;32m<ipython-input-53-f5084fab03ed>\u001b[0m in \u001b[0;36m<module>\u001b[1;34m()\u001b[0m\n\u001b[1;32m----> 1\u001b[1;33m \u001b[0mridgereg_CV\u001b[0m\u001b[1;33m.\u001b[0m\u001b[0mdecision_function\u001b[0m\u001b[1;33m(\u001b[0m\u001b[0mX_test\u001b[0m\u001b[1;33m)\u001b[0m\u001b[1;33m\u001b[0m\u001b[0m\n\u001b[0m",
      "\u001b[1;32m~\\Anaconda3\\lib\\site-packages\\sklearn\\utils\\metaestimators.py\u001b[0m in \u001b[0;36m__get__\u001b[1;34m(self, obj, type)\u001b[0m\n\u001b[0;32m    107\u001b[0m                     \u001b[1;32mcontinue\u001b[0m\u001b[1;33m\u001b[0m\u001b[0m\n\u001b[0;32m    108\u001b[0m                 \u001b[1;32melse\u001b[0m\u001b[1;33m:\u001b[0m\u001b[1;33m\u001b[0m\u001b[0m\n\u001b[1;32m--> 109\u001b[1;33m                     \u001b[0mgetattr\u001b[0m\u001b[1;33m(\u001b[0m\u001b[0mdelegate\u001b[0m\u001b[1;33m,\u001b[0m \u001b[0mself\u001b[0m\u001b[1;33m.\u001b[0m\u001b[0mattribute_name\u001b[0m\u001b[1;33m)\u001b[0m\u001b[1;33m\u001b[0m\u001b[0m\n\u001b[0m\u001b[0;32m    110\u001b[0m                     \u001b[1;32mbreak\u001b[0m\u001b[1;33m\u001b[0m\u001b[0m\n\u001b[0;32m    111\u001b[0m             \u001b[1;32melse\u001b[0m\u001b[1;33m:\u001b[0m\u001b[1;33m\u001b[0m\u001b[0m\n",
      "\u001b[1;31mAttributeError\u001b[0m: 'Ridge' object has no attribute 'decision_function'"
     ]
    }
   ],
   "source": []
  },
  {
   "cell_type": "code",
   "execution_count": 41,
   "metadata": {},
   "outputs": [
    {
     "data": {
      "text/plain": [
       "<matplotlib.collections.PathCollection at 0x165a3565f28>"
      ]
     },
     "execution_count": 41,
     "metadata": {},
     "output_type": "execute_result"
    },
    {
     "data": {
      "image/png": "[encoded data removed]",
      "text/plain": [
       "<matplotlib.figure.Figure at 0x165a338aa20>"
      ]
     },
     "metadata": {},
     "output_type": "display_data"
    }
   ],
   "source": [
    "plt.scatter(predict,y_test)"
   ]
  },
  {
   "cell_type": "markdown",
   "metadata": {},
   "source": [
    "# Young's Modulus"
   ]
  },
  {
   "cell_type": "code",
   "execution_count": 95,
   "metadata": {
    "collapsed": true
   },
   "outputs": [],
   "source": [
    "colext = ColumnExtractor(['CaO', 'Al2O3', 'youngs_modulus'])\n",
    "ym = colext.fit_transform(cas_clean)\n",
    "X_train, X_test, y_train, y_test = train_test_split(ym[:,0:1], ym[:,2], test_size=0.1, random_state=42)"
   ]
  },
  {
   "cell_type": "code",
   "execution_count": 97,
   "metadata": {},
   "outputs": [
    {
     "name": "stdout",
     "output_type": "stream",
     "text": [
      "Performing grid search...\n",
      "parameters:\n",
      "{'alpha': [0.1, 5, 10, 15, 20, 100]}\n",
      "done in 0.070s\n",
      "\n",
      "Best CV score: 0.295\n",
      "Best parameters set:\n",
      "\talpha: 5\n",
      "Test score with best_estimator_: 0.723\n",
      "\n",
      "\n"
     ]
    }
   ],
   "source": [
    "ridgereg_CV = grid_reg(X_train, X_test,y_train,y_test, ridgereg,parameters_ridge)"
   ]
  },
  {
   "cell_type": "code",
   "execution_count": null,
   "metadata": {
    "collapsed": true
   },
   "outputs": [],
   "source": []
  },
  {
   "cell_type": "code",
   "execution_count": 7,
   "metadata": {
    "collapsed": true
   },
   "outputs": [],
   "source": [
    "from sklearn.linear_model import Ridge, RidgeCV, ElasticNet, LassoCV, LassoLarsCV\n",
    "from sklearn.model_selection import cross_val_score\n",
    "\n",
    "def rmse_cv(model):\n",
    "    rmse= np.sqrt(-cross_val_score(model, X_train, y, scoring=\"neg_mean_squared_error\", cv = 5))\n",
    "    return(rmse)"
   ]
  },
  {
   "cell_type": "code",
   "execution_count": 8,
   "metadata": {
    "collapsed": true
   },
   "outputs": [],
   "source": [
    "ridge_model = Ridge()"
   ]
  },
  {
   "cell_type": "code",
   "execution_count": 9,
   "metadata": {},
   "outputs": [
    {
     "ename": "NameError",
     "evalue": "name 'X_train' is not defined",
     "output_type": "error",
     "traceback": [
      "\u001b[1;31m---------------------------------------------------------------------------\u001b[0m",
      "\u001b[1;31mNameError\u001b[0m                                 Traceback (most recent call last)",
      "\u001b[1;32m<ipython-input-9-f0155afd1db9>\u001b[0m in \u001b[0;36m<module>\u001b[1;34m()\u001b[0m\n\u001b[0;32m      1\u001b[0m \u001b[0malphas\u001b[0m \u001b[1;33m=\u001b[0m \u001b[1;33m[\u001b[0m\u001b[1;36m0.05\u001b[0m\u001b[1;33m,\u001b[0m \u001b[1;36m0.1\u001b[0m\u001b[1;33m,\u001b[0m \u001b[1;36m0.3\u001b[0m\u001b[1;33m,\u001b[0m \u001b[1;36m1\u001b[0m\u001b[1;33m,\u001b[0m \u001b[1;36m3\u001b[0m\u001b[1;33m,\u001b[0m \u001b[1;36m5\u001b[0m\u001b[1;33m,\u001b[0m \u001b[1;36m10\u001b[0m\u001b[1;33m,\u001b[0m \u001b[1;36m15\u001b[0m\u001b[1;33m,\u001b[0m \u001b[1;36m30\u001b[0m\u001b[1;33m,\u001b[0m \u001b[1;36m50\u001b[0m\u001b[1;33m,\u001b[0m \u001b[1;36m75\u001b[0m\u001b[1;33m]\u001b[0m\u001b[1;33m\u001b[0m\u001b[0m\n\u001b[0;32m      2\u001b[0m cv_ridge = [rmse_cv(Ridge(alpha = alpha)).mean() \n\u001b[1;32m----> 3\u001b[1;33m             for alpha in alphas]\n\u001b[0m",
      "\u001b[1;32m<ipython-input-9-f0155afd1db9>\u001b[0m in \u001b[0;36m<listcomp>\u001b[1;34m(.0)\u001b[0m\n\u001b[0;32m      1\u001b[0m \u001b[0malphas\u001b[0m \u001b[1;33m=\u001b[0m \u001b[1;33m[\u001b[0m\u001b[1;36m0.05\u001b[0m\u001b[1;33m,\u001b[0m \u001b[1;36m0.1\u001b[0m\u001b[1;33m,\u001b[0m \u001b[1;36m0.3\u001b[0m\u001b[1;33m,\u001b[0m \u001b[1;36m1\u001b[0m\u001b[1;33m,\u001b[0m \u001b[1;36m3\u001b[0m\u001b[1;33m,\u001b[0m \u001b[1;36m5\u001b[0m\u001b[1;33m,\u001b[0m \u001b[1;36m10\u001b[0m\u001b[1;33m,\u001b[0m \u001b[1;36m15\u001b[0m\u001b[1;33m,\u001b[0m \u001b[1;36m30\u001b[0m\u001b[1;33m,\u001b[0m \u001b[1;36m50\u001b[0m\u001b[1;33m,\u001b[0m \u001b[1;36m75\u001b[0m\u001b[1;33m]\u001b[0m\u001b[1;33m\u001b[0m\u001b[0m\n\u001b[0;32m      2\u001b[0m cv_ridge = [rmse_cv(Ridge(alpha = alpha)).mean() \n\u001b[1;32m----> 3\u001b[1;33m             for alpha in alphas]\n\u001b[0m",
      "\u001b[1;32m<ipython-input-7-3f33c98ee18e>\u001b[0m in \u001b[0;36mrmse_cv\u001b[1;34m(model)\u001b[0m\n\u001b[0;32m      3\u001b[0m \u001b[1;33m\u001b[0m\u001b[0m\n\u001b[0;32m      4\u001b[0m \u001b[1;32mdef\u001b[0m \u001b[0mrmse_cv\u001b[0m\u001b[1;33m(\u001b[0m\u001b[0mmodel\u001b[0m\u001b[1;33m)\u001b[0m\u001b[1;33m:\u001b[0m\u001b[1;33m\u001b[0m\u001b[0m\n\u001b[1;32m----> 5\u001b[1;33m     \u001b[0mrmse\u001b[0m\u001b[1;33m=\u001b[0m \u001b[0mnp\u001b[0m\u001b[1;33m.\u001b[0m\u001b[0msqrt\u001b[0m\u001b[1;33m(\u001b[0m\u001b[1;33m-\u001b[0m\u001b[0mcross_val_score\u001b[0m\u001b[1;33m(\u001b[0m\u001b[0mmodel\u001b[0m\u001b[1;33m,\u001b[0m \u001b[0mX_train\u001b[0m\u001b[1;33m,\u001b[0m \u001b[0my\u001b[0m\u001b[1;33m,\u001b[0m \u001b[0mscoring\u001b[0m\u001b[1;33m=\u001b[0m\u001b[1;34m\"neg_mean_squared_error\"\u001b[0m\u001b[1;33m,\u001b[0m \u001b[0mcv\u001b[0m \u001b[1;33m=\u001b[0m \u001b[1;36m5\u001b[0m\u001b[1;33m)\u001b[0m\u001b[1;33m)\u001b[0m\u001b[1;33m\u001b[0m\u001b[0m\n\u001b[0m\u001b[0;32m      6\u001b[0m     \u001b[1;32mreturn\u001b[0m\u001b[1;33m(\u001b[0m\u001b[0mrmse\u001b[0m\u001b[1;33m)\u001b[0m\u001b[1;33m\u001b[0m\u001b[0m\n",
      "\u001b[1;31mNameError\u001b[0m: name 'X_train' is not defined"
     ]
    }
   ],
   "source": [
    "alphas = [0.05, 0.1, 0.3, 1, 3, 5, 10, 15, 30, 50, 75]\n",
    "cv_ridge = [rmse_cv(Ridge(alpha = alpha)).mean() \n",
    "            for alpha in alphas]"
   ]
  },
  {
   "cell_type": "code",
   "execution_count": 11,
   "metadata": {
    "collapsed": true
   },
   "outputs": [],
   "source": [
    "import xgboost as xgb"
   ]
  },
  {
   "cell_type": "code",
   "execution_count": null,
   "metadata": {
    "collapsed": true
   },
   "outputs": [],
   "source": []
  }
 ],
 "metadata": {
  "kernelspec": {
   "display_name": "Python 3",
   "language": "python",
   "name": "python3"
  },
  "language_info": {
   "codemirror_mode": {
    "name": "ipython",
    "version": 3
   },
   "file_extension": ".py",
   "mimetype": "text/x-python",
   "name": "python",
   "nbconvert_exporter": "python",
   "pygments_lexer": "ipython3",
   "version": "3.6.3"
  }
 },
 "nbformat": 4,
 "nbformat_minor": 2
}
